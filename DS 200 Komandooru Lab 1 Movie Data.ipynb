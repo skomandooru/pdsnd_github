{
  "nbformat": 4,
  "nbformat_minor": 0,
  "metadata": {
    "colab": {
      "name": "Komandooru_Lab 1: Movie data",
      "provenance": [],
      "collapsed_sections": [],
      "toc_visible": true,
      "include_colab_link": true
    },
    "kernelspec": {
      "display_name": "Python 3",
      "name": "python3"
    }
  },
  "cells": [
    {
      "cell_type": "markdown",
      "metadata": {
        "id": "view-in-github",
        "colab_type": "text"
      },
      "source": [
        "<a href=\"https://colab.research.google.com/github/skomandooru/pdsnd_github/blob/master/DS%20200%20Komandooru%20Lab%201%20Movie%20Data.ipynb\" target=\"_parent\"><img src=\"https://colab.research.google.com/assets/colab-badge.svg\" alt=\"Open In Colab\"/></a>"
      ]
    },
    {
      "cell_type": "markdown",
      "metadata": {
        "id": "DODgNiwXaIi6",
        "colab_type": "text"
      },
      "source": [
        "#Lab 1: Movies data\n",
        "## My name is Surya Komandooru\n",
        "### My partner's name is Donggeon Lee\n",
        "\n",
        "Rise and Shine \\\n",
        "Good Morning"
      ]
    },
    {
      "cell_type": "code",
      "metadata": {
        "id": "rzhQFcraaTSg",
        "colab_type": "code",
        "colab": {
          "base_uri": "https://localhost:8080/",
          "height": 34
        },
        "outputId": "57d44e6a-aaf0-4231-8e7c-6b52da40150d"
      },
      "source": [
        "a = 5\n",
        "b = 6\n",
        "a + 6\n",
        "a + b + 9"
      ],
      "execution_count": null,
      "outputs": [
        {
          "output_type": "execute_result",
          "data": {
            "text/plain": [
              "20"
            ]
          },
          "metadata": {
            "tags": []
          },
          "execution_count": 11
        }
      ]
    },
    {
      "cell_type": "code",
      "metadata": {
        "id": "85fULQKgaZyY",
        "colab_type": "code",
        "colab": {
          "base_uri": "https://localhost:8080/",
          "height": 802
        },
        "outputId": "b1394309-406a-4d92-a87d-c7c07ce28a2f"
      },
      "source": [
        "!pip install datascience"
      ],
      "execution_count": null,
      "outputs": [
        {
          "output_type": "stream",
          "text": [
            "Requirement already satisfied: datascience in /usr/local/lib/python3.6/dist-packages (0.10.6)\n",
            "Collecting folium==0.2.1\n",
            "\u001b[?25l  Downloading https://files.pythonhosted.org/packages/72/dd/75ced7437bfa7cb9a88b96ee0177953062803c3b4cde411a97d98c35adaf/folium-0.2.1.tar.gz (69kB)\n",
            "\u001b[K     |████████████████████████████████| 71kB 1.8MB/s \n",
            "\u001b[?25hRequirement already satisfied: sphinx in /usr/local/lib/python3.6/dist-packages (from datascience) (1.8.5)\n",
            "Requirement already satisfied: coverage==3.7.1 in /usr/local/lib/python3.6/dist-packages (from datascience) (3.7.1)\n",
            "Requirement already satisfied: coveralls==0.5 in /usr/local/lib/python3.6/dist-packages (from datascience) (0.5)\n",
            "Requirement already satisfied: setuptools in /usr/local/lib/python3.6/dist-packages (from datascience) (49.6.0)\n",
            "Requirement already satisfied: pytest in /usr/local/lib/python3.6/dist-packages (from datascience) (3.6.4)\n",
            "Requirement already satisfied: Jinja2 in /usr/local/lib/python3.6/dist-packages (from folium==0.2.1->datascience) (2.11.2)\n",
            "Requirement already satisfied: Pygments>=2.0 in /usr/local/lib/python3.6/dist-packages (from sphinx->datascience) (2.1.3)\n",
            "Requirement already satisfied: docutils>=0.11 in /usr/local/lib/python3.6/dist-packages (from sphinx->datascience) (0.15.2)\n",
            "Requirement already satisfied: imagesize in /usr/local/lib/python3.6/dist-packages (from sphinx->datascience) (1.2.0)\n",
            "Requirement already satisfied: snowballstemmer>=1.1 in /usr/local/lib/python3.6/dist-packages (from sphinx->datascience) (2.0.0)\n",
            "Requirement already satisfied: requests>=2.0.0 in /usr/local/lib/python3.6/dist-packages (from sphinx->datascience) (2.23.0)\n",
            "Requirement already satisfied: babel!=2.0,>=1.3 in /usr/local/lib/python3.6/dist-packages (from sphinx->datascience) (2.8.0)\n",
            "Requirement already satisfied: sphinxcontrib-websupport in /usr/local/lib/python3.6/dist-packages (from sphinx->datascience) (1.2.4)\n",
            "Requirement already satisfied: alabaster<0.8,>=0.7 in /usr/local/lib/python3.6/dist-packages (from sphinx->datascience) (0.7.12)\n",
            "Requirement already satisfied: packaging in /usr/local/lib/python3.6/dist-packages (from sphinx->datascience) (20.4)\n",
            "Requirement already satisfied: six>=1.5 in /usr/local/lib/python3.6/dist-packages (from sphinx->datascience) (1.15.0)\n",
            "Requirement already satisfied: PyYAML>=3.10 in /usr/local/lib/python3.6/dist-packages (from coveralls==0.5->datascience) (3.13)\n",
            "Requirement already satisfied: docopt>=0.6.1 in /usr/local/lib/python3.6/dist-packages (from coveralls==0.5->datascience) (0.6.2)\n",
            "Requirement already satisfied: py>=1.5.0 in /usr/local/lib/python3.6/dist-packages (from pytest->datascience) (1.9.0)\n",
            "Requirement already satisfied: more-itertools>=4.0.0 in /usr/local/lib/python3.6/dist-packages (from pytest->datascience) (8.4.0)\n",
            "Requirement already satisfied: atomicwrites>=1.0 in /usr/local/lib/python3.6/dist-packages (from pytest->datascience) (1.4.0)\n",
            "Requirement already satisfied: pluggy<0.8,>=0.5 in /usr/local/lib/python3.6/dist-packages (from pytest->datascience) (0.7.1)\n",
            "Requirement already satisfied: attrs>=17.4.0 in /usr/local/lib/python3.6/dist-packages (from pytest->datascience) (20.1.0)\n",
            "Requirement already satisfied: MarkupSafe>=0.23 in /usr/local/lib/python3.6/dist-packages (from Jinja2->folium==0.2.1->datascience) (1.1.1)\n",
            "Requirement already satisfied: certifi>=2017.4.17 in /usr/local/lib/python3.6/dist-packages (from requests>=2.0.0->sphinx->datascience) (2020.6.20)\n",
            "Requirement already satisfied: idna<3,>=2.5 in /usr/local/lib/python3.6/dist-packages (from requests>=2.0.0->sphinx->datascience) (2.10)\n",
            "Requirement already satisfied: chardet<4,>=3.0.2 in /usr/local/lib/python3.6/dist-packages (from requests>=2.0.0->sphinx->datascience) (3.0.4)\n",
            "Requirement already satisfied: urllib3!=1.25.0,!=1.25.1,<1.26,>=1.21.1 in /usr/local/lib/python3.6/dist-packages (from requests>=2.0.0->sphinx->datascience) (1.24.3)\n",
            "Requirement already satisfied: pytz>=2015.7 in /usr/local/lib/python3.6/dist-packages (from babel!=2.0,>=1.3->sphinx->datascience) (2018.9)\n",
            "Requirement already satisfied: sphinxcontrib-serializinghtml in /usr/local/lib/python3.6/dist-packages (from sphinxcontrib-websupport->sphinx->datascience) (1.1.4)\n",
            "Requirement already satisfied: pyparsing>=2.0.2 in /usr/local/lib/python3.6/dist-packages (from packaging->sphinx->datascience) (2.4.7)\n",
            "Building wheels for collected packages: folium\n",
            "  Building wheel for folium (setup.py) ... \u001b[?25l\u001b[?25hdone\n",
            "  Created wheel for folium: filename=folium-0.2.1-cp36-none-any.whl size=79980 sha256=c21bc8f9d003dd72fefce1c287d1bb5c54781261cd7bae4a9a1aaf072622a0e9\n",
            "  Stored in directory: /root/.cache/pip/wheels/b8/09/f0/52d2ef419c2aaf4fb149f92a33e0008bdce7ae816f0dd8f0c5\n",
            "Successfully built folium\n",
            "Installing collected packages: folium\n",
            "  Found existing installation: folium 0.8.3\n",
            "    Uninstalling folium-0.8.3:\n",
            "      Successfully uninstalled folium-0.8.3\n",
            "Successfully installed folium-0.2.1\n"
          ],
          "name": "stdout"
        }
      ]
    },
    {
      "cell_type": "code",
      "metadata": {
        "id": "3M7belWWad9S",
        "colab_type": "code",
        "colab": {
          "base_uri": "https://localhost:8080/",
          "height": 105
        },
        "outputId": "e156c1ad-9c8c-4c8b-abd4-ca52be6a2cfa"
      },
      "source": [
        "from datascience import *"
      ],
      "execution_count": null,
      "outputs": [
        {
          "output_type": "stream",
          "text": [
            "/usr/local/lib/python3.6/dist-packages/datascience/tables.py:17: MatplotlibDeprecationWarning: The 'warn' parameter of use() is deprecated since Matplotlib 3.1 and will be removed in 3.3.  If any parameter follows 'warn', they should be pass as keyword, not positionally.\n",
            "  matplotlib.use('agg', warn=False)\n",
            "/usr/local/lib/python3.6/dist-packages/datascience/util.py:10: MatplotlibDeprecationWarning: The 'warn' parameter of use() is deprecated since Matplotlib 3.1 and will be removed in 3.3.  If any parameter follows 'warn', they should be pass as keyword, not positionally.\n",
            "  matplotlib.use('agg', warn=False)\n"
          ],
          "name": "stderr"
        }
      ]
    },
    {
      "cell_type": "code",
      "metadata": {
        "id": "BE-8_dFYan27",
        "colab_type": "code",
        "colab": {
          "base_uri": "https://localhost:8080/",
          "height": 34
        },
        "outputId": "ee9aa15e-af51-46c3-d904-63d4a7e7727f"
      },
      "source": [
        "!ls"
      ],
      "execution_count": null,
      "outputs": [
        {
          "output_type": "stream",
          "text": [
            "drive  sample_data\n"
          ],
          "name": "stdout"
        }
      ]
    },
    {
      "cell_type": "code",
      "metadata": {
        "id": "7-gbGJv1aqPk",
        "colab_type": "code",
        "colab": {
          "base_uri": "https://localhost:8080/",
          "height": 34
        },
        "outputId": "8df311b1-ac61-4ce3-e856-3e4e97676fbe"
      },
      "source": [
        "from google.colab import drive\n",
        "drive.mount('/content/drive', force_remount=True)"
      ],
      "execution_count": null,
      "outputs": [
        {
          "output_type": "stream",
          "text": [
            "Mounted at /content/drive\n"
          ],
          "name": "stdout"
        }
      ]
    },
    {
      "cell_type": "code",
      "metadata": {
        "id": "ZoCikGN0bF6q",
        "colab_type": "code",
        "colab": {
          "base_uri": "https://localhost:8080/",
          "height": 34
        },
        "outputId": "8b39087e-477d-492a-b520-faff25826841"
      },
      "source": [
        "!ls"
      ],
      "execution_count": null,
      "outputs": [
        {
          "output_type": "stream",
          "text": [
            "drive  sample_data\n"
          ],
          "name": "stdout"
        }
      ]
    },
    {
      "cell_type": "code",
      "metadata": {
        "id": "_6lfawndbIrG",
        "colab_type": "code",
        "colab": {
          "base_uri": "https://localhost:8080/",
          "height": 34
        },
        "outputId": "50a2bf9e-417e-41ab-b57e-05532c2f342b"
      },
      "source": [
        "!ls drive"
      ],
      "execution_count": null,
      "outputs": [
        {
          "output_type": "stream",
          "text": [
            "'My Drive'\n"
          ],
          "name": "stdout"
        }
      ]
    },
    {
      "cell_type": "code",
      "metadata": {
        "id": "D4_qrxo5bM_6",
        "colab_type": "code",
        "colab": {
          "base_uri": "https://localhost:8080/",
          "height": 34
        },
        "outputId": "a84ad270-3da9-4423-891a-214f108221da"
      },
      "source": [
        "!ls drive/'My Drive'"
      ],
      "execution_count": null,
      "outputs": [
        {
          "output_type": "stream",
          "text": [
            "'Colab Notebooks'   DSL\n"
          ],
          "name": "stdout"
        }
      ]
    },
    {
      "cell_type": "code",
      "metadata": {
        "id": "sJwb9DcGbQ-n",
        "colab_type": "code",
        "colab": {
          "base_uri": "https://localhost:8080/",
          "height": 34
        },
        "outputId": "7d36e3ea-c673-48ad-e834-e3ef69286b98"
      },
      "source": [
        "!ls drive/'My Drive'/DSL"
      ],
      "execution_count": null,
      "outputs": [
        {
          "output_type": "stream",
          "text": [
            "IMDB5000movies.csv  SFSalaries2011_2014.csv  SFSalaries2011_2014.gsheet\n"
          ],
          "name": "stdout"
        }
      ]
    },
    {
      "cell_type": "code",
      "metadata": {
        "id": "hYzAXiCkbZFH",
        "colab_type": "code",
        "colab": {}
      },
      "source": [
        "path=\"/content/drive/My Drive/DSL/IMDB5000movies.csv\""
      ],
      "execution_count": null,
      "outputs": []
    },
    {
      "cell_type": "code",
      "metadata": {
        "id": "mJmQ1DXwb2Je",
        "colab_type": "code",
        "colab": {
          "base_uri": "https://localhost:8080/",
          "height": 35
        },
        "outputId": "9e771fd3-b542-4e2e-fec7-62ee2202a82d"
      },
      "source": [
        "path"
      ],
      "execution_count": null,
      "outputs": [
        {
          "output_type": "execute_result",
          "data": {
            "application/vnd.google.colaboratory.intrinsic+json": {
              "type": "string"
            },
            "text/plain": [
              "'/content/drive/My Drive/DSL/IMDB5000movies.csv'"
            ]
          },
          "metadata": {
            "tags": []
          },
          "execution_count": 24
        }
      ]
    },
    {
      "cell_type": "code",
      "metadata": {
        "id": "0UdTfUjub4HH",
        "colab_type": "code",
        "colab": {}
      },
      "source": [
        "Moviesdata=Table.read_table(path)"
      ],
      "execution_count": null,
      "outputs": []
    },
    {
      "cell_type": "code",
      "metadata": {
        "id": "YFpre8sbcA4L",
        "colab_type": "code",
        "colab": {
          "base_uri": "https://localhost:8080/",
          "height": 663
        },
        "outputId": "f610a3fc-4455-48c7-a52e-6b5571eb4c1e"
      },
      "source": [
        "Moviesdata"
      ],
      "execution_count": null,
      "outputs": [
        {
          "output_type": "execute_result",
          "data": {
            "text/html": [
              "<table border=\"1\" class=\"dataframe\">\n",
              "    <thead>\n",
              "        <tr>\n",
              "            <th>color</th> <th>director_name</th> <th>num_critic_for_reviews</th> <th>duration</th> <th>director_facebook_likes</th> <th>actor_3_facebook_likes</th> <th>actor_2_name</th> <th>actor_1_facebook_likes</th> <th>gross</th> <th>genres</th> <th>actor_1_name</th> <th>movie_title</th> <th>num_voted_users</th> <th>cast_total_facebook_likes</th> <th>actor_3_name</th> <th>facenumber_in_poster</th> <th>plot_keywords</th> <th>movie_imdb_link</th> <th>num_user_for_reviews</th> <th>language</th> <th>country</th> <th>content_rating</th> <th>budget</th> <th>title_year</th> <th>actor_2_facebook_likes</th> <th>imdb_score</th> <th>aspect_ratio</th> <th>movie_facebook_likes</th>\n",
              "        </tr>\n",
              "    </thead>\n",
              "    <tbody>\n",
              "        <tr>\n",
              "            <td>Color</td> <td>James Cameron    </td> <td>723                   </td> <td>178     </td> <td>0                      </td> <td>855                   </td> <td>Joel David Moore </td> <td>1000                  </td> <td>7.60506e+08</td> <td>Action|Adventure|Fantasy|Sci-Fi                          </td> <td>CCH Pounder    </td> <td>Avatar                                                 </td> <td>886204         </td> <td>4834                     </td> <td>Wes Studi           </td> <td>0                   </td> <td>avatar|future|marine|native|paraplegic                      </td> <td>http://www.imdb.com/title/tt0499549/?ref_=fn_tt_tt_1</td> <td>3054                </td> <td>English </td> <td>USA    </td> <td>PG-13         </td> <td>2.37e+08 </td> <td>2009      </td> <td>936                   </td> <td>7.9       </td> <td>1.78        </td> <td>33000               </td>\n",
              "        </tr>\n",
              "        <tr>\n",
              "            <td>Color</td> <td>Gore Verbinski   </td> <td>302                   </td> <td>169     </td> <td>563                    </td> <td>1000                  </td> <td>Orlando Bloom    </td> <td>40000                 </td> <td>3.09404e+08</td> <td>Action|Adventure|Fantasy                                 </td> <td>Johnny Depp    </td> <td>Pirates of the Caribbean: At World's End               </td> <td>471220         </td> <td>48350                    </td> <td>Jack Davenport      </td> <td>0                   </td> <td>goddess|marriage ceremony|marriage proposal|pirate|singapore</td> <td>http://www.imdb.com/title/tt0449088/?ref_=fn_tt_tt_1</td> <td>1238                </td> <td>English </td> <td>USA    </td> <td>PG-13         </td> <td>3e+08    </td> <td>2007      </td> <td>5000                  </td> <td>7.1       </td> <td>2.35        </td> <td>0                   </td>\n",
              "        </tr>\n",
              "        <tr>\n",
              "            <td>Color</td> <td>Sam Mendes       </td> <td>602                   </td> <td>148     </td> <td>0                      </td> <td>161                   </td> <td>Rory Kinnear     </td> <td>11000                 </td> <td>2.00074e+08</td> <td>Action|Adventure|Thriller                                </td> <td>Christoph Waltz</td> <td>Spectre                                                </td> <td>275868         </td> <td>11700                    </td> <td>Stephanie Sigman    </td> <td>1                   </td> <td>bomb|espionage|sequel|spy|terrorist                         </td> <td>http://www.imdb.com/title/tt2379713/?ref_=fn_tt_tt_1</td> <td>994                 </td> <td>English </td> <td>UK     </td> <td>PG-13         </td> <td>2.45e+08 </td> <td>2015      </td> <td>393                   </td> <td>6.8       </td> <td>2.35        </td> <td>85000               </td>\n",
              "        </tr>\n",
              "        <tr>\n",
              "            <td>Color</td> <td>Christopher Nolan</td> <td>813                   </td> <td>164     </td> <td>22000                  </td> <td>23000                 </td> <td>Christian Bale   </td> <td>27000                 </td> <td>4.48131e+08</td> <td>Action|Thriller                                          </td> <td>Tom Hardy      </td> <td>The Dark Knight Rises                                  </td> <td>1144337        </td> <td>106759                   </td> <td>Joseph Gordon-Levitt</td> <td>0                   </td> <td>deception|imprisonment|lawlessness|police officer|terror ...</td> <td>http://www.imdb.com/title/tt1345836/?ref_=fn_tt_tt_1</td> <td>2701                </td> <td>English </td> <td>USA    </td> <td>PG-13         </td> <td>2.5e+08  </td> <td>2012      </td> <td>23000                 </td> <td>8.5       </td> <td>2.35        </td> <td>164000              </td>\n",
              "        </tr>\n",
              "        <tr>\n",
              "            <td>nan  </td> <td>Doug Walker      </td> <td>nan                   </td> <td>nan     </td> <td>131                    </td> <td>nan                   </td> <td>Rob Walker       </td> <td>131                   </td> <td>nan        </td> <td>Documentary                                              </td> <td>Doug Walker    </td> <td>Star Wars: Episode VII - The Force Awakens             </td> <td>8              </td> <td>143                      </td> <td>nan                 </td> <td>0                   </td> <td>nan                                                         </td> <td>http://www.imdb.com/title/tt5289954/?ref_=fn_tt_tt_1</td> <td>nan                 </td> <td>nan     </td> <td>nan    </td> <td>nan           </td> <td>nan      </td> <td>nan       </td> <td>12                    </td> <td>7.1       </td> <td>nan         </td> <td>0                   </td>\n",
              "        </tr>\n",
              "        <tr>\n",
              "            <td>Color</td> <td>Andrew Stanton   </td> <td>462                   </td> <td>132     </td> <td>475                    </td> <td>530                   </td> <td>Samantha Morton  </td> <td>640                   </td> <td>7.30587e+07</td> <td>Action|Adventure|Sci-Fi                                  </td> <td>Daryl Sabara   </td> <td>John Carter                                            </td> <td>212204         </td> <td>1873                     </td> <td>Polly Walker        </td> <td>1                   </td> <td>alien|american civil war|male nipple|mars|princess          </td> <td>http://www.imdb.com/title/tt0401729/?ref_=fn_tt_tt_1</td> <td>738                 </td> <td>English </td> <td>USA    </td> <td>PG-13         </td> <td>2.637e+08</td> <td>2012      </td> <td>632                   </td> <td>6.6       </td> <td>2.35        </td> <td>24000               </td>\n",
              "        </tr>\n",
              "        <tr>\n",
              "            <td>Color</td> <td>Sam Raimi        </td> <td>392                   </td> <td>156     </td> <td>0                      </td> <td>4000                  </td> <td>James Franco     </td> <td>24000                 </td> <td>3.3653e+08 </td> <td>Action|Adventure|Romance                                 </td> <td>J.K. Simmons   </td> <td>Spider-Man 3                                           </td> <td>383056         </td> <td>46055                    </td> <td>Kirsten Dunst       </td> <td>0                   </td> <td>sandman|spider man|symbiote|venom|villain                   </td> <td>http://www.imdb.com/title/tt0413300/?ref_=fn_tt_tt_1</td> <td>1902                </td> <td>English </td> <td>USA    </td> <td>PG-13         </td> <td>2.58e+08 </td> <td>2007      </td> <td>11000                 </td> <td>6.2       </td> <td>2.35        </td> <td>0                   </td>\n",
              "        </tr>\n",
              "        <tr>\n",
              "            <td>Color</td> <td>Nathan Greno     </td> <td>324                   </td> <td>100     </td> <td>15                     </td> <td>284                   </td> <td>Donna Murphy     </td> <td>799                   </td> <td>2.00807e+08</td> <td>Adventure|Animation|Comedy|Family|Fantasy|Musical|Romance</td> <td>Brad Garrett   </td> <td>Tangled                                                </td> <td>294810         </td> <td>2036                     </td> <td>M.C. Gainey         </td> <td>1                   </td> <td>17th century|based on fairy tale|disney|flower|tower        </td> <td>http://www.imdb.com/title/tt0398286/?ref_=fn_tt_tt_1</td> <td>387                 </td> <td>English </td> <td>USA    </td> <td>PG            </td> <td>2.6e+08  </td> <td>2010      </td> <td>553                   </td> <td>7.8       </td> <td>1.85        </td> <td>29000               </td>\n",
              "        </tr>\n",
              "        <tr>\n",
              "            <td>Color</td> <td>Joss Whedon      </td> <td>635                   </td> <td>141     </td> <td>0                      </td> <td>19000                 </td> <td>Robert Downey Jr.</td> <td>26000                 </td> <td>4.58992e+08</td> <td>Action|Adventure|Sci-Fi                                  </td> <td>Chris Hemsworth</td> <td>Avengers: Age of Ultron                                </td> <td>462669         </td> <td>92000                    </td> <td>Scarlett Johansson  </td> <td>4                   </td> <td>artificial intelligence|based on comic book|captain amer ...</td> <td>http://www.imdb.com/title/tt2395427/?ref_=fn_tt_tt_1</td> <td>1117                </td> <td>English </td> <td>USA    </td> <td>PG-13         </td> <td>2.5e+08  </td> <td>2015      </td> <td>21000                 </td> <td>7.5       </td> <td>2.35        </td> <td>118000              </td>\n",
              "        </tr>\n",
              "        <tr>\n",
              "            <td>Color</td> <td>David Yates      </td> <td>375                   </td> <td>153     </td> <td>282                    </td> <td>10000                 </td> <td>Daniel Radcliffe </td> <td>25000                 </td> <td>3.01957e+08</td> <td>Adventure|Family|Fantasy|Mystery                         </td> <td>Alan Rickman   </td> <td>Harry Potter and the Half-Blood Prince                 </td> <td>321795         </td> <td>58753                    </td> <td>Rupert Grint        </td> <td>3                   </td> <td>blood|book|love|potion|professor                            </td> <td>http://www.imdb.com/title/tt0417741/?ref_=fn_tt_tt_1</td> <td>973                 </td> <td>English </td> <td>UK     </td> <td>PG            </td> <td>2.5e+08  </td> <td>2009      </td> <td>11000                 </td> <td>7.5       </td> <td>2.35        </td> <td>10000               </td>\n",
              "        </tr>\n",
              "    </tbody>\n",
              "</table>\n",
              "<p>... (5033 rows omitted)</p>"
            ],
            "text/plain": [
              "color | director_name     | num_critic_for_reviews | duration | director_facebook_likes | actor_3_facebook_likes | actor_2_name      | actor_1_facebook_likes | gross       | genres                                                    | actor_1_name    | movie_title                                             | num_voted_users | cast_total_facebook_likes | actor_3_name         | facenumber_in_poster | plot_keywords                                                | movie_imdb_link                                      | num_user_for_reviews | language | country | content_rating | budget    | title_year | actor_2_facebook_likes | imdb_score | aspect_ratio | movie_facebook_likes\n",
              "Color | James Cameron     | 723                    | 178      | 0                       | 855                    | Joel David Moore  | 1000                   | 7.60506e+08 | Action|Adventure|Fantasy|Sci-Fi                           | CCH Pounder     | Avatar                                                  | 886204          | 4834                      | Wes Studi            | 0                    | avatar|future|marine|native|paraplegic                       | http://www.imdb.com/title/tt0499549/?ref_=fn_tt_tt_1 | 3054                 | English  | USA     | PG-13          | 2.37e+08  | 2009       | 936                    | 7.9        | 1.78         | 33000\n",
              "Color | Gore Verbinski    | 302                    | 169      | 563                     | 1000                   | Orlando Bloom     | 40000                  | 3.09404e+08 | Action|Adventure|Fantasy                                  | Johnny Depp     | Pirates of the Caribbean: At World's End                | 471220          | 48350                     | Jack Davenport       | 0                    | goddess|marriage ceremony|marriage proposal|pirate|singapore | http://www.imdb.com/title/tt0449088/?ref_=fn_tt_tt_1 | 1238                 | English  | USA     | PG-13          | 3e+08     | 2007       | 5000                   | 7.1        | 2.35         | 0\n",
              "Color | Sam Mendes        | 602                    | 148      | 0                       | 161                    | Rory Kinnear      | 11000                  | 2.00074e+08 | Action|Adventure|Thriller                                 | Christoph Waltz | Spectre                                                 | 275868          | 11700                     | Stephanie Sigman     | 1                    | bomb|espionage|sequel|spy|terrorist                          | http://www.imdb.com/title/tt2379713/?ref_=fn_tt_tt_1 | 994                  | English  | UK      | PG-13          | 2.45e+08  | 2015       | 393                    | 6.8        | 2.35         | 85000\n",
              "Color | Christopher Nolan | 813                    | 164      | 22000                   | 23000                  | Christian Bale    | 27000                  | 4.48131e+08 | Action|Thriller                                           | Tom Hardy       | The Dark Knight Rises                                   | 1144337         | 106759                    | Joseph Gordon-Levitt | 0                    | deception|imprisonment|lawlessness|police officer|terror ... | http://www.imdb.com/title/tt1345836/?ref_=fn_tt_tt_1 | 2701                 | English  | USA     | PG-13          | 2.5e+08   | 2012       | 23000                  | 8.5        | 2.35         | 164000\n",
              "nan   | Doug Walker       | nan                    | nan      | 131                     | nan                    | Rob Walker        | 131                    | nan         | Documentary                                               | Doug Walker     | Star Wars: Episode VII - The Force Awakens              | 8               | 143                       | nan                  | 0                    | nan                                                          | http://www.imdb.com/title/tt5289954/?ref_=fn_tt_tt_1 | nan                  | nan      | nan     | nan            | nan       | nan        | 12                     | 7.1        | nan          | 0\n",
              "Color | Andrew Stanton    | 462                    | 132      | 475                     | 530                    | Samantha Morton   | 640                    | 7.30587e+07 | Action|Adventure|Sci-Fi                                   | Daryl Sabara    | John Carter                                             | 212204          | 1873                      | Polly Walker         | 1                    | alien|american civil war|male nipple|mars|princess           | http://www.imdb.com/title/tt0401729/?ref_=fn_tt_tt_1 | 738                  | English  | USA     | PG-13          | 2.637e+08 | 2012       | 632                    | 6.6        | 2.35         | 24000\n",
              "Color | Sam Raimi         | 392                    | 156      | 0                       | 4000                   | James Franco      | 24000                  | 3.3653e+08  | Action|Adventure|Romance                                  | J.K. Simmons    | Spider-Man 3                                            | 383056          | 46055                     | Kirsten Dunst        | 0                    | sandman|spider man|symbiote|venom|villain                    | http://www.imdb.com/title/tt0413300/?ref_=fn_tt_tt_1 | 1902                 | English  | USA     | PG-13          | 2.58e+08  | 2007       | 11000                  | 6.2        | 2.35         | 0\n",
              "Color | Nathan Greno      | 324                    | 100      | 15                      | 284                    | Donna Murphy      | 799                    | 2.00807e+08 | Adventure|Animation|Comedy|Family|Fantasy|Musical|Romance | Brad Garrett    | Tangled                                                 | 294810          | 2036                      | M.C. Gainey          | 1                    | 17th century|based on fairy tale|disney|flower|tower         | http://www.imdb.com/title/tt0398286/?ref_=fn_tt_tt_1 | 387                  | English  | USA     | PG             | 2.6e+08   | 2010       | 553                    | 7.8        | 1.85         | 29000\n",
              "Color | Joss Whedon       | 635                    | 141      | 0                       | 19000                  | Robert Downey Jr. | 26000                  | 4.58992e+08 | Action|Adventure|Sci-Fi                                   | Chris Hemsworth | Avengers: Age of Ultron                                 | 462669          | 92000                     | Scarlett Johansson   | 4                    | artificial intelligence|based on comic book|captain amer ... | http://www.imdb.com/title/tt2395427/?ref_=fn_tt_tt_1 | 1117                 | English  | USA     | PG-13          | 2.5e+08   | 2015       | 21000                  | 7.5        | 2.35         | 118000\n",
              "Color | David Yates       | 375                    | 153      | 282                     | 10000                  | Daniel Radcliffe  | 25000                  | 3.01957e+08 | Adventure|Family|Fantasy|Mystery                          | Alan Rickman    | Harry Potter and the Half-Blood Prince                  | 321795          | 58753                     | Rupert Grint         | 3                    | blood|book|love|potion|professor                             | http://www.imdb.com/title/tt0417741/?ref_=fn_tt_tt_1 | 973                  | English  | UK      | PG             | 2.5e+08   | 2009       | 11000                  | 7.5        | 2.35         | 10000\n",
              "... (5033 rows omitted)"
            ]
          },
          "metadata": {
            "tags": []
          },
          "execution_count": 26
        }
      ]
    },
    {
      "cell_type": "code",
      "metadata": {
        "id": "cacd82kHcDee",
        "colab_type": "code",
        "colab": {
          "base_uri": "https://localhost:8080/",
          "height": 34
        },
        "outputId": "906002f5-50ad-4296-a680-7a024472f4fe"
      },
      "source": [
        "type(Moviesdata)"
      ],
      "execution_count": null,
      "outputs": [
        {
          "output_type": "execute_result",
          "data": {
            "text/plain": [
              "datascience.tables.Table"
            ]
          },
          "metadata": {
            "tags": []
          },
          "execution_count": 27
        }
      ]
    },
    {
      "cell_type": "code",
      "metadata": {
        "id": "9OuJqEnUcHC9",
        "colab_type": "code",
        "colab": {
          "base_uri": "https://localhost:8080/",
          "height": 663
        },
        "outputId": "16c2eca2-429c-48d7-8285-e520af860c36"
      },
      "source": [
        "Moviesdata.show(10)"
      ],
      "execution_count": null,
      "outputs": [
        {
          "output_type": "display_data",
          "data": {
            "text/html": [
              "<table border=\"1\" class=\"dataframe\">\n",
              "    <thead>\n",
              "        <tr>\n",
              "            <th>color</th> <th>director_name</th> <th>num_critic_for_reviews</th> <th>duration</th> <th>director_facebook_likes</th> <th>actor_3_facebook_likes</th> <th>actor_2_name</th> <th>actor_1_facebook_likes</th> <th>gross</th> <th>genres</th> <th>actor_1_name</th> <th>movie_title</th> <th>num_voted_users</th> <th>cast_total_facebook_likes</th> <th>actor_3_name</th> <th>facenumber_in_poster</th> <th>plot_keywords</th> <th>movie_imdb_link</th> <th>num_user_for_reviews</th> <th>language</th> <th>country</th> <th>content_rating</th> <th>budget</th> <th>title_year</th> <th>actor_2_facebook_likes</th> <th>imdb_score</th> <th>aspect_ratio</th> <th>movie_facebook_likes</th>\n",
              "        </tr>\n",
              "    </thead>\n",
              "    <tbody>\n",
              "        <tr>\n",
              "            <td>Color</td> <td>James Cameron    </td> <td>723                   </td> <td>178     </td> <td>0                      </td> <td>855                   </td> <td>Joel David Moore </td> <td>1000                  </td> <td>7.60506e+08</td> <td>Action|Adventure|Fantasy|Sci-Fi                          </td> <td>CCH Pounder    </td> <td>Avatar                                                 </td> <td>886204         </td> <td>4834                     </td> <td>Wes Studi           </td> <td>0                   </td> <td>avatar|future|marine|native|paraplegic                      </td> <td>http://www.imdb.com/title/tt0499549/?ref_=fn_tt_tt_1</td> <td>3054                </td> <td>English </td> <td>USA    </td> <td>PG-13         </td> <td>2.37e+08 </td> <td>2009      </td> <td>936                   </td> <td>7.9       </td> <td>1.78        </td> <td>33000               </td>\n",
              "        </tr>\n",
              "        <tr>\n",
              "            <td>Color</td> <td>Gore Verbinski   </td> <td>302                   </td> <td>169     </td> <td>563                    </td> <td>1000                  </td> <td>Orlando Bloom    </td> <td>40000                 </td> <td>3.09404e+08</td> <td>Action|Adventure|Fantasy                                 </td> <td>Johnny Depp    </td> <td>Pirates of the Caribbean: At World's End               </td> <td>471220         </td> <td>48350                    </td> <td>Jack Davenport      </td> <td>0                   </td> <td>goddess|marriage ceremony|marriage proposal|pirate|singapore</td> <td>http://www.imdb.com/title/tt0449088/?ref_=fn_tt_tt_1</td> <td>1238                </td> <td>English </td> <td>USA    </td> <td>PG-13         </td> <td>3e+08    </td> <td>2007      </td> <td>5000                  </td> <td>7.1       </td> <td>2.35        </td> <td>0                   </td>\n",
              "        </tr>\n",
              "        <tr>\n",
              "            <td>Color</td> <td>Sam Mendes       </td> <td>602                   </td> <td>148     </td> <td>0                      </td> <td>161                   </td> <td>Rory Kinnear     </td> <td>11000                 </td> <td>2.00074e+08</td> <td>Action|Adventure|Thriller                                </td> <td>Christoph Waltz</td> <td>Spectre                                                </td> <td>275868         </td> <td>11700                    </td> <td>Stephanie Sigman    </td> <td>1                   </td> <td>bomb|espionage|sequel|spy|terrorist                         </td> <td>http://www.imdb.com/title/tt2379713/?ref_=fn_tt_tt_1</td> <td>994                 </td> <td>English </td> <td>UK     </td> <td>PG-13         </td> <td>2.45e+08 </td> <td>2015      </td> <td>393                   </td> <td>6.8       </td> <td>2.35        </td> <td>85000               </td>\n",
              "        </tr>\n",
              "        <tr>\n",
              "            <td>Color</td> <td>Christopher Nolan</td> <td>813                   </td> <td>164     </td> <td>22000                  </td> <td>23000                 </td> <td>Christian Bale   </td> <td>27000                 </td> <td>4.48131e+08</td> <td>Action|Thriller                                          </td> <td>Tom Hardy      </td> <td>The Dark Knight Rises                                  </td> <td>1144337        </td> <td>106759                   </td> <td>Joseph Gordon-Levitt</td> <td>0                   </td> <td>deception|imprisonment|lawlessness|police officer|terror ...</td> <td>http://www.imdb.com/title/tt1345836/?ref_=fn_tt_tt_1</td> <td>2701                </td> <td>English </td> <td>USA    </td> <td>PG-13         </td> <td>2.5e+08  </td> <td>2012      </td> <td>23000                 </td> <td>8.5       </td> <td>2.35        </td> <td>164000              </td>\n",
              "        </tr>\n",
              "        <tr>\n",
              "            <td>nan  </td> <td>Doug Walker      </td> <td>nan                   </td> <td>nan     </td> <td>131                    </td> <td>nan                   </td> <td>Rob Walker       </td> <td>131                   </td> <td>nan        </td> <td>Documentary                                              </td> <td>Doug Walker    </td> <td>Star Wars: Episode VII - The Force Awakens             </td> <td>8              </td> <td>143                      </td> <td>nan                 </td> <td>0                   </td> <td>nan                                                         </td> <td>http://www.imdb.com/title/tt5289954/?ref_=fn_tt_tt_1</td> <td>nan                 </td> <td>nan     </td> <td>nan    </td> <td>nan           </td> <td>nan      </td> <td>nan       </td> <td>12                    </td> <td>7.1       </td> <td>nan         </td> <td>0                   </td>\n",
              "        </tr>\n",
              "        <tr>\n",
              "            <td>Color</td> <td>Andrew Stanton   </td> <td>462                   </td> <td>132     </td> <td>475                    </td> <td>530                   </td> <td>Samantha Morton  </td> <td>640                   </td> <td>7.30587e+07</td> <td>Action|Adventure|Sci-Fi                                  </td> <td>Daryl Sabara   </td> <td>John Carter                                            </td> <td>212204         </td> <td>1873                     </td> <td>Polly Walker        </td> <td>1                   </td> <td>alien|american civil war|male nipple|mars|princess          </td> <td>http://www.imdb.com/title/tt0401729/?ref_=fn_tt_tt_1</td> <td>738                 </td> <td>English </td> <td>USA    </td> <td>PG-13         </td> <td>2.637e+08</td> <td>2012      </td> <td>632                   </td> <td>6.6       </td> <td>2.35        </td> <td>24000               </td>\n",
              "        </tr>\n",
              "        <tr>\n",
              "            <td>Color</td> <td>Sam Raimi        </td> <td>392                   </td> <td>156     </td> <td>0                      </td> <td>4000                  </td> <td>James Franco     </td> <td>24000                 </td> <td>3.3653e+08 </td> <td>Action|Adventure|Romance                                 </td> <td>J.K. Simmons   </td> <td>Spider-Man 3                                           </td> <td>383056         </td> <td>46055                    </td> <td>Kirsten Dunst       </td> <td>0                   </td> <td>sandman|spider man|symbiote|venom|villain                   </td> <td>http://www.imdb.com/title/tt0413300/?ref_=fn_tt_tt_1</td> <td>1902                </td> <td>English </td> <td>USA    </td> <td>PG-13         </td> <td>2.58e+08 </td> <td>2007      </td> <td>11000                 </td> <td>6.2       </td> <td>2.35        </td> <td>0                   </td>\n",
              "        </tr>\n",
              "        <tr>\n",
              "            <td>Color</td> <td>Nathan Greno     </td> <td>324                   </td> <td>100     </td> <td>15                     </td> <td>284                   </td> <td>Donna Murphy     </td> <td>799                   </td> <td>2.00807e+08</td> <td>Adventure|Animation|Comedy|Family|Fantasy|Musical|Romance</td> <td>Brad Garrett   </td> <td>Tangled                                                </td> <td>294810         </td> <td>2036                     </td> <td>M.C. Gainey         </td> <td>1                   </td> <td>17th century|based on fairy tale|disney|flower|tower        </td> <td>http://www.imdb.com/title/tt0398286/?ref_=fn_tt_tt_1</td> <td>387                 </td> <td>English </td> <td>USA    </td> <td>PG            </td> <td>2.6e+08  </td> <td>2010      </td> <td>553                   </td> <td>7.8       </td> <td>1.85        </td> <td>29000               </td>\n",
              "        </tr>\n",
              "        <tr>\n",
              "            <td>Color</td> <td>Joss Whedon      </td> <td>635                   </td> <td>141     </td> <td>0                      </td> <td>19000                 </td> <td>Robert Downey Jr.</td> <td>26000                 </td> <td>4.58992e+08</td> <td>Action|Adventure|Sci-Fi                                  </td> <td>Chris Hemsworth</td> <td>Avengers: Age of Ultron                                </td> <td>462669         </td> <td>92000                    </td> <td>Scarlett Johansson  </td> <td>4                   </td> <td>artificial intelligence|based on comic book|captain amer ...</td> <td>http://www.imdb.com/title/tt2395427/?ref_=fn_tt_tt_1</td> <td>1117                </td> <td>English </td> <td>USA    </td> <td>PG-13         </td> <td>2.5e+08  </td> <td>2015      </td> <td>21000                 </td> <td>7.5       </td> <td>2.35        </td> <td>118000              </td>\n",
              "        </tr>\n",
              "        <tr>\n",
              "            <td>Color</td> <td>David Yates      </td> <td>375                   </td> <td>153     </td> <td>282                    </td> <td>10000                 </td> <td>Daniel Radcliffe </td> <td>25000                 </td> <td>3.01957e+08</td> <td>Adventure|Family|Fantasy|Mystery                         </td> <td>Alan Rickman   </td> <td>Harry Potter and the Half-Blood Prince                 </td> <td>321795         </td> <td>58753                    </td> <td>Rupert Grint        </td> <td>3                   </td> <td>blood|book|love|potion|professor                            </td> <td>http://www.imdb.com/title/tt0417741/?ref_=fn_tt_tt_1</td> <td>973                 </td> <td>English </td> <td>UK     </td> <td>PG            </td> <td>2.5e+08  </td> <td>2009      </td> <td>11000                 </td> <td>7.5       </td> <td>2.35        </td> <td>10000               </td>\n",
              "        </tr>\n",
              "    </tbody>\n",
              "</table>\n",
              "<p>... (5033 rows omitted)</p>"
            ],
            "text/plain": [
              "<IPython.core.display.HTML object>"
            ]
          },
          "metadata": {
            "tags": []
          }
        }
      ]
    },
    {
      "cell_type": "code",
      "metadata": {
        "id": "WDR2YWufcMmY",
        "colab_type": "code",
        "colab": {
          "base_uri": "https://localhost:8080/",
          "height": 1000
        },
        "outputId": "01e8f11a-6e68-4bf1-fe64-75b7837cc064"
      },
      "source": [
        "Moviesdata.show(24)"
      ],
      "execution_count": null,
      "outputs": [
        {
          "output_type": "display_data",
          "data": {
            "text/html": [
              "<table border=\"1\" class=\"dataframe\">\n",
              "    <thead>\n",
              "        <tr>\n",
              "            <th>color</th> <th>director_name</th> <th>num_critic_for_reviews</th> <th>duration</th> <th>director_facebook_likes</th> <th>actor_3_facebook_likes</th> <th>actor_2_name</th> <th>actor_1_facebook_likes</th> <th>gross</th> <th>genres</th> <th>actor_1_name</th> <th>movie_title</th> <th>num_voted_users</th> <th>cast_total_facebook_likes</th> <th>actor_3_name</th> <th>facenumber_in_poster</th> <th>plot_keywords</th> <th>movie_imdb_link</th> <th>num_user_for_reviews</th> <th>language</th> <th>country</th> <th>content_rating</th> <th>budget</th> <th>title_year</th> <th>actor_2_facebook_likes</th> <th>imdb_score</th> <th>aspect_ratio</th> <th>movie_facebook_likes</th>\n",
              "        </tr>\n",
              "    </thead>\n",
              "    <tbody>\n",
              "        <tr>\n",
              "            <td>Color</td> <td>James Cameron    </td> <td>723                   </td> <td>178     </td> <td>0                      </td> <td>855                   </td> <td>Joel David Moore    </td> <td>1000                  </td> <td>7.60506e+08</td> <td>Action|Adventure|Fantasy|Sci-Fi                          </td> <td>CCH Pounder       </td> <td>Avatar                                                 </td> <td>886204         </td> <td>4834                     </td> <td>Wes Studi           </td> <td>0                   </td> <td>avatar|future|marine|native|paraplegic                      </td> <td>http://www.imdb.com/title/tt0499549/?ref_=fn_tt_tt_1</td> <td>3054                </td> <td>English </td> <td>USA        </td> <td>PG-13         </td> <td>2.37e+08 </td> <td>2009      </td> <td>936                   </td> <td>7.9       </td> <td>1.78        </td> <td>33000               </td>\n",
              "        </tr>\n",
              "        <tr>\n",
              "            <td>Color</td> <td>Gore Verbinski   </td> <td>302                   </td> <td>169     </td> <td>563                    </td> <td>1000                  </td> <td>Orlando Bloom       </td> <td>40000                 </td> <td>3.09404e+08</td> <td>Action|Adventure|Fantasy                                 </td> <td>Johnny Depp       </td> <td>Pirates of the Caribbean: At World's End               </td> <td>471220         </td> <td>48350                    </td> <td>Jack Davenport      </td> <td>0                   </td> <td>goddess|marriage ceremony|marriage proposal|pirate|singapore</td> <td>http://www.imdb.com/title/tt0449088/?ref_=fn_tt_tt_1</td> <td>1238                </td> <td>English </td> <td>USA        </td> <td>PG-13         </td> <td>3e+08    </td> <td>2007      </td> <td>5000                  </td> <td>7.1       </td> <td>2.35        </td> <td>0                   </td>\n",
              "        </tr>\n",
              "        <tr>\n",
              "            <td>Color</td> <td>Sam Mendes       </td> <td>602                   </td> <td>148     </td> <td>0                      </td> <td>161                   </td> <td>Rory Kinnear        </td> <td>11000                 </td> <td>2.00074e+08</td> <td>Action|Adventure|Thriller                                </td> <td>Christoph Waltz   </td> <td>Spectre                                                </td> <td>275868         </td> <td>11700                    </td> <td>Stephanie Sigman    </td> <td>1                   </td> <td>bomb|espionage|sequel|spy|terrorist                         </td> <td>http://www.imdb.com/title/tt2379713/?ref_=fn_tt_tt_1</td> <td>994                 </td> <td>English </td> <td>UK         </td> <td>PG-13         </td> <td>2.45e+08 </td> <td>2015      </td> <td>393                   </td> <td>6.8       </td> <td>2.35        </td> <td>85000               </td>\n",
              "        </tr>\n",
              "        <tr>\n",
              "            <td>Color</td> <td>Christopher Nolan</td> <td>813                   </td> <td>164     </td> <td>22000                  </td> <td>23000                 </td> <td>Christian Bale      </td> <td>27000                 </td> <td>4.48131e+08</td> <td>Action|Thriller                                          </td> <td>Tom Hardy         </td> <td>The Dark Knight Rises                                  </td> <td>1144337        </td> <td>106759                   </td> <td>Joseph Gordon-Levitt</td> <td>0                   </td> <td>deception|imprisonment|lawlessness|police officer|terror ...</td> <td>http://www.imdb.com/title/tt1345836/?ref_=fn_tt_tt_1</td> <td>2701                </td> <td>English </td> <td>USA        </td> <td>PG-13         </td> <td>2.5e+08  </td> <td>2012      </td> <td>23000                 </td> <td>8.5       </td> <td>2.35        </td> <td>164000              </td>\n",
              "        </tr>\n",
              "        <tr>\n",
              "            <td>nan  </td> <td>Doug Walker      </td> <td>nan                   </td> <td>nan     </td> <td>131                    </td> <td>nan                   </td> <td>Rob Walker          </td> <td>131                   </td> <td>nan        </td> <td>Documentary                                              </td> <td>Doug Walker       </td> <td>Star Wars: Episode VII - The Force Awakens             </td> <td>8              </td> <td>143                      </td> <td>nan                 </td> <td>0                   </td> <td>nan                                                         </td> <td>http://www.imdb.com/title/tt5289954/?ref_=fn_tt_tt_1</td> <td>nan                 </td> <td>nan     </td> <td>nan        </td> <td>nan           </td> <td>nan      </td> <td>nan       </td> <td>12                    </td> <td>7.1       </td> <td>nan         </td> <td>0                   </td>\n",
              "        </tr>\n",
              "        <tr>\n",
              "            <td>Color</td> <td>Andrew Stanton   </td> <td>462                   </td> <td>132     </td> <td>475                    </td> <td>530                   </td> <td>Samantha Morton     </td> <td>640                   </td> <td>7.30587e+07</td> <td>Action|Adventure|Sci-Fi                                  </td> <td>Daryl Sabara      </td> <td>John Carter                                            </td> <td>212204         </td> <td>1873                     </td> <td>Polly Walker        </td> <td>1                   </td> <td>alien|american civil war|male nipple|mars|princess          </td> <td>http://www.imdb.com/title/tt0401729/?ref_=fn_tt_tt_1</td> <td>738                 </td> <td>English </td> <td>USA        </td> <td>PG-13         </td> <td>2.637e+08</td> <td>2012      </td> <td>632                   </td> <td>6.6       </td> <td>2.35        </td> <td>24000               </td>\n",
              "        </tr>\n",
              "        <tr>\n",
              "            <td>Color</td> <td>Sam Raimi        </td> <td>392                   </td> <td>156     </td> <td>0                      </td> <td>4000                  </td> <td>James Franco        </td> <td>24000                 </td> <td>3.3653e+08 </td> <td>Action|Adventure|Romance                                 </td> <td>J.K. Simmons      </td> <td>Spider-Man 3                                           </td> <td>383056         </td> <td>46055                    </td> <td>Kirsten Dunst       </td> <td>0                   </td> <td>sandman|spider man|symbiote|venom|villain                   </td> <td>http://www.imdb.com/title/tt0413300/?ref_=fn_tt_tt_1</td> <td>1902                </td> <td>English </td> <td>USA        </td> <td>PG-13         </td> <td>2.58e+08 </td> <td>2007      </td> <td>11000                 </td> <td>6.2       </td> <td>2.35        </td> <td>0                   </td>\n",
              "        </tr>\n",
              "        <tr>\n",
              "            <td>Color</td> <td>Nathan Greno     </td> <td>324                   </td> <td>100     </td> <td>15                     </td> <td>284                   </td> <td>Donna Murphy        </td> <td>799                   </td> <td>2.00807e+08</td> <td>Adventure|Animation|Comedy|Family|Fantasy|Musical|Romance</td> <td>Brad Garrett      </td> <td>Tangled                                                </td> <td>294810         </td> <td>2036                     </td> <td>M.C. Gainey         </td> <td>1                   </td> <td>17th century|based on fairy tale|disney|flower|tower        </td> <td>http://www.imdb.com/title/tt0398286/?ref_=fn_tt_tt_1</td> <td>387                 </td> <td>English </td> <td>USA        </td> <td>PG            </td> <td>2.6e+08  </td> <td>2010      </td> <td>553                   </td> <td>7.8       </td> <td>1.85        </td> <td>29000               </td>\n",
              "        </tr>\n",
              "        <tr>\n",
              "            <td>Color</td> <td>Joss Whedon      </td> <td>635                   </td> <td>141     </td> <td>0                      </td> <td>19000                 </td> <td>Robert Downey Jr.   </td> <td>26000                 </td> <td>4.58992e+08</td> <td>Action|Adventure|Sci-Fi                                  </td> <td>Chris Hemsworth   </td> <td>Avengers: Age of Ultron                                </td> <td>462669         </td> <td>92000                    </td> <td>Scarlett Johansson  </td> <td>4                   </td> <td>artificial intelligence|based on comic book|captain amer ...</td> <td>http://www.imdb.com/title/tt2395427/?ref_=fn_tt_tt_1</td> <td>1117                </td> <td>English </td> <td>USA        </td> <td>PG-13         </td> <td>2.5e+08  </td> <td>2015      </td> <td>21000                 </td> <td>7.5       </td> <td>2.35        </td> <td>118000              </td>\n",
              "        </tr>\n",
              "        <tr>\n",
              "            <td>Color</td> <td>David Yates      </td> <td>375                   </td> <td>153     </td> <td>282                    </td> <td>10000                 </td> <td>Daniel Radcliffe    </td> <td>25000                 </td> <td>3.01957e+08</td> <td>Adventure|Family|Fantasy|Mystery                         </td> <td>Alan Rickman      </td> <td>Harry Potter and the Half-Blood Prince                 </td> <td>321795         </td> <td>58753                    </td> <td>Rupert Grint        </td> <td>3                   </td> <td>blood|book|love|potion|professor                            </td> <td>http://www.imdb.com/title/tt0417741/?ref_=fn_tt_tt_1</td> <td>973                 </td> <td>English </td> <td>UK         </td> <td>PG            </td> <td>2.5e+08  </td> <td>2009      </td> <td>11000                 </td> <td>7.5       </td> <td>2.35        </td> <td>10000               </td>\n",
              "        </tr>\n",
              "        <tr>\n",
              "            <td>Color</td> <td>Zack Snyder      </td> <td>673                   </td> <td>183     </td> <td>0                      </td> <td>2000                  </td> <td>Lauren Cohan        </td> <td>15000                 </td> <td>3.30249e+08</td> <td>Action|Adventure|Sci-Fi                                  </td> <td>Henry Cavill      </td> <td>Batman v Superman: Dawn of Justice                     </td> <td>371639         </td> <td>24450                    </td> <td>Alan D. Purwin      </td> <td>0                   </td> <td>based on comic book|batman|sequel to a reboot|superhero| ...</td> <td>http://www.imdb.com/title/tt2975590/?ref_=fn_tt_tt_1</td> <td>3018                </td> <td>English </td> <td>USA        </td> <td>PG-13         </td> <td>2.5e+08  </td> <td>2016      </td> <td>4000                  </td> <td>6.9       </td> <td>2.35        </td> <td>197000              </td>\n",
              "        </tr>\n",
              "        <tr>\n",
              "            <td>Color</td> <td>Bryan Singer     </td> <td>434                   </td> <td>169     </td> <td>0                      </td> <td>903                   </td> <td>Marlon Brando       </td> <td>18000                 </td> <td>2.00069e+08</td> <td>Action|Adventure|Sci-Fi                                  </td> <td>Kevin Spacey      </td> <td>Superman Returns                                       </td> <td>240396         </td> <td>29991                    </td> <td>Frank Langella      </td> <td>0                   </td> <td>crystal|epic|lex luthor|lois lane|return to earth           </td> <td>http://www.imdb.com/title/tt0348150/?ref_=fn_tt_tt_1</td> <td>2367                </td> <td>English </td> <td>USA        </td> <td>PG-13         </td> <td>2.09e+08 </td> <td>2006      </td> <td>10000                 </td> <td>6.1       </td> <td>2.35        </td> <td>0                   </td>\n",
              "        </tr>\n",
              "        <tr>\n",
              "            <td>Color</td> <td>Marc Forster     </td> <td>403                   </td> <td>106     </td> <td>395                    </td> <td>393                   </td> <td>Mathieu Amalric     </td> <td>451                   </td> <td>1.68368e+08</td> <td>Action|Adventure                                         </td> <td>Giancarlo Giannini</td> <td>Quantum of Solace                                      </td> <td>330784         </td> <td>2023                     </td> <td>Rory Kinnear        </td> <td>1                   </td> <td>action hero|attempted rape|bond girl|official james bond ...</td> <td>http://www.imdb.com/title/tt0830515/?ref_=fn_tt_tt_1</td> <td>1243                </td> <td>English </td> <td>UK         </td> <td>PG-13         </td> <td>2e+08    </td> <td>2008      </td> <td>412                   </td> <td>6.7       </td> <td>2.35        </td> <td>0                   </td>\n",
              "        </tr>\n",
              "        <tr>\n",
              "            <td>Color</td> <td>Gore Verbinski   </td> <td>313                   </td> <td>151     </td> <td>563                    </td> <td>1000                  </td> <td>Orlando Bloom       </td> <td>40000                 </td> <td>4.23033e+08</td> <td>Action|Adventure|Fantasy                                 </td> <td>Johnny Depp       </td> <td>Pirates of the Caribbean: Dead Man's Chest             </td> <td>522040         </td> <td>48486                    </td> <td>Jack Davenport      </td> <td>2                   </td> <td>box office hit|giant squid|heart|liar's dice|monster        </td> <td>http://www.imdb.com/title/tt0383574/?ref_=fn_tt_tt_1</td> <td>1832                </td> <td>English </td> <td>USA        </td> <td>PG-13         </td> <td>2.25e+08 </td> <td>2006      </td> <td>5000                  </td> <td>7.3       </td> <td>2.35        </td> <td>5000                </td>\n",
              "        </tr>\n",
              "        <tr>\n",
              "            <td>Color</td> <td>Gore Verbinski   </td> <td>450                   </td> <td>150     </td> <td>563                    </td> <td>1000                  </td> <td>Ruth Wilson         </td> <td>40000                 </td> <td>8.92899e+07</td> <td>Action|Adventure|Western                                 </td> <td>Johnny Depp       </td> <td>The Lone Ranger                                        </td> <td>181792         </td> <td>45757                    </td> <td>Tom Wilkinson       </td> <td>1                   </td> <td>horse|outlaw|texas|texas ranger|train                       </td> <td>http://www.imdb.com/title/tt1210819/?ref_=fn_tt_tt_1</td> <td>711                 </td> <td>English </td> <td>USA        </td> <td>PG-13         </td> <td>2.15e+08 </td> <td>2013      </td> <td>2000                  </td> <td>6.5       </td> <td>2.35        </td> <td>48000               </td>\n",
              "        </tr>\n",
              "        <tr>\n",
              "            <td>Color</td> <td>Zack Snyder      </td> <td>733                   </td> <td>143     </td> <td>0                      </td> <td>748                   </td> <td>Christopher Meloni  </td> <td>15000                 </td> <td>2.91022e+08</td> <td>Action|Adventure|Fantasy|Sci-Fi                          </td> <td>Henry Cavill      </td> <td>Man of Steel                                           </td> <td>548573         </td> <td>20495                    </td> <td>Harry Lennix        </td> <td>0                   </td> <td>based on comic book|british actor playing american chara ...</td> <td>http://www.imdb.com/title/tt0770828/?ref_=fn_tt_tt_1</td> <td>2536                </td> <td>English </td> <td>USA        </td> <td>PG-13         </td> <td>2.25e+08 </td> <td>2013      </td> <td>3000                  </td> <td>7.2       </td> <td>2.35        </td> <td>118000              </td>\n",
              "        </tr>\n",
              "        <tr>\n",
              "            <td>Color</td> <td>Andrew Adamson   </td> <td>258                   </td> <td>150     </td> <td>80                     </td> <td>201                   </td> <td>Pierfrancesco Favino</td> <td>22000                 </td> <td>1.41614e+08</td> <td>Action|Adventure|Family|Fantasy                          </td> <td>Peter Dinklage    </td> <td>The Chronicles of Narnia: Prince Caspian               </td> <td>149922         </td> <td>22697                    </td> <td>Damián Alcázar      </td> <td>4                   </td> <td>brother brother relationship|brother sister relationship ...</td> <td>http://www.imdb.com/title/tt0499448/?ref_=fn_tt_tt_1</td> <td>438                 </td> <td>English </td> <td>USA        </td> <td>PG            </td> <td>2.25e+08 </td> <td>2008      </td> <td>216                   </td> <td>6.6       </td> <td>2.35        </td> <td>0                   </td>\n",
              "        </tr>\n",
              "        <tr>\n",
              "            <td>Color</td> <td>Joss Whedon      </td> <td>703                   </td> <td>173     </td> <td>0                      </td> <td>19000                 </td> <td>Robert Downey Jr.   </td> <td>26000                 </td> <td>6.2328e+08 </td> <td>Action|Adventure|Sci-Fi                                  </td> <td>Chris Hemsworth   </td> <td>The Avengers                                           </td> <td>995415         </td> <td>87697                    </td> <td>Scarlett Johansson  </td> <td>3                   </td> <td>alien invasion|assassin|battle|iron man|soldier             </td> <td>http://www.imdb.com/title/tt0848228/?ref_=fn_tt_tt_1</td> <td>1722                </td> <td>English </td> <td>USA        </td> <td>PG-13         </td> <td>2.2e+08  </td> <td>2012      </td> <td>21000                 </td> <td>8.1       </td> <td>1.85        </td> <td>123000              </td>\n",
              "        </tr>\n",
              "        <tr>\n",
              "            <td>Color</td> <td>Rob Marshall     </td> <td>448                   </td> <td>136     </td> <td>252                    </td> <td>1000                  </td> <td>Sam Claflin         </td> <td>40000                 </td> <td>2.41064e+08</td> <td>Action|Adventure|Fantasy                                 </td> <td>Johnny Depp       </td> <td>Pirates of the Caribbean: On Stranger Tides            </td> <td>370704         </td> <td>54083                    </td> <td>Stephen Graham      </td> <td>4                   </td> <td>blackbeard|captain|pirate|revenge|soldier                   </td> <td>http://www.imdb.com/title/tt1298650/?ref_=fn_tt_tt_1</td> <td>484                 </td> <td>English </td> <td>USA        </td> <td>PG-13         </td> <td>2.5e+08  </td> <td>2011      </td> <td>11000                 </td> <td>6.7       </td> <td>2.35        </td> <td>58000               </td>\n",
              "        </tr>\n",
              "        <tr>\n",
              "            <td>Color</td> <td>Barry Sonnenfeld </td> <td>451                   </td> <td>106     </td> <td>188                    </td> <td>718                   </td> <td>Michael Stuhlbarg   </td> <td>10000                 </td> <td>1.79021e+08</td> <td>Action|Adventure|Comedy|Family|Fantasy|Sci-Fi            </td> <td>Will Smith        </td> <td>Men in Black 3                                         </td> <td>268154         </td> <td>12572                    </td> <td>Nicole Scherzinger  </td> <td>1                   </td> <td>alien|criminal|m.i.b.|maximum security prison|prison        </td> <td>http://www.imdb.com/title/tt1409024/?ref_=fn_tt_tt_1</td> <td>341                 </td> <td>English </td> <td>USA        </td> <td>PG-13         </td> <td>2.25e+08 </td> <td>2012      </td> <td>816                   </td> <td>6.8       </td> <td>1.85        </td> <td>40000               </td>\n",
              "        </tr>\n",
              "        <tr>\n",
              "            <td>Color</td> <td>Peter Jackson    </td> <td>422                   </td> <td>164     </td> <td>0                      </td> <td>773                   </td> <td>Adam Brown          </td> <td>5000                  </td> <td>2.55108e+08</td> <td>Adventure|Fantasy                                        </td> <td>Aidan Turner      </td> <td>The Hobbit: The Battle of the Five Armies              </td> <td>354228         </td> <td>9152                     </td> <td>James Nesbitt       </td> <td>0                   </td> <td>army|elf|hobbit|middle earth|orc                            </td> <td>http://www.imdb.com/title/tt2310332/?ref_=fn_tt_tt_1</td> <td>802                 </td> <td>English </td> <td>New Zealand</td> <td>PG-13         </td> <td>2.5e+08  </td> <td>2014      </td> <td>972                   </td> <td>7.5       </td> <td>2.35        </td> <td>65000               </td>\n",
              "        </tr>\n",
              "        <tr>\n",
              "            <td>Color</td> <td>Marc Webb        </td> <td>599                   </td> <td>153     </td> <td>464                    </td> <td>963                   </td> <td>Andrew Garfield     </td> <td>15000                 </td> <td>2.62031e+08</td> <td>Action|Adventure|Fantasy                                 </td> <td>Emma Stone        </td> <td>The Amazing Spider-Man                                 </td> <td>451803         </td> <td>28489                    </td> <td>Chris Zylka         </td> <td>0                   </td> <td>lizard|outcast|spider|spider man|teenager                   </td> <td>http://www.imdb.com/title/tt0948470/?ref_=fn_tt_tt_1</td> <td>1225                </td> <td>English </td> <td>USA        </td> <td>PG-13         </td> <td>2.3e+08  </td> <td>2012      </td> <td>10000                 </td> <td>7         </td> <td>2.35        </td> <td>56000               </td>\n",
              "        </tr>\n",
              "        <tr>\n",
              "            <td>Color</td> <td>Ridley Scott     </td> <td>343                   </td> <td>156     </td> <td>0                      </td> <td>738                   </td> <td>William Hurt        </td> <td>891                   </td> <td>1.0522e+08 </td> <td>Action|Adventure|Drama|History                           </td> <td>Mark Addy         </td> <td>Robin Hood                                             </td> <td>211765         </td> <td>3244                     </td> <td>Scott Grimes        </td> <td>0                   </td> <td>1190s|archer|england|king of england|robin hood             </td> <td>http://www.imdb.com/title/tt0955308/?ref_=fn_tt_tt_1</td> <td>546                 </td> <td>English </td> <td>USA        </td> <td>PG-13         </td> <td>2e+08    </td> <td>2010      </td> <td>882                   </td> <td>6.7       </td> <td>2.35        </td> <td>17000               </td>\n",
              "        </tr>\n",
              "        <tr>\n",
              "            <td>Color</td> <td>Peter Jackson    </td> <td>509                   </td> <td>186     </td> <td>0                      </td> <td>773                   </td> <td>Adam Brown          </td> <td>5000                  </td> <td>2.58355e+08</td> <td>Adventure|Fantasy                                        </td> <td>Aidan Turner      </td> <td>The Hobbit: The Desolation of Smaug                    </td> <td>483540         </td> <td>9152                     </td> <td>James Nesbitt       </td> <td>6                   </td> <td>dwarf|elf|lake town|mountain|sword and sorcery              </td> <td>http://www.imdb.com/title/tt1170358/?ref_=fn_tt_tt_1</td> <td>951                 </td> <td>English </td> <td>USA        </td> <td>PG-13         </td> <td>2.25e+08 </td> <td>2013      </td> <td>972                   </td> <td>7.9       </td> <td>2.35        </td> <td>83000               </td>\n",
              "        </tr>\n",
              "    </tbody>\n",
              "</table>\n",
              "<p>... (5019 rows omitted)</p>"
            ],
            "text/plain": [
              "<IPython.core.display.HTML object>"
            ]
          },
          "metadata": {
            "tags": []
          }
        }
      ]
    },
    {
      "cell_type": "code",
      "metadata": {
        "id": "NUwvM4tXcTJ1",
        "colab_type": "code",
        "colab": {}
      },
      "source": [
        "Movies_time=Moviesdata.column('duration')"
      ],
      "execution_count": null,
      "outputs": []
    },
    {
      "cell_type": "code",
      "metadata": {
        "id": "v_VviHs6cgKq",
        "colab_type": "code",
        "colab": {
          "base_uri": "https://localhost:8080/",
          "height": 34
        },
        "outputId": "d0afc3b4-bac1-46d8-f05d-110bff5df56d"
      },
      "source": [
        "Movies_time"
      ],
      "execution_count": null,
      "outputs": [
        {
          "output_type": "execute_result",
          "data": {
            "text/plain": [
              "array([178., 169., 148., ...,  76., 100.,  90.])"
            ]
          },
          "metadata": {
            "tags": []
          },
          "execution_count": 31
        }
      ]
    },
    {
      "cell_type": "code",
      "metadata": {
        "id": "oCllMFtOciGR",
        "colab_type": "code",
        "colab": {}
      },
      "source": [
        "sort_Movies_time=Moviesdata.sort('duration')"
      ],
      "execution_count": null,
      "outputs": []
    },
    {
      "cell_type": "code",
      "metadata": {
        "id": "b1UJG-q7cuN2",
        "colab_type": "code",
        "colab": {
          "base_uri": "https://localhost:8080/",
          "height": 646
        },
        "outputId": "f883f2e8-b74f-4b9d-faab-88be9b66651b"
      },
      "source": [
        "sort_Movies_time"
      ],
      "execution_count": null,
      "outputs": [
        {
          "output_type": "execute_result",
          "data": {
            "text/html": [
              "<table border=\"1\" class=\"dataframe\">\n",
              "    <thead>\n",
              "        <tr>\n",
              "            <th>color</th> <th>director_name</th> <th>num_critic_for_reviews</th> <th>duration</th> <th>director_facebook_likes</th> <th>actor_3_facebook_likes</th> <th>actor_2_name</th> <th>actor_1_facebook_likes</th> <th>gross</th> <th>genres</th> <th>actor_1_name</th> <th>movie_title</th> <th>num_voted_users</th> <th>cast_total_facebook_likes</th> <th>actor_3_name</th> <th>facenumber_in_poster</th> <th>plot_keywords</th> <th>movie_imdb_link</th> <th>num_user_for_reviews</th> <th>language</th> <th>country</th> <th>content_rating</th> <th>budget</th> <th>title_year</th> <th>actor_2_facebook_likes</th> <th>imdb_score</th> <th>aspect_ratio</th> <th>movie_facebook_likes</th>\n",
              "        </tr>\n",
              "    </thead>\n",
              "    <tbody>\n",
              "        <tr>\n",
              "            <td>Color</td> <td>nan                </td> <td>12                    </td> <td>7       </td> <td>nan                    </td> <td>3                     </td> <td>John Sparkes      </td> <td>45                    </td> <td>nan  </td> <td>Animation|Comedy|Family     </td> <td>Justin Fletcher </td> <td>Shaun the Sheep                               </td> <td>7968           </td> <td>55                       </td> <td>Kate Harbour      </td> <td>0                   </td> <td>farmer|mischief|no dialog|sheep|sheepdog                    </td> <td>http://www.imdb.com/title/tt0983983/?ref_=fn_tt_tt_1</td> <td>12                  </td> <td>English </td> <td>UK     </td> <td>TV-G          </td> <td>nan    </td> <td>nan       </td> <td>7                     </td> <td>8.3       </td> <td>nan         </td> <td>834                 </td>\n",
              "        </tr>\n",
              "        <tr>\n",
              "            <td>Color</td> <td>Jane Clark         </td> <td>nan                   </td> <td>7       </td> <td>23                     </td> <td>51                    </td> <td>Traci Dinwiddie   </td> <td>344                   </td> <td>nan  </td> <td>Romance|Short               </td> <td>Necar Zadegan   </td> <td>The Touch                                     </td> <td>118            </td> <td>726                      </td> <td>Elea Oberon       </td> <td>0                   </td> <td>lesbian|paris france|period piece|poem|poetess              </td> <td>http://www.imdb.com/title/tt1128219/?ref_=fn_tt_tt_1</td> <td>nan                 </td> <td>English </td> <td>USA    </td> <td>nan           </td> <td>13000  </td> <td>2007      </td> <td>281                   </td> <td>5.2       </td> <td>1.85        </td> <td>30                  </td>\n",
              "        </tr>\n",
              "        <tr>\n",
              "            <td>Color</td> <td>nan                </td> <td>38                    </td> <td>11      </td> <td>nan                    </td> <td>0                     </td> <td>Seth Green        </td> <td>11                    </td> <td>nan  </td> <td>Animation|Comedy            </td> <td>Matthew Senreich</td> <td>Robot Chicken                                 </td> <td>32923          </td> <td>11                       </td> <td>Breckin Meyer     </td> <td>0                   </td> <td>celebrity|robot|satire|sketch comedy|stop motion animation  </td> <td>http://www.imdb.com/title/tt0437745/?ref_=fn_tt_tt_1</td> <td>75                  </td> <td>English </td> <td>USA    </td> <td>TV-MA         </td> <td>nan    </td> <td>nan       </td> <td>0                     </td> <td>7.8       </td> <td>1.33        </td> <td>1000                </td>\n",
              "        </tr>\n",
              "        <tr>\n",
              "            <td>Color</td> <td>Clark Baker        </td> <td>1                     </td> <td>14      </td> <td>0                      </td> <td>37                    </td> <td>Alan Pietruszewski</td> <td>134                   </td> <td>nan  </td> <td>Horror|Sci-Fi|Short|Thriller</td> <td>Taylor Pigeon   </td> <td>Vessel                                        </td> <td>292            </td> <td>315                      </td> <td>Whit Spurgeon     </td> <td>1                   </td> <td>alien|flight attendant|monster|pilot|tentacle               </td> <td>http://www.imdb.com/title/tt2164708/?ref_=fn_tt_tt_1</td> <td>3                   </td> <td>English </td> <td>USA    </td> <td>nan           </td> <td>nan    </td> <td>2012      </td> <td>93                    </td> <td>6.2       </td> <td>nan         </td> <td>14                  </td>\n",
              "        </tr>\n",
              "        <tr>\n",
              "            <td>Color</td> <td>Robert Greenwald   </td> <td>56                    </td> <td>20      </td> <td>21                     </td> <td>0                     </td> <td>Jon Hunter        </td> <td>0                     </td> <td>nan  </td> <td>Documentary                 </td> <td>Lee Scott       </td> <td>Wal-Mart: The High Cost of Low Price          </td> <td>4120           </td> <td>0                        </td> <td>Matt Hunter       </td> <td>0                   </td> <td>greed|pollution|slave labor|truth|wal mart                  </td> <td>http://www.imdb.com/title/tt0473107/?ref_=fn_tt_tt_1</td> <td>70                  </td> <td>English </td> <td>USA    </td> <td>Not Rated     </td> <td>1.5e+06</td> <td>2005      </td> <td>0                     </td> <td>6.8       </td> <td>1.85        </td> <td>0                   </td>\n",
              "        </tr>\n",
              "        <tr>\n",
              "            <td>nan  </td> <td>Christopher Barnard</td> <td>nan                   </td> <td>22      </td> <td>0                      </td> <td>nan                   </td> <td>nan               </td> <td>5                     </td> <td>nan  </td> <td>Comedy                      </td> <td>Mathew Buck     </td> <td>10,000 B.C.                                   </td> <td>6              </td> <td>5                        </td> <td>nan               </td> <td>0                   </td> <td>nan                                                         </td> <td>http://www.imdb.com/title/tt1869849/?ref_=fn_tt_tt_1</td> <td>nan                 </td> <td>nan     </td> <td>nan    </td> <td>nan           </td> <td>nan    </td> <td>nan       </td> <td>nan                   </td> <td>7.2       </td> <td>nan         </td> <td>0                   </td>\n",
              "        </tr>\n",
              "        <tr>\n",
              "            <td>Color</td> <td>nan                </td> <td>8                     </td> <td>22      </td> <td>nan                    </td> <td>402                   </td> <td>Oliver Hudson     </td> <td>732                   </td> <td>nan  </td> <td>Comedy|Romance              </td> <td>Bianca Kajlich  </td> <td>Rules of Engagement                           </td> <td>26404          </td> <td>2064                     </td> <td>Adhir Kalyan      </td> <td>3                   </td> <td>fiance|fiancee|magazine editor|naivety|womanizer            </td> <td>http://www.imdb.com/title/tt0790772/?ref_=fn_tt_tt_1</td> <td>41                  </td> <td>English </td> <td>USA    </td> <td>TV-PG         </td> <td>nan    </td> <td>nan       </td> <td>607                   </td> <td>7.3       </td> <td>1.78        </td> <td>0                   </td>\n",
              "        </tr>\n",
              "        <tr>\n",
              "            <td>Color</td> <td>nan                </td> <td>20                    </td> <td>22      </td> <td>nan                    </td> <td>271                   </td> <td>Soleil Moon Frye  </td> <td>870                   </td> <td>nan  </td> <td>Comedy|Family|Fantasy       </td> <td>Nate Richert    </td> <td>Sabrina, the Teenage Witch                    </td> <td>24420          </td> <td>2433                     </td> <td>Caroline Rhea     </td> <td>1                   </td> <td>female protagonist|hereditary gift of witchcraft|magic|s ...</td> <td>http://www.imdb.com/title/tt0115341/?ref_=fn_tt_tt_1</td> <td>94                  </td> <td>English </td> <td>USA    </td> <td>TV-G          </td> <td>3e+06  </td> <td>nan       </td> <td>558                   </td> <td>6.6       </td> <td>1.33        </td> <td>990                 </td>\n",
              "        </tr>\n",
              "        <tr>\n",
              "            <td>Color</td> <td>nan                </td> <td>26                    </td> <td>22      </td> <td>nan                    </td> <td>676                   </td> <td>Noureen DeWulf    </td> <td>883                   </td> <td>nan  </td> <td>Comedy|Romance              </td> <td>Barry Corbin    </td> <td>Anger Management                              </td> <td>26992          </td> <td>4115                     </td> <td>Brian Austin Green</td> <td>1                   </td> <td>anger management|argument|irony|sarcasm|therapist           </td> <td>http://www.imdb.com/title/tt1986770/?ref_=fn_tt_tt_1</td> <td>54                  </td> <td>English </td> <td>USA    </td> <td>nan           </td> <td>nan    </td> <td>nan       </td> <td>701                   </td> <td>6.7       </td> <td>16          </td> <td>0                   </td>\n",
              "        </tr>\n",
              "        <tr>\n",
              "            <td>Color</td> <td>nan                </td> <td>79                    </td> <td>22      </td> <td>nan                    </td> <td>424                   </td> <td>Kaitlin Olson     </td> <td>813                   </td> <td>nan  </td> <td>Comedy                      </td> <td>Rob McElhenney  </td> <td>It's Always Sunny in Philadelphia             </td> <td>133415         </td> <td>1784                     </td> <td>Glenn Howerton    </td> <td>5                   </td> <td>alcohol|bad taste humour|crude humor|loser|self obsession   </td> <td>http://www.imdb.com/title/tt0472954/?ref_=fn_tt_tt_1</td> <td>151                 </td> <td>English </td> <td>USA    </td> <td>TV-MA         </td> <td>nan    </td> <td>nan       </td> <td>547                   </td> <td>8.8       </td> <td>1.33        </td> <td>0                   </td>\n",
              "        </tr>\n",
              "    </tbody>\n",
              "</table>\n",
              "<p>... (5033 rows omitted)</p>"
            ],
            "text/plain": [
              "color | director_name       | num_critic_for_reviews | duration | director_facebook_likes | actor_3_facebook_likes | actor_2_name       | actor_1_facebook_likes | gross | genres                       | actor_1_name     | movie_title                                    | num_voted_users | cast_total_facebook_likes | actor_3_name       | facenumber_in_poster | plot_keywords                                                | movie_imdb_link                                      | num_user_for_reviews | language | country | content_rating | budget  | title_year | actor_2_facebook_likes | imdb_score | aspect_ratio | movie_facebook_likes\n",
              "Color | nan                 | 12                     | 7        | nan                     | 3                      | John Sparkes       | 45                     | nan   | Animation|Comedy|Family      | Justin Fletcher  | Shaun the Sheep                                | 7968            | 55                        | Kate Harbour       | 0                    | farmer|mischief|no dialog|sheep|sheepdog                     | http://www.imdb.com/title/tt0983983/?ref_=fn_tt_tt_1 | 12                   | English  | UK      | TV-G           | nan     | nan        | 7                      | 8.3        | nan          | 834\n",
              "Color | Jane Clark          | nan                    | 7        | 23                      | 51                     | Traci Dinwiddie    | 344                    | nan   | Romance|Short                | Necar Zadegan    | The Touch                                      | 118             | 726                       | Elea Oberon        | 0                    | lesbian|paris france|period piece|poem|poetess               | http://www.imdb.com/title/tt1128219/?ref_=fn_tt_tt_1 | nan                  | English  | USA     | nan            | 13000   | 2007       | 281                    | 5.2        | 1.85         | 30\n",
              "Color | nan                 | 38                     | 11       | nan                     | 0                      | Seth Green         | 11                     | nan   | Animation|Comedy             | Matthew Senreich | Robot Chicken                                  | 32923           | 11                        | Breckin Meyer      | 0                    | celebrity|robot|satire|sketch comedy|stop motion animation   | http://www.imdb.com/title/tt0437745/?ref_=fn_tt_tt_1 | 75                   | English  | USA     | TV-MA          | nan     | nan        | 0                      | 7.8        | 1.33         | 1000\n",
              "Color | Clark Baker         | 1                      | 14       | 0                       | 37                     | Alan Pietruszewski | 134                    | nan   | Horror|Sci-Fi|Short|Thriller | Taylor Pigeon    | Vessel                                         | 292             | 315                       | Whit Spurgeon      | 1                    | alien|flight attendant|monster|pilot|tentacle                | http://www.imdb.com/title/tt2164708/?ref_=fn_tt_tt_1 | 3                    | English  | USA     | nan            | nan     | 2012       | 93                     | 6.2        | nan          | 14\n",
              "Color | Robert Greenwald    | 56                     | 20       | 21                      | 0                      | Jon Hunter         | 0                      | nan   | Documentary                  | Lee Scott        | Wal-Mart: The High Cost of Low Price           | 4120            | 0                         | Matt Hunter        | 0                    | greed|pollution|slave labor|truth|wal mart                   | http://www.imdb.com/title/tt0473107/?ref_=fn_tt_tt_1 | 70                   | English  | USA     | Not Rated      | 1.5e+06 | 2005       | 0                      | 6.8        | 1.85         | 0\n",
              "nan   | Christopher Barnard | nan                    | 22       | 0                       | nan                    | nan                | 5                      | nan   | Comedy                       | Mathew Buck      | 10,000 B.C.                                    | 6               | 5                         | nan                | 0                    | nan                                                          | http://www.imdb.com/title/tt1869849/?ref_=fn_tt_tt_1 | nan                  | nan      | nan     | nan            | nan     | nan        | nan                    | 7.2        | nan          | 0\n",
              "Color | nan                 | 8                      | 22       | nan                     | 402                    | Oliver Hudson      | 732                    | nan   | Comedy|Romance               | Bianca Kajlich   | Rules of Engagement                            | 26404           | 2064                      | Adhir Kalyan       | 3                    | fiance|fiancee|magazine editor|naivety|womanizer             | http://www.imdb.com/title/tt0790772/?ref_=fn_tt_tt_1 | 41                   | English  | USA     | TV-PG          | nan     | nan        | 607                    | 7.3        | 1.78         | 0\n",
              "Color | nan                 | 20                     | 22       | nan                     | 271                    | Soleil Moon Frye   | 870                    | nan   | Comedy|Family|Fantasy        | Nate Richert     | Sabrina, the Teenage Witch                     | 24420           | 2433                      | Caroline Rhea      | 1                    | female protagonist|hereditary gift of witchcraft|magic|s ... | http://www.imdb.com/title/tt0115341/?ref_=fn_tt_tt_1 | 94                   | English  | USA     | TV-G           | 3e+06   | nan        | 558                    | 6.6        | 1.33         | 990\n",
              "Color | nan                 | 26                     | 22       | nan                     | 676                    | Noureen DeWulf     | 883                    | nan   | Comedy|Romance               | Barry Corbin     | Anger Management                               | 26992           | 4115                      | Brian Austin Green | 1                    | anger management|argument|irony|sarcasm|therapist            | http://www.imdb.com/title/tt1986770/?ref_=fn_tt_tt_1 | 54                   | English  | USA     | nan            | nan     | nan        | 701                    | 6.7        | 16           | 0\n",
              "Color | nan                 | 79                     | 22       | nan                     | 424                    | Kaitlin Olson      | 813                    | nan   | Comedy                       | Rob McElhenney   | It's Always Sunny in Philadelphia              | 133415          | 1784                      | Glenn Howerton     | 5                    | alcohol|bad taste humour|crude humor|loser|self obsession    | http://www.imdb.com/title/tt0472954/?ref_=fn_tt_tt_1 | 151                  | English  | USA     | TV-MA          | nan     | nan        | 547                    | 8.8        | 1.33         | 0\n",
              "... (5033 rows omitted)"
            ]
          },
          "metadata": {
            "tags": []
          },
          "execution_count": 33
        }
      ]
    },
    {
      "cell_type": "code",
      "metadata": {
        "id": "iuC_moG8cyAU",
        "colab_type": "code",
        "colab": {}
      },
      "source": [
        "sort_Movies_time=Moviesdata.sort('duration', descending=True)"
      ],
      "execution_count": null,
      "outputs": []
    },
    {
      "cell_type": "code",
      "metadata": {
        "id": "J9uvSw6_c5N5",
        "colab_type": "code",
        "colab": {
          "base_uri": "https://localhost:8080/",
          "height": 629
        },
        "outputId": "74fd93d7-c9d2-4533-c022-d5a144f0dfdc"
      },
      "source": [
        "sort_Movies_time"
      ],
      "execution_count": null,
      "outputs": [
        {
          "output_type": "execute_result",
          "data": {
            "text/html": [
              "<table border=\"1\" class=\"dataframe\">\n",
              "    <thead>\n",
              "        <tr>\n",
              "            <th>color</th> <th>director_name</th> <th>num_critic_for_reviews</th> <th>duration</th> <th>director_facebook_likes</th> <th>actor_3_facebook_likes</th> <th>actor_2_name</th> <th>actor_1_facebook_likes</th> <th>gross</th> <th>genres</th> <th>actor_1_name</th> <th>movie_title</th> <th>num_voted_users</th> <th>cast_total_facebook_likes</th> <th>actor_3_name</th> <th>facenumber_in_poster</th> <th>plot_keywords</th> <th>movie_imdb_link</th> <th>num_user_for_reviews</th> <th>language</th> <th>country</th> <th>content_rating</th> <th>budget</th> <th>title_year</th> <th>actor_2_facebook_likes</th> <th>imdb_score</th> <th>aspect_ratio</th> <th>movie_facebook_likes</th>\n",
              "        </tr>\n",
              "    </thead>\n",
              "    <tbody>\n",
              "        <tr>\n",
              "            <td>Color</td> <td>Daniel Mellitz   </td> <td>nan                   </td> <td>nan     </td> <td>0                      </td> <td>15                    </td> <td>Chelse Swain      </td> <td>1000                  </td> <td>nan        </td> <td>Comedy|Drama                   </td> <td>Corbin Bernsen   </td> <td>The Naked Ape          </td> <td>128            </td> <td>1077                     </td> <td>Amanda MacDonald</td> <td>0                   </td> <td>coming of age|male nudity|road trip|skinny dipping|teenager </td> <td>http://www.imdb.com/title/tt0381053/?ref_=fn_tt_tt_1</td> <td>3                   </td> <td>English </td> <td>USA      </td> <td>nan           </td> <td>nan   </td> <td>2006      </td> <td>36                    </td> <td>4.7       </td> <td>nan         </td> <td>2                   </td>\n",
              "        </tr>\n",
              "        <tr>\n",
              "            <td>Color</td> <td>Valentine        </td> <td>nan                   </td> <td>nan     </td> <td>0                      </td> <td>nan                   </td> <td>Valentine         </td> <td>17                    </td> <td>nan        </td> <td>Romance                        </td> <td>Diane Sorrentino </td> <td>Romantic Schemer       </td> <td>172            </td> <td>17                       </td> <td>nan             </td> <td>2                   </td> <td>nan                                                         </td> <td>http://www.imdb.com/title/tt4607906/?ref_=fn_tt_tt_1</td> <td>nan                 </td> <td>English </td> <td>USA      </td> <td>PG-13         </td> <td>125000</td> <td>2015      </td> <td>0                     </td> <td>5.1       </td> <td>nan         </td> <td>0                   </td>\n",
              "        </tr>\n",
              "        <tr>\n",
              "            <td>Color</td> <td>Joseph Kosinski  </td> <td>4                     </td> <td>nan     </td> <td>364                    </td> <td>567                   </td> <td>Lauren Cohan      </td> <td>22000                 </td> <td>nan        </td> <td>Action|Adventure|Fantasy|Sci-Fi</td> <td>Peter Dinklage   </td> <td>Destiny                </td> <td>3089           </td> <td>26578                    </td> <td>Erick Avari     </td> <td>0                   </td> <td>first person shooter                                        </td> <td>http://www.imdb.com/title/tt2983582/?ref_=fn_tt_tt_1</td> <td>11                  </td> <td>English </td> <td>USA      </td> <td>nan           </td> <td>nan   </td> <td>2014      </td> <td>4000                  </td> <td>8.1       </td> <td>nan         </td> <td>1000                </td>\n",
              "        </tr>\n",
              "        <tr>\n",
              "            <td>Color</td> <td>Wajahat Rauf     </td> <td>6                     </td> <td>nan     </td> <td>3                      </td> <td>4                     </td> <td>Ayesha Omar       </td> <td>7                     </td> <td>nan        </td> <td>Comedy|Family                  </td> <td>Rasheed Naz      </td> <td>Karachi se Lahore      </td> <td>876            </td> <td>19                       </td> <td>Javed Sheikh    </td> <td>9                   </td> <td>pakistan|road trip                                          </td> <td>http://www.imdb.com/title/tt4590482/?ref_=fn_tt_tt_1</td> <td>15                  </td> <td>Urdu    </td> <td>Pakistan </td> <td>nan           </td> <td>1e+06 </td> <td>2015      </td> <td>5                     </td> <td>7         </td> <td>nan         </td> <td>259                 </td>\n",
              "        </tr>\n",
              "        <tr>\n",
              "            <td>Color</td> <td>nan              </td> <td>2                     </td> <td>nan     </td> <td>nan                    </td> <td>206                   </td> <td>John Jarratt      </td> <td>511                   </td> <td>nan        </td> <td>Drama|Horror|Thriller          </td> <td>Richard Cawthorne</td> <td>Wolf Creek             </td> <td>726            </td> <td>1617                     </td> <td>Lucy Fry        </td> <td>0                   </td> <td>based on true story|blood|serial killer|slasher|tv mini  ...</td> <td>http://www.imdb.com/title/tt4460878/?ref_=fn_tt_tt_1</td> <td>6                   </td> <td>English </td> <td>Australia</td> <td>nan           </td> <td>nan   </td> <td>nan       </td> <td>457                   </td> <td>7.1       </td> <td>2           </td> <td>954                 </td>\n",
              "        </tr>\n",
              "        <tr>\n",
              "            <td>Color</td> <td>Romesh Sharma    </td> <td>4                     </td> <td>nan     </td> <td>0                      </td> <td>45                    </td> <td>Revathy           </td> <td>421                   </td> <td>129319     </td> <td>Romance                        </td> <td>Annabelle Wallis </td> <td>Dil Jo Bhi Kahey...    </td> <td>257            </td> <td>622                      </td> <td>Bhoomika Chawla </td> <td>4                   </td> <td>nan                                                         </td> <td>http://www.imdb.com/title/tt0442764/?ref_=fn_tt_tt_1</td> <td>4                   </td> <td>English </td> <td>India    </td> <td>nan           </td> <td>7e+07 </td> <td>2005      </td> <td>96                    </td> <td>5.1       </td> <td>nan         </td> <td>9                   </td>\n",
              "        </tr>\n",
              "        <tr>\n",
              "            <td>Color</td> <td>David M. Matthews</td> <td>5                     </td> <td>nan     </td> <td>8                      </td> <td>394                   </td> <td>Lamman Rucker     </td> <td>713                   </td> <td>2.59281e+06</td> <td>Crime|Drama|Thriller           </td> <td>Essence Atkins   </td> <td>N-Secure               </td> <td>548            </td> <td>3137                     </td> <td>Tempestt Bledsoe</td> <td>5                   </td> <td>betrayal|family relationships|insecurity|murder|passive  ...</td> <td>http://www.imdb.com/title/tt1289419/?ref_=fn_tt_tt_1</td> <td>15                  </td> <td>English </td> <td>USA      </td> <td>R             </td> <td>nan   </td> <td>2010      </td> <td>607                   </td> <td>3.5       </td> <td>2.35        </td> <td>588                 </td>\n",
              "        </tr>\n",
              "        <tr>\n",
              "            <td>Color</td> <td>Kundan Shah      </td> <td>1                     </td> <td>nan     </td> <td>4                      </td> <td>72                    </td> <td>Bobby Deol        </td> <td>353                   </td> <td>nan        </td> <td>Action|Comedy|Romance|Thriller </td> <td>Karisma Kapoor   </td> <td>Hum To Mohabbat Karega </td> <td>275            </td> <td>613                      </td> <td>Shakti Kapoor   </td> <td>2                   </td> <td>elevator|news reporter|police|restaurant|waiter             </td> <td>http://www.imdb.com/title/tt0249588/?ref_=fn_tt_tt_1</td> <td>1                   </td> <td>Hindi   </td> <td>India    </td> <td>nan           </td> <td>nan   </td> <td>2000      </td> <td>89                    </td> <td>2.8       </td> <td>nan         </td> <td>10                  </td>\n",
              "        </tr>\n",
              "        <tr>\n",
              "            <td>Color</td> <td>Shekar           </td> <td>1                     </td> <td>nan     </td> <td>0                      </td> <td>0                     </td> <td>Diganth           </td> <td>5                     </td> <td>nan        </td> <td>Comedy|Romance                 </td> <td>Bhama            </td> <td>Barfi                  </td> <td>57             </td> <td>5                        </td> <td>Dileep Raj      </td> <td>2                   </td> <td>nan                                                         </td> <td>http://www.imdb.com/title/tt3099638/?ref_=fn_tt_tt_1</td> <td>1                   </td> <td>Kannada </td> <td>India    </td> <td>nan           </td> <td>nan   </td> <td>2013      </td> <td>0                     </td> <td>7.1       </td> <td>nan         </td> <td>2                   </td>\n",
              "        </tr>\n",
              "        <tr>\n",
              "            <td>Color</td> <td>Marc Bennett     </td> <td>2                     </td> <td>nan     </td> <td>3                      </td> <td>723                   </td> <td>Natasha Henstridge</td> <td>975                   </td> <td>nan        </td> <td>Comedy|Drama                   </td> <td>Michael Rapaport </td> <td>Should've Been Romeo   </td> <td>38             </td> <td>4991                     </td> <td>Costas Mandylor </td> <td>15                  </td> <td>nan                                                         </td> <td>http://www.imdb.com/title/tt1717210/?ref_=fn_tt_tt_1</td> <td>2                   </td> <td>English </td> <td>USA      </td> <td>nan           </td> <td>5e+06 </td> <td>2012      </td> <td>900                   </td> <td>6.7       </td> <td>nan         </td> <td>35                  </td>\n",
              "        </tr>\n",
              "    </tbody>\n",
              "</table>\n",
              "<p>... (5033 rows omitted)</p>"
            ],
            "text/plain": [
              "color | director_name     | num_critic_for_reviews | duration | director_facebook_likes | actor_3_facebook_likes | actor_2_name       | actor_1_facebook_likes | gross       | genres                          | actor_1_name      | movie_title             | num_voted_users | cast_total_facebook_likes | actor_3_name     | facenumber_in_poster | plot_keywords                                                | movie_imdb_link                                      | num_user_for_reviews | language | country   | content_rating | budget | title_year | actor_2_facebook_likes | imdb_score | aspect_ratio | movie_facebook_likes\n",
              "Color | Daniel Mellitz    | nan                    | nan      | 0                       | 15                     | Chelse Swain       | 1000                   | nan         | Comedy|Drama                    | Corbin Bernsen    | The Naked Ape           | 128             | 1077                      | Amanda MacDonald | 0                    | coming of age|male nudity|road trip|skinny dipping|teenager  | http://www.imdb.com/title/tt0381053/?ref_=fn_tt_tt_1 | 3                    | English  | USA       | nan            | nan    | 2006       | 36                     | 4.7        | nan          | 2\n",
              "Color | Valentine         | nan                    | nan      | 0                       | nan                    | Valentine          | 17                     | nan         | Romance                         | Diane Sorrentino  | Romantic Schemer        | 172             | 17                        | nan              | 2                    | nan                                                          | http://www.imdb.com/title/tt4607906/?ref_=fn_tt_tt_1 | nan                  | English  | USA       | PG-13          | 125000 | 2015       | 0                      | 5.1        | nan          | 0\n",
              "Color | Joseph Kosinski   | 4                      | nan      | 364                     | 567                    | Lauren Cohan       | 22000                  | nan         | Action|Adventure|Fantasy|Sci-Fi | Peter Dinklage    | Destiny                 | 3089            | 26578                     | Erick Avari      | 0                    | first person shooter                                         | http://www.imdb.com/title/tt2983582/?ref_=fn_tt_tt_1 | 11                   | English  | USA       | nan            | nan    | 2014       | 4000                   | 8.1        | nan          | 1000\n",
              "Color | Wajahat Rauf      | 6                      | nan      | 3                       | 4                      | Ayesha Omar        | 7                      | nan         | Comedy|Family                   | Rasheed Naz       | Karachi se Lahore       | 876             | 19                        | Javed Sheikh     | 9                    | pakistan|road trip                                           | http://www.imdb.com/title/tt4590482/?ref_=fn_tt_tt_1 | 15                   | Urdu     | Pakistan  | nan            | 1e+06  | 2015       | 5                      | 7          | nan          | 259\n",
              "Color | nan               | 2                      | nan      | nan                     | 206                    | John Jarratt       | 511                    | nan         | Drama|Horror|Thriller           | Richard Cawthorne | Wolf Creek              | 726             | 1617                      | Lucy Fry         | 0                    | based on true story|blood|serial killer|slasher|tv mini  ... | http://www.imdb.com/title/tt4460878/?ref_=fn_tt_tt_1 | 6                    | English  | Australia | nan            | nan    | nan        | 457                    | 7.1        | 2            | 954\n",
              "Color | Romesh Sharma     | 4                      | nan      | 0                       | 45                     | Revathy            | 421                    | 129319      | Romance                         | Annabelle Wallis  | Dil Jo Bhi Kahey...     | 257             | 622                       | Bhoomika Chawla  | 4                    | nan                                                          | http://www.imdb.com/title/tt0442764/?ref_=fn_tt_tt_1 | 4                    | English  | India     | nan            | 7e+07  | 2005       | 96                     | 5.1        | nan          | 9\n",
              "Color | David M. Matthews | 5                      | nan      | 8                       | 394                    | Lamman Rucker      | 713                    | 2.59281e+06 | Crime|Drama|Thriller            | Essence Atkins    | N-Secure                | 548             | 3137                      | Tempestt Bledsoe | 5                    | betrayal|family relationships|insecurity|murder|passive  ... | http://www.imdb.com/title/tt1289419/?ref_=fn_tt_tt_1 | 15                   | English  | USA       | R              | nan    | 2010       | 607                    | 3.5        | 2.35         | 588\n",
              "Color | Kundan Shah       | 1                      | nan      | 4                       | 72                     | Bobby Deol         | 353                    | nan         | Action|Comedy|Romance|Thriller  | Karisma Kapoor    | Hum To Mohabbat Karega  | 275             | 613                       | Shakti Kapoor    | 2                    | elevator|news reporter|police|restaurant|waiter              | http://www.imdb.com/title/tt0249588/?ref_=fn_tt_tt_1 | 1                    | Hindi    | India     | nan            | nan    | 2000       | 89                     | 2.8        | nan          | 10\n",
              "Color | Shekar            | 1                      | nan      | 0                       | 0                      | Diganth            | 5                      | nan         | Comedy|Romance                  | Bhama             | Barfi                   | 57              | 5                         | Dileep Raj       | 2                    | nan                                                          | http://www.imdb.com/title/tt3099638/?ref_=fn_tt_tt_1 | 1                    | Kannada  | India     | nan            | nan    | 2013       | 0                      | 7.1        | nan          | 2\n",
              "Color | Marc Bennett      | 2                      | nan      | 3                       | 723                    | Natasha Henstridge | 975                    | nan         | Comedy|Drama                    | Michael Rapaport  | Should've Been Romeo    | 38              | 4991                      | Costas Mandylor  | 15                   | nan                                                          | http://www.imdb.com/title/tt1717210/?ref_=fn_tt_tt_1 | 2                    | English  | USA       | nan            | 5e+06  | 2012       | 900                    | 6.7        | nan          | 35\n",
              "... (5033 rows omitted)"
            ]
          },
          "metadata": {
            "tags": []
          },
          "execution_count": 35
        }
      ]
    },
    {
      "cell_type": "code",
      "metadata": {
        "id": "zVcCw_Q8c8P-",
        "colab_type": "code",
        "colab": {
          "base_uri": "https://localhost:8080/",
          "height": 34
        },
        "outputId": "6f6c7604-a292-4193-ea18-d946c92a68b6"
      },
      "source": [
        "a = 5\n",
        "a"
      ],
      "execution_count": null,
      "outputs": [
        {
          "output_type": "execute_result",
          "data": {
            "text/plain": [
              "5"
            ]
          },
          "metadata": {
            "tags": []
          },
          "execution_count": 36
        }
      ]
    },
    {
      "cell_type": "code",
      "metadata": {
        "id": "FrUuS-AwdATE",
        "colab_type": "code",
        "colab": {
          "base_uri": "https://localhost:8080/",
          "height": 35
        },
        "outputId": "00bb4d44-9cca-4e04-d824-3dc79af19b5e"
      },
      "source": [
        "b = \"6\"\n",
        "b"
      ],
      "execution_count": null,
      "outputs": [
        {
          "output_type": "execute_result",
          "data": {
            "application/vnd.google.colaboratory.intrinsic+json": {
              "type": "string"
            },
            "text/plain": [
              "'6'"
            ]
          },
          "metadata": {
            "tags": []
          },
          "execution_count": 38
        }
      ]
    },
    {
      "cell_type": "code",
      "metadata": {
        "id": "4Zw4rIC5dCYf",
        "colab_type": "code",
        "colab": {
          "base_uri": "https://localhost:8080/",
          "height": 34
        },
        "outputId": "7904be4b-5f2c-413a-8c8e-58b124ef270a"
      },
      "source": [
        "type(a)\n",
        "a"
      ],
      "execution_count": null,
      "outputs": [
        {
          "output_type": "execute_result",
          "data": {
            "text/plain": [
              "5"
            ]
          },
          "metadata": {
            "tags": []
          },
          "execution_count": 39
        }
      ]
    },
    {
      "cell_type": "code",
      "metadata": {
        "id": "qPVCfxVfdllS",
        "colab_type": "code",
        "colab": {
          "base_uri": "https://localhost:8080/",
          "height": 35
        },
        "outputId": "85a1d446-dfe4-4b30-e94a-94141f15c78f"
      },
      "source": [
        "c = \"Hello World\"\n",
        "c"
      ],
      "execution_count": null,
      "outputs": [
        {
          "output_type": "execute_result",
          "data": {
            "application/vnd.google.colaboratory.intrinsic+json": {
              "type": "string"
            },
            "text/plain": [
              "'Hello World'"
            ]
          },
          "metadata": {
            "tags": []
          },
          "execution_count": 50
        }
      ]
    },
    {
      "cell_type": "code",
      "metadata": {
        "id": "5_XE1ugjdsFX",
        "colab_type": "code",
        "colab": {
          "base_uri": "https://localhost:8080/",
          "height": 34
        },
        "outputId": "4f0cb579-287d-42fc-e9ae-af2b30350ebf"
      },
      "source": [
        "type(c)"
      ],
      "execution_count": null,
      "outputs": [
        {
          "output_type": "execute_result",
          "data": {
            "text/plain": [
              "str"
            ]
          },
          "metadata": {
            "tags": []
          },
          "execution_count": 51
        }
      ]
    },
    {
      "cell_type": "code",
      "metadata": {
        "id": "5M04pQPDdIMK",
        "colab_type": "code",
        "colab": {
          "base_uri": "https://localhost:8080/",
          "height": 34
        },
        "outputId": "970423f0-f498-4081-feb4-58acd3ea47a8"
      },
      "source": [
        "d = 3.142\n",
        "d"
      ],
      "execution_count": null,
      "outputs": [
        {
          "output_type": "execute_result",
          "data": {
            "text/plain": [
              "3.142"
            ]
          },
          "metadata": {
            "tags": []
          },
          "execution_count": 45
        }
      ]
    },
    {
      "cell_type": "code",
      "metadata": {
        "id": "2ZoZ4LEFdP7l",
        "colab_type": "code",
        "colab": {
          "base_uri": "https://localhost:8080/",
          "height": 34
        },
        "outputId": "943728a5-cbd4-49c3-d66a-791d68bfa5ea"
      },
      "source": [
        "type(d)"
      ],
      "execution_count": null,
      "outputs": [
        {
          "output_type": "execute_result",
          "data": {
            "text/plain": [
              "float"
            ]
          },
          "metadata": {
            "tags": []
          },
          "execution_count": 47
        }
      ]
    }
  ]
}