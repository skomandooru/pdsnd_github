{
  "nbformat": 4,
  "nbformat_minor": 0,
  "metadata": {
    "kernelspec": {
      "name": "python3",
      "display_name": "Python 3"
    },
    "colab": {
      "name": "Komandooru_Lab2.ipynb",
      "provenance": [],
      "collapsed_sections": [],
      "toc_visible": true,
      "include_colab_link": true
    }
  },
  "cells": [
    {
      "cell_type": "markdown",
      "metadata": {
        "id": "view-in-github",
        "colab_type": "text"
      },
      "source": [
        "<a href=\"https://colab.research.google.com/github/skomandooru/pdsnd_github/blob/master/DS%20200%20Komandooru_Lab2.ipynb\" target=\"_parent\"><img src=\"https://colab.research.google.com/assets/colab-badge.svg\" alt=\"Open In Colab\"/></a>"
      ]
    },
    {
      "cell_type": "markdown",
      "metadata": {
        "id": "EVOKuvzi_gVc",
        "colab_type": "text"
      },
      "source": [
        "# Introduction to Python Programming for Data Science\n",
        "\n",
        " - This notebook provides an introduction to programming with python. \n",
        " - The target is to provide background concepts that you need to leverage python for your data science algorithms, models, and visualizations. \n",
        " \n",
        "## Resources\n",
        " \n",
        "### 1. Datascience Package - Table\n",
        " - http://data8.org/datascience/tutorial.html\n",
        " - http://data8.org/datascience/tables.html\n",
        " - http://data8.org/fa16/ref.html\n",
        "\n",
        "\n",
        "### 2. Course Text\n",
        " - https://jakevdp.github.io/PythonDataScienceHandbook/\n",
        "\n",
        "\n",
        "### 3. Markdown\n",
        " - https://www.markdownguide.org/basic-syntax/\n",
        "\n",
        "### 4. My name is Surya Komandooru  \n",
        "       My partner's name is Donggeon Lee"
      ]
    },
    {
      "cell_type": "markdown",
      "metadata": {
        "collapsed": true,
        "id": "TWIE8G9W_gVd",
        "colab_type": "text"
      },
      "source": [
        "### Expressions in Python\n",
        "Expression Type\tOperator\tExample\tValue\n",
        "- Addition (+)\n",
        "- Subtraction\t(-)\n",
        "- Multiplication\t(*)\n",
        "- Division\t(/)\n",
        "- Remainder\t(%)\n",
        "- Exponentiation\t(**)\n",
        "\n",
        "See some **examples** below"
      ]
    },
    {
      "cell_type": "code",
      "metadata": {
        "trusted": true,
        "id": "ckam-nyL_gVe",
        "colab_type": "code",
        "colab": {
          "base_uri": "https://localhost:8080/",
          "height": 119
        },
        "outputId": "c5c11c35-ae59-4c6b-aca0-08c1a8b21030"
      },
      "source": [
        "x = 5\n",
        "y = 3\n",
        "\n",
        "print(\"Addition: %d\" % (x + y))\n",
        "print(\"Subtraction: %d\" % (x - y))\n",
        "print(\"Multiplication: %d\" % (x * y))\n",
        "print(\"Division: %d\" % (x / y))\n",
        "print(\"Remainder: %d\" % (x % y))\n",
        "print(\"Exponentiation: %d\" % (x ** y))\n"
      ],
      "execution_count": null,
      "outputs": [
        {
          "output_type": "stream",
          "text": [
            "Addition: 8\n",
            "Subtraction: 2\n",
            "Multiplication: 15\n",
            "Division: 1\n",
            "Remainder: 2\n",
            "Exponentiation: 125\n"
          ],
          "name": "stdout"
        }
      ]
    },
    {
      "cell_type": "markdown",
      "metadata": {
        "id": "QPcmJAeD_gVr",
        "colab_type": "text"
      },
      "source": [
        "### Naming variables\n",
        "- Ensure that variables are named in lowercase in python. For example services, persons, year\n",
        "- Use the underscore to catenate more complex names. For example date_of_birth\n",
        "- Keep variable names very descriptive of the values they contain. For example sales_tax"
      ]
    },
    {
      "cell_type": "code",
      "metadata": {
        "trusted": true,
        "id": "OzCm0AYX_gVs",
        "colab_type": "code",
        "colab": {
          "base_uri": "https://localhost:8080/",
          "height": 34
        },
        "outputId": "53717715-d4e6-41ff-d15e-ee8da5e6822a"
      },
      "source": [
        "person_lastname = \"Lee\"\n",
        "person_firstname = \"Donggeon\"\n",
        "age = 20\n",
        "country_tax_rate = 0.13\n",
        "\n",
        "print(\"%s %s is %d. His tax rate is %f\" % (person_firstname, person_lastname.lower(), age, country_tax_rate))"
      ],
      "execution_count": null,
      "outputs": [
        {
          "output_type": "stream",
          "text": [
            "Donggeon lee is 20. His tax rate is 0.130000\n"
          ],
          "name": "stdout"
        }
      ]
    },
    {
      "cell_type": "markdown",
      "metadata": {
        "id": "XzH9-IzK_gVw",
        "colab_type": "text"
      },
      "source": [
        "### Using built-in functions\n",
        "Python supports many built-in function for your transformations. \n",
        "These include rounding off numbers, calculating max, min, averages, etc."
      ]
    },
    {
      "cell_type": "code",
      "metadata": {
        "trusted": true,
        "id": "e_vD4_S0_gVw",
        "colab_type": "code",
        "colab": {}
      },
      "source": [
        "our_list = [1,3,4,6,10] # list of numbers\n",
        "\n",
        "# Return the max, min, and averages to our list\n",
        "print(\"max:%d, min:%d\" % (max(our_list), min(our_list)))"
      ],
      "execution_count": null,
      "outputs": []
    },
    {
      "cell_type": "markdown",
      "metadata": {
        "id": "dmh_d2NK_gV0",
        "colab_type": "text"
      },
      "source": [
        "### User defined functions\n",
        "These are functions that provides specific functionality to your analytics.\n",
        "In the example below, we create a simply UDF for calculating averages of a list"
      ]
    },
    {
      "cell_type": "code",
      "metadata": {
        "trusted": true,
        "id": "0zqImYSP_gV0",
        "colab_type": "code",
        "colab": {}
      },
      "source": [
        "def average(list):\n",
        "    return sum(list) / len(list)\n",
        "\n",
        "# Calculate the average of our list\n",
        "avg = average(our_list)\n",
        "\n",
        "# Print the average\n",
        "print(\"Average = \", round(avg, 3))"
      ],
      "execution_count": null,
      "outputs": []
    },
    {
      "cell_type": "markdown",
      "metadata": {
        "id": "eeawJD-w_gV5",
        "colab_type": "text"
      },
      "source": [
        "### Import modules\n",
        "External modules provide us with extended functionalities. \n",
        "\n",
        "**import** statements allow us to access functions from external libraries. In the example below, we will use the log function from the math library to compute log"
      ]
    },
    {
      "cell_type": "code",
      "metadata": {
        "trusted": true,
        "id": "h60q0H3X_gV5",
        "colab_type": "code",
        "colab": {
          "base_uri": "https://localhost:8080/",
          "height": 68
        },
        "outputId": "2552b010-50e0-4e34-9f3c-8d19e21a6fbd"
      },
      "source": [
        "import math\n",
        "print(\"Square root of 625: %d.\" % math.sqrt(625))\n",
        "print(\"Log 16: %f.\" % round(math.log(16), 2))\n",
        "print(\"Log 64 base 2: %d\" % math.log(64, 2))"
      ],
      "execution_count": null,
      "outputs": [
        {
          "output_type": "stream",
          "text": [
            "Square root of 625: 25.\n",
            "Log 16: 2.770000.\n",
            "Log 64 base 2: 6\n"
          ],
          "name": "stdout"
        }
      ]
    },
    {
      "cell_type": "markdown",
      "metadata": {
        "id": "GKN-wOMw_gV8",
        "colab_type": "text"
      },
      "source": [
        "### Importing specific functions\n",
        "In the example above, we imported the entire math module. Sometimes it's preferable to import specific functions from module.\n",
        "\n",
        "This example shows the same example above but with specific imports\n",
        "\n",
        "***General syntax*** is from <module> import function1, function2, ..., functionn\n"
      ]
    },
    {
      "cell_type": "code",
      "metadata": {
        "trusted": true,
        "id": "StZ2ADlj_gV9",
        "colab_type": "code",
        "colab": {
          "base_uri": "https://localhost:8080/",
          "height": 68
        },
        "outputId": "d4ae07a5-3f1c-4afc-85b6-f1438506c5fb"
      },
      "source": [
        "from math import sqrt, log # Import the functions from the math module\n",
        "\n",
        "print(\"Square root of 625: %d.\" % sqrt(625))\n",
        "print(\"Log 16: %f.\" % round(log(16), 2))\n",
        "print(\"Log 64 base 2: %d\" % log(64, 2))\n",
        "\n",
        "# this is a lot cleaner than the previous example."
      ],
      "execution_count": null,
      "outputs": [
        {
          "output_type": "stream",
          "text": [
            "Square root of 625: 25.\n",
            "Log 16: 2.770000.\n",
            "Log 64 base 2: 6\n"
          ],
          "name": "stdout"
        }
      ]
    },
    {
      "cell_type": "markdown",
      "metadata": {
        "id": "kVC8lj3H_gWB",
        "colab_type": "text"
      },
      "source": [
        "### Working with Collection\n",
        "We will work a lot with collections. They contain group values that can be referenced as a varible.\n",
        "See some examples of collections in python"
      ]
    },
    {
      "cell_type": "code",
      "metadata": {
        "trusted": true,
        "id": "JT5J3X47_gWB",
        "colab_type": "code",
        "colab": {}
      },
      "source": [
        "number_collection = [1,2,3,4,5]\n",
        "number_collection"
      ],
      "execution_count": null,
      "outputs": []
    },
    {
      "cell_type": "code",
      "metadata": {
        "trusted": true,
        "id": "WyEmZrwD_gWJ",
        "colab_type": "code",
        "colab": {}
      },
      "source": [
        "string_collection = [\"one\",\"two\",\"three\",\"four\",\"five\"]\n",
        "string_collection"
      ],
      "execution_count": null,
      "outputs": []
    },
    {
      "cell_type": "code",
      "metadata": {
        "trusted": true,
        "id": "TEg9VxNT_gWM",
        "colab_type": "code",
        "colab": {}
      },
      "source": [
        "mixed_type_collection = [1, 1.2, \"one point 3\", 3.4, 5]\n",
        "mixed_type_collection"
      ],
      "execution_count": null,
      "outputs": []
    },
    {
      "cell_type": "markdown",
      "metadata": {
        "id": "NJQYUryl_gWQ",
        "colab_type": "text"
      },
      "source": [
        "### Importing Packages\n",
        "Sometimes we need to import packages to our notebook. For most of our exercies, we will be using the ***datascience*** package.\n",
        "\n",
        "Use the pip install command to install a new package to your note"
      ]
    },
    {
      "cell_type": "code",
      "metadata": {
        "trusted": true,
        "id": "ymanhB5-_gWR",
        "colab_type": "code",
        "colab": {
          "base_uri": "https://localhost:8080/",
          "height": 870
        },
        "outputId": "b55bbe3b-2c70-401e-d345-53fafe2989c8"
      },
      "source": [
        "!pip install datascience # Install the package\n",
        "\n",
        "# Install all the packages from the data science module\n",
        "from datascience import *"
      ],
      "execution_count": null,
      "outputs": [
        {
          "output_type": "stream",
          "text": [
            "Requirement already satisfied: datascience in /usr/local/lib/python3.6/dist-packages (0.10.6)\n",
            "Requirement already satisfied: setuptools in /usr/local/lib/python3.6/dist-packages (from datascience) (49.6.0)\n",
            "Requirement already satisfied: coveralls==0.5 in /usr/local/lib/python3.6/dist-packages (from datascience) (0.5)\n",
            "Collecting folium==0.2.1\n",
            "\u001b[?25l  Downloading https://files.pythonhosted.org/packages/72/dd/75ced7437bfa7cb9a88b96ee0177953062803c3b4cde411a97d98c35adaf/folium-0.2.1.tar.gz (69kB)\n",
            "\u001b[K     |████████████████████████████████| 71kB 2.8MB/s \n",
            "\u001b[?25hRequirement already satisfied: coverage==3.7.1 in /usr/local/lib/python3.6/dist-packages (from datascience) (3.7.1)\n",
            "Requirement already satisfied: pytest in /usr/local/lib/python3.6/dist-packages (from datascience) (3.6.4)\n",
            "Requirement already satisfied: sphinx in /usr/local/lib/python3.6/dist-packages (from datascience) (1.8.5)\n",
            "Requirement already satisfied: docopt>=0.6.1 in /usr/local/lib/python3.6/dist-packages (from coveralls==0.5->datascience) (0.6.2)\n",
            "Requirement already satisfied: PyYAML>=3.10 in /usr/local/lib/python3.6/dist-packages (from coveralls==0.5->datascience) (3.13)\n",
            "Requirement already satisfied: requests>=1.0.0 in /usr/local/lib/python3.6/dist-packages (from coveralls==0.5->datascience) (2.23.0)\n",
            "Requirement already satisfied: Jinja2 in /usr/local/lib/python3.6/dist-packages (from folium==0.2.1->datascience) (2.11.2)\n",
            "Requirement already satisfied: attrs>=17.4.0 in /usr/local/lib/python3.6/dist-packages (from pytest->datascience) (20.1.0)\n",
            "Requirement already satisfied: more-itertools>=4.0.0 in /usr/local/lib/python3.6/dist-packages (from pytest->datascience) (8.4.0)\n",
            "Requirement already satisfied: atomicwrites>=1.0 in /usr/local/lib/python3.6/dist-packages (from pytest->datascience) (1.4.0)\n",
            "Requirement already satisfied: six>=1.10.0 in /usr/local/lib/python3.6/dist-packages (from pytest->datascience) (1.15.0)\n",
            "Requirement already satisfied: py>=1.5.0 in /usr/local/lib/python3.6/dist-packages (from pytest->datascience) (1.9.0)\n",
            "Requirement already satisfied: pluggy<0.8,>=0.5 in /usr/local/lib/python3.6/dist-packages (from pytest->datascience) (0.7.1)\n",
            "Requirement already satisfied: packaging in /usr/local/lib/python3.6/dist-packages (from sphinx->datascience) (20.4)\n",
            "Requirement already satisfied: babel!=2.0,>=1.3 in /usr/local/lib/python3.6/dist-packages (from sphinx->datascience) (2.8.0)\n",
            "Requirement already satisfied: sphinxcontrib-websupport in /usr/local/lib/python3.6/dist-packages (from sphinx->datascience) (1.2.4)\n",
            "Requirement already satisfied: Pygments>=2.0 in /usr/local/lib/python3.6/dist-packages (from sphinx->datascience) (2.1.3)\n",
            "Requirement already satisfied: snowballstemmer>=1.1 in /usr/local/lib/python3.6/dist-packages (from sphinx->datascience) (2.0.0)\n",
            "Requirement already satisfied: alabaster<0.8,>=0.7 in /usr/local/lib/python3.6/dist-packages (from sphinx->datascience) (0.7.12)\n",
            "Requirement already satisfied: imagesize in /usr/local/lib/python3.6/dist-packages (from sphinx->datascience) (1.2.0)\n",
            "Requirement already satisfied: docutils>=0.11 in /usr/local/lib/python3.6/dist-packages (from sphinx->datascience) (0.15.2)\n",
            "Requirement already satisfied: idna<3,>=2.5 in /usr/local/lib/python3.6/dist-packages (from requests>=1.0.0->coveralls==0.5->datascience) (2.10)\n",
            "Requirement already satisfied: chardet<4,>=3.0.2 in /usr/local/lib/python3.6/dist-packages (from requests>=1.0.0->coveralls==0.5->datascience) (3.0.4)\n",
            "Requirement already satisfied: urllib3!=1.25.0,!=1.25.1,<1.26,>=1.21.1 in /usr/local/lib/python3.6/dist-packages (from requests>=1.0.0->coveralls==0.5->datascience) (1.24.3)\n",
            "Requirement already satisfied: certifi>=2017.4.17 in /usr/local/lib/python3.6/dist-packages (from requests>=1.0.0->coveralls==0.5->datascience) (2020.6.20)\n",
            "Requirement already satisfied: MarkupSafe>=0.23 in /usr/local/lib/python3.6/dist-packages (from Jinja2->folium==0.2.1->datascience) (1.1.1)\n",
            "Requirement already satisfied: pyparsing>=2.0.2 in /usr/local/lib/python3.6/dist-packages (from packaging->sphinx->datascience) (2.4.7)\n",
            "Requirement already satisfied: pytz>=2015.7 in /usr/local/lib/python3.6/dist-packages (from babel!=2.0,>=1.3->sphinx->datascience) (2018.9)\n",
            "Requirement already satisfied: sphinxcontrib-serializinghtml in /usr/local/lib/python3.6/dist-packages (from sphinxcontrib-websupport->sphinx->datascience) (1.1.4)\n",
            "Building wheels for collected packages: folium\n",
            "  Building wheel for folium (setup.py) ... \u001b[?25l\u001b[?25hdone\n",
            "  Created wheel for folium: filename=folium-0.2.1-cp36-none-any.whl size=79980 sha256=515570f10f6e8b48398550fe0c81e4b34c80a44b3edf421ca8b841341dcac85a\n",
            "  Stored in directory: /root/.cache/pip/wheels/b8/09/f0/52d2ef419c2aaf4fb149f92a33e0008bdce7ae816f0dd8f0c5\n",
            "Successfully built folium\n",
            "Installing collected packages: folium\n",
            "  Found existing installation: folium 0.8.3\n",
            "    Uninstalling folium-0.8.3:\n",
            "      Successfully uninstalled folium-0.8.3\n",
            "Successfully installed folium-0.2.1\n"
          ],
          "name": "stdout"
        },
        {
          "output_type": "stream",
          "text": [
            "/usr/local/lib/python3.6/dist-packages/datascience/tables.py:17: MatplotlibDeprecationWarning: The 'warn' parameter of use() is deprecated since Matplotlib 3.1 and will be removed in 3.3.  If any parameter follows 'warn', they should be pass as keyword, not positionally.\n",
            "  matplotlib.use('agg', warn=False)\n",
            "/usr/local/lib/python3.6/dist-packages/datascience/util.py:10: MatplotlibDeprecationWarning: The 'warn' parameter of use() is deprecated since Matplotlib 3.1 and will be removed in 3.3.  If any parameter follows 'warn', they should be pass as keyword, not positionally.\n",
            "  matplotlib.use('agg', warn=False)\n"
          ],
          "name": "stderr"
        }
      ]
    },
    {
      "cell_type": "code",
      "metadata": {
        "trusted": true,
        "id": "cO6UBjHV_gWU",
        "colab_type": "code",
        "colab": {
          "base_uri": "https://localhost:8080/",
          "height": 51
        },
        "outputId": "c3747e1f-af93-4c75-86e8-96dc705d5a08"
      },
      "source": [
        "english_parts_of_speech = make_array(\"noun\", \"pronoun\", \"verb\", \"adverb\", \"adjective\", \"conjunction\", \"preposition\", \"interjection\")\n",
        "english_parts_of_speech"
      ],
      "execution_count": null,
      "outputs": [
        {
          "output_type": "execute_result",
          "data": {
            "text/plain": [
              "array(['noun', 'pronoun', 'verb', 'adverb', 'adjective', 'conjunction',\n",
              "       'preposition', 'interjection'], dtype='<U12')"
            ]
          },
          "metadata": {
            "tags": []
          },
          "execution_count": 6
        }
      ]
    },
    {
      "cell_type": "code",
      "metadata": {
        "trusted": true,
        "id": "ZylA7Y3R_gWZ",
        "colab_type": "code",
        "colab": {
          "base_uri": "https://localhost:8080/",
          "height": 34
        },
        "outputId": "06f4030e-8a5e-484d-89a8-0ad70f1e485f"
      },
      "source": [
        "baseline_high = 12.64\n",
        "highs = make_array(baseline_high - 0.776, \n",
        "                   baseline_high - 0.086,\n",
        "                   baseline_high + 0.254, \n",
        "                   baseline_high + 0.946)\n",
        "highs"
      ],
      "execution_count": null,
      "outputs": [
        {
          "output_type": "execute_result",
          "data": {
            "text/plain": [
              "array([11.864, 12.554, 12.894, 13.586])"
            ]
          },
          "metadata": {
            "tags": []
          },
          "execution_count": 15
        }
      ]
    },
    {
      "cell_type": "code",
      "metadata": {
        "trusted": true,
        "id": "wzu_rYDk_gWc",
        "colab_type": "code",
        "colab": {
          "base_uri": "https://localhost:8080/",
          "height": 34
        },
        "outputId": "d805c405-6438-4b60-ce36-a0234e1a7ceb"
      },
      "source": [
        "# Perform computations on the arrays\n",
        "(9/5) * highs + 32"
      ],
      "execution_count": null,
      "outputs": [
        {
          "output_type": "execute_result",
          "data": {
            "text/plain": [
              "array([53.3552, 54.5972, 55.2092, 56.4548])"
            ]
          },
          "metadata": {
            "tags": []
          },
          "execution_count": 16
        }
      ]
    },
    {
      "cell_type": "markdown",
      "metadata": {
        "id": "H0tBppf6_gWe",
        "colab_type": "text"
      },
      "source": [
        "### Perform basic statistical analysis on the numpy array\n",
        "The following functions are supported: max, min, sum, len, np.std (standard deviation), np.diff, np.sqrt"
      ]
    },
    {
      "cell_type": "code",
      "metadata": {
        "trusted": true,
        "id": "YcOLZ6Xk_gWf",
        "colab_type": "code",
        "colab": {
          "base_uri": "https://localhost:8080/",
          "height": 34
        },
        "outputId": "aa685cf3-0d63-4869-90b0-efde49faf3bd"
      },
      "source": [
        "highs.size"
      ],
      "execution_count": null,
      "outputs": [
        {
          "output_type": "execute_result",
          "data": {
            "text/plain": [
              "4"
            ]
          },
          "metadata": {
            "tags": []
          },
          "execution_count": 17
        }
      ]
    },
    {
      "cell_type": "code",
      "metadata": {
        "trusted": true,
        "id": "3h55XJ4e_gWj",
        "colab_type": "code",
        "colab": {
          "base_uri": "https://localhost:8080/",
          "height": 34
        },
        "outputId": "fe824d62-faba-43ad-d746-d48ffb269f6e"
      },
      "source": [
        "highs.sum()"
      ],
      "execution_count": null,
      "outputs": [
        {
          "output_type": "execute_result",
          "data": {
            "text/plain": [
              "50.897999999999996"
            ]
          },
          "metadata": {
            "tags": []
          },
          "execution_count": 18
        }
      ]
    },
    {
      "cell_type": "code",
      "metadata": {
        "trusted": true,
        "id": "-RgUaB2D_gWn",
        "colab_type": "code",
        "colab": {
          "base_uri": "https://localhost:8080/",
          "height": 34
        },
        "outputId": "ef1fced8-c91a-4182-b583-8c1fb877e8d5"
      },
      "source": [
        "highs.mean()"
      ],
      "execution_count": null,
      "outputs": [
        {
          "output_type": "execute_result",
          "data": {
            "text/plain": [
              "12.724499999999999"
            ]
          },
          "metadata": {
            "tags": []
          },
          "execution_count": 19
        }
      ]
    },
    {
      "cell_type": "code",
      "metadata": {
        "trusted": true,
        "id": "iyYfI4Zz_gWs",
        "colab_type": "code",
        "colab": {
          "base_uri": "https://localhost:8080/",
          "height": 34
        },
        "outputId": "8c5b0056-4841-4bee-f69d-084571ff4c6e"
      },
      "source": [
        "highs.std()"
      ],
      "execution_count": null,
      "outputs": [
        {
          "output_type": "execute_result",
          "data": {
            "text/plain": [
              "0.6205729207756329"
            ]
          },
          "metadata": {
            "tags": []
          },
          "execution_count": 20
        }
      ]
    },
    {
      "cell_type": "markdown",
      "metadata": {
        "id": "BdkQD2o-_gWu",
        "colab_type": "text"
      },
      "source": [
        "### Python List vs. Numpy Array\n",
        "\n",
        "***Numpy*** is a core library for scientific computing in Python. Unlike python collection, a numpy array is a grid of values, all of the same type, and is indexed by a tuple of non-negative integers.\n",
        "\n",
        "Some common numpy functions that return scalar values:\n",
        "- ***np.prod***: Multiply all the elements of an array\n",
        "- ***np.sum***: Add all the elements\n",
        "- ***np.all***: Test if all the elements are greater than zero\n",
        "- ***np.any***: Test if any of the elements is greater than zero\n",
        "- ***np.count_nonzero***: Count the number of non-zero elements\n",
        "\n",
        "Some of the common numpy functions that returns an array:\n",
        "- **np.diff**: Difference betwen adjacent elements\n",
        "- ***np.round***: Round each number to the nearest integer\n",
        "- **np.cumprod**:\tA cumulative product: for each element, multiply all elements so far\n",
        "- **np.cumsum**:\tA cumulative sum: for each element, add all elements so far\n",
        "- **np.exp**: Exponentiate each element\n",
        "- **np.log**:\tTake the natural logarithm of each element\n",
        "- **np.sqrt**:\tTake the square root of each element\n",
        "- **np.sort**:\tSort the elements\n",
        "\n",
        "Read more about this package from:\n",
        "- https://webcourses.ucf.edu/courses/1249560/pages/python-lists-vs-numpy-arrays-what-is-the-difference\n",
        "- https://www.inferentialthinking.com/chapters/05/1/Arrays.html"
      ]
    },
    {
      "cell_type": "code",
      "metadata": {
        "trusted": true,
        "id": "9vNVuwPe_gWv",
        "colab_type": "code",
        "colab": {
          "base_uri": "https://localhost:8080/",
          "height": 34
        },
        "outputId": "2c581b40-49e2-4747-b709-5c785af2a9cc"
      },
      "source": [
        "# Use numpy to compute the diff\n",
        "import numpy as np\n",
        "np.diff(highs)"
      ],
      "execution_count": null,
      "outputs": [
        {
          "output_type": "execute_result",
          "data": {
            "text/plain": [
              "array([0.69 , 0.34 , 0.692])"
            ]
          },
          "metadata": {
            "tags": []
          },
          "execution_count": 21
        }
      ]
    },
    {
      "cell_type": "code",
      "metadata": {
        "trusted": true,
        "id": "4ah1oRkV_gWy",
        "colab_type": "code",
        "colab": {
          "base_uri": "https://localhost:8080/",
          "height": 34
        },
        "outputId": "317b052b-4174-42de-9270-ff417b51923b"
      },
      "source": [
        "np.sum(highs)"
      ],
      "execution_count": null,
      "outputs": [
        {
          "output_type": "execute_result",
          "data": {
            "text/plain": [
              "50.897999999999996"
            ]
          },
          "metadata": {
            "tags": []
          },
          "execution_count": 22
        }
      ]
    },
    {
      "cell_type": "markdown",
      "metadata": {
        "id": "GQYhPWP5_gW1",
        "colab_type": "text"
      },
      "source": [
        "### Ranges\n",
        "Ranges represent collections that are either increasing or decreasing by a regule interval\n",
        "\n",
        "**np.arange** is used to define range. It takes 2 optional arguments - start=0, step=1. size is compulsor\n",
        "\n",
        "Usages:\n",
        "- np.arange({end})\n",
        "- np.arange([start},{end})\n",
        "- np.arange({start},{end},{step})"
      ]
    },
    {
      "cell_type": "code",
      "metadata": {
        "trusted": true,
        "id": "fNfjJ69p_gW2",
        "colab_type": "code",
        "colab": {
          "base_uri": "https://localhost:8080/",
          "height": 34
        },
        "outputId": "8a45f751-e230-4e65-9361-5aac6269b8d9"
      },
      "source": [
        "np.arange(8)"
      ],
      "execution_count": null,
      "outputs": [
        {
          "output_type": "execute_result",
          "data": {
            "text/plain": [
              "array([0, 1, 2, 3, 4, 5, 6, 7])"
            ]
          },
          "metadata": {
            "tags": []
          },
          "execution_count": 24
        }
      ]
    },
    {
      "cell_type": "code",
      "metadata": {
        "trusted": true,
        "id": "8T3MzCwu_gW5",
        "colab_type": "code",
        "colab": {
          "base_uri": "https://localhost:8080/",
          "height": 34
        },
        "outputId": "31bbb0a1-f53e-43bd-f97c-097e40f05ac9"
      },
      "source": [
        "np.arange(2, 8, 2)"
      ],
      "execution_count": null,
      "outputs": [
        {
          "output_type": "execute_result",
          "data": {
            "text/plain": [
              "array([2, 4, 6])"
            ]
          },
          "metadata": {
            "tags": []
          },
          "execution_count": 27
        }
      ]
    },
    {
      "cell_type": "code",
      "metadata": {
        "trusted": true,
        "id": "eK9a4SeR_gW-",
        "colab_type": "code",
        "colab": {
          "base_uri": "https://localhost:8080/",
          "height": 51
        },
        "outputId": "734db571-65ad-48b0-d560-611676bcdf70"
      },
      "source": [
        "np.arange(1.6, -2.9, -0.3)"
      ],
      "execution_count": null,
      "outputs": [
        {
          "output_type": "execute_result",
          "data": {
            "text/plain": [
              "array([ 1.6,  1.3,  1. ,  0.7,  0.4,  0.1, -0.2, -0.5, -0.8, -1.1, -1.4,\n",
              "       -1.7, -2. , -2.3, -2.6])"
            ]
          },
          "metadata": {
            "tags": []
          },
          "execution_count": 28
        }
      ]
    },
    {
      "cell_type": "markdown",
      "metadata": {
        "id": "vhSwgazA_gXD",
        "colab_type": "text"
      },
      "source": [
        "### Access items in an array\n",
        "- Use the item function for the array"
      ]
    },
    {
      "cell_type": "code",
      "metadata": {
        "trusted": true,
        "id": "IxKjGXDJ_gXF",
        "colab_type": "code",
        "colab": {
          "base_uri": "https://localhost:8080/",
          "height": 34
        },
        "outputId": "1656fc20-0921-4a54-a970-889dd3fa5734"
      },
      "source": [
        "highs.item(2)"
      ],
      "execution_count": null,
      "outputs": [
        {
          "output_type": "execute_result",
          "data": {
            "text/plain": [
              "12.894"
            ]
          },
          "metadata": {
            "tags": []
          },
          "execution_count": 29
        }
      ]
    },
    {
      "cell_type": "code",
      "metadata": {
        "trusted": true,
        "id": "rVRT2PpQ_gXK",
        "colab_type": "code",
        "colab": {
          "base_uri": "https://localhost:8080/",
          "height": 34
        },
        "outputId": "27b305b5-d45a-4b57-cd25-6c79a0034eee"
      },
      "source": [
        "reduced_array = highs - 2\n",
        "highs - reduced_array"
      ],
      "execution_count": null,
      "outputs": [
        {
          "output_type": "execute_result",
          "data": {
            "text/plain": [
              "array([2., 2., 2., 2.])"
            ]
          },
          "metadata": {
            "tags": []
          },
          "execution_count": 30
        }
      ]
    },
    {
      "cell_type": "markdown",
      "metadata": {
        "id": "kOzgp5aV_gXQ",
        "colab_type": "text"
      },
      "source": [
        "### Using  the datascience Table()\n",
        "Most datasets you will work with are represented as tables. \n",
        "\n",
        "Tables are identified by:\n",
        "- A sequence of named columns\n",
        "- A sequence of rows\n",
        "\n",
        "Before working with a table, it is preferable to import all functions from the datascience module\n",
        "\n",
        "**Full documentation reference**: http://data8.org/datascience/tables.html"
      ]
    },
    {
      "cell_type": "code",
      "metadata": {
        "trusted": true,
        "id": "suinD67c_gXR",
        "colab_type": "code",
        "colab": {
          "base_uri": "https://localhost:8080/",
          "height": 235
        },
        "outputId": "d6baa3da-4169-4cc1-b18f-e658df18d3e7"
      },
      "source": [
        "# We can create a single column table\n",
        "Table().with_columns(\"Years\", make_array(2015,2016,2017,2018,2019,2020))"
      ],
      "execution_count": null,
      "outputs": [
        {
          "output_type": "execute_result",
          "data": {
            "text/html": [
              "<table border=\"1\" class=\"dataframe\">\n",
              "    <thead>\n",
              "        <tr>\n",
              "            <th>Years</th>\n",
              "        </tr>\n",
              "    </thead>\n",
              "    <tbody>\n",
              "        <tr>\n",
              "            <td>2015 </td>\n",
              "        </tr>\n",
              "        <tr>\n",
              "            <td>2016 </td>\n",
              "        </tr>\n",
              "        <tr>\n",
              "            <td>2017 </td>\n",
              "        </tr>\n",
              "        <tr>\n",
              "            <td>2018 </td>\n",
              "        </tr>\n",
              "        <tr>\n",
              "            <td>2019 </td>\n",
              "        </tr>\n",
              "        <tr>\n",
              "            <td>2020 </td>\n",
              "        </tr>\n",
              "    </tbody>\n",
              "</table>"
            ],
            "text/plain": [
              "Years\n",
              "2015\n",
              "2016\n",
              "2017\n",
              "2018\n",
              "2019\n",
              "2020"
            ]
          },
          "metadata": {
            "tags": []
          },
          "execution_count": 32
        }
      ]
    },
    {
      "cell_type": "code",
      "metadata": {
        "trusted": true,
        "id": "tPlSDjZN_gXZ",
        "colab_type": "code",
        "colab": {
          "base_uri": "https://localhost:8080/",
          "height": 235
        },
        "outputId": "41c9dc99-3a16-49d7-a57d-e8926f6f037c"
      },
      "source": [
        "# We can equally make a two column table.\n",
        "students = Table().with_columns(\n",
        "    \"Year\", make_array(2015, 2016, 2017, 2018, 2019, 2020),\n",
        "    \"Graduate\", make_array(\"Qian\", \"Li\", \"Mu\", \"Chen\", \"Lee\", \"Yuri\")\n",
        ")\n",
        "\n",
        "students"
      ],
      "execution_count": null,
      "outputs": [
        {
          "output_type": "execute_result",
          "data": {
            "text/html": [
              "<table border=\"1\" class=\"dataframe\">\n",
              "    <thead>\n",
              "        <tr>\n",
              "            <th>Year</th> <th>Graduate</th>\n",
              "        </tr>\n",
              "    </thead>\n",
              "    <tbody>\n",
              "        <tr>\n",
              "            <td>2015</td> <td>Qian    </td>\n",
              "        </tr>\n",
              "        <tr>\n",
              "            <td>2016</td> <td>Li      </td>\n",
              "        </tr>\n",
              "        <tr>\n",
              "            <td>2017</td> <td>Mu      </td>\n",
              "        </tr>\n",
              "        <tr>\n",
              "            <td>2018</td> <td>Chen    </td>\n",
              "        </tr>\n",
              "        <tr>\n",
              "            <td>2019</td> <td>Lee     </td>\n",
              "        </tr>\n",
              "        <tr>\n",
              "            <td>2020</td> <td>Yuri    </td>\n",
              "        </tr>\n",
              "    </tbody>\n",
              "</table>"
            ],
            "text/plain": [
              "Year | Graduate\n",
              "2015 | Qian\n",
              "2016 | Li\n",
              "2017 | Mu\n",
              "2018 | Chen\n",
              "2019 | Lee\n",
              "2020 | Yuri"
            ]
          },
          "metadata": {
            "tags": []
          },
          "execution_count": 34
        }
      ]
    },
    {
      "cell_type": "code",
      "metadata": {
        "trusted": true,
        "id": "Q7AaueAP_gXi",
        "colab_type": "code",
        "colab": {
          "base_uri": "https://localhost:8080/",
          "height": 235
        },
        "outputId": "964f513d-32be-4fdd-c78b-e8e200a0a2fa"
      },
      "source": [
        "# Add column to an existing table\n",
        "students.with_columns(\n",
        "    \"length\", make_array(8, 15, 28, 17, 7, 1)\n",
        ")"
      ],
      "execution_count": null,
      "outputs": [
        {
          "output_type": "execute_result",
          "data": {
            "text/html": [
              "<table border=\"1\" class=\"dataframe\">\n",
              "    <thead>\n",
              "        <tr>\n",
              "            <th>Year</th> <th>Graduate</th> <th>length</th>\n",
              "        </tr>\n",
              "    </thead>\n",
              "    <tbody>\n",
              "        <tr>\n",
              "            <td>2015</td> <td>Qian    </td> <td>8     </td>\n",
              "        </tr>\n",
              "        <tr>\n",
              "            <td>2016</td> <td>Li      </td> <td>15    </td>\n",
              "        </tr>\n",
              "        <tr>\n",
              "            <td>2017</td> <td>Mu      </td> <td>28    </td>\n",
              "        </tr>\n",
              "        <tr>\n",
              "            <td>2018</td> <td>Chen    </td> <td>17    </td>\n",
              "        </tr>\n",
              "        <tr>\n",
              "            <td>2019</td> <td>Lee     </td> <td>7     </td>\n",
              "        </tr>\n",
              "        <tr>\n",
              "            <td>2020</td> <td>Yuri    </td> <td>1     </td>\n",
              "        </tr>\n",
              "    </tbody>\n",
              "</table>"
            ],
            "text/plain": [
              "Year | Graduate | length\n",
              "2015 | Qian     | 8\n",
              "2016 | Li       | 15\n",
              "2017 | Mu       | 28\n",
              "2018 | Chen     | 17\n",
              "2019 | Lee      | 7\n",
              "2020 | Yuri     | 1"
            ]
          },
          "metadata": {
            "tags": []
          },
          "execution_count": 35
        }
      ]
    },
    {
      "cell_type": "code",
      "metadata": {
        "trusted": true,
        "id": "MdUqQIR5_gXn",
        "colab_type": "code",
        "colab": {
          "base_uri": "https://localhost:8080/",
          "height": 884
        },
        "outputId": "b0cea344-50eb-488e-eaee-8768e95856c4"
      },
      "source": [
        "# Read the salaries CSV in our project library\n",
        "# Note: every file that is part of the project folder is linked to the repository\n",
        "salaries = Table.read_table(\"https://raw.githubusercontent.com/beneze/Datasets/master/SFSalaries2011_2014.csv\")\n",
        "salaries"
      ],
      "execution_count": null,
      "outputs": [
        {
          "output_type": "stream",
          "text": [
            "/usr/local/lib/python3.6/dist-packages/IPython/core/interactiveshell.py:2822: DtypeWarning: Columns (3,4,5,6,12) have mixed types.Specify dtype option on import or set low_memory=False.\n",
            "  if self.run_code(code, result):\n"
          ],
          "name": "stderr"
        },
        {
          "output_type": "execute_result",
          "data": {
            "text/html": [
              "<table border=\"1\" class=\"dataframe\">\n",
              "    <thead>\n",
              "        <tr>\n",
              "            <th>Id</th> <th>EmployeeName</th> <th>JobTitle</th> <th>BasePay</th> <th>OvertimePay</th> <th>OtherPay</th> <th>Benefits</th> <th>TotalPay</th> <th>TotalPayBenefits</th> <th>Year</th> <th>Notes</th> <th>Agency</th> <th>Status</th>\n",
              "        </tr>\n",
              "    </thead>\n",
              "    <tbody>\n",
              "        <tr>\n",
              "            <td>1   </td> <td>NATHANIEL FORD    </td> <td>GENERAL MANAGER-METROPOLITAN TRANSIT AUTHORITY</td> <td>167411.18</td> <td>0.0        </td> <td>400184.25</td> <td>nan     </td> <td>567595  </td> <td>567595          </td> <td>2011</td> <td>nan  </td> <td>San Francisco</td> <td>nan   </td>\n",
              "        </tr>\n",
              "        <tr>\n",
              "            <td>2   </td> <td>GARY JIMENEZ      </td> <td>CAPTAIN III (POLICE DEPARTMENT)               </td> <td>155966.02</td> <td>245131.88  </td> <td>137811.38</td> <td>nan     </td> <td>538909  </td> <td>538909          </td> <td>2011</td> <td>nan  </td> <td>San Francisco</td> <td>nan   </td>\n",
              "        </tr>\n",
              "        <tr>\n",
              "            <td>3   </td> <td>ALBERT PARDINI    </td> <td>CAPTAIN III (POLICE DEPARTMENT)               </td> <td>212739.13</td> <td>106088.18  </td> <td>16452.6  </td> <td>nan     </td> <td>335280  </td> <td>335280          </td> <td>2011</td> <td>nan  </td> <td>San Francisco</td> <td>nan   </td>\n",
              "        </tr>\n",
              "        <tr>\n",
              "            <td>4   </td> <td>CHRISTOPHER CHONG </td> <td>WIRE ROPE CABLE MAINTENANCE MECHANIC          </td> <td>77916.0  </td> <td>56120.71   </td> <td>198306.9 </td> <td>nan     </td> <td>332344  </td> <td>332344          </td> <td>2011</td> <td>nan  </td> <td>San Francisco</td> <td>nan   </td>\n",
              "        </tr>\n",
              "        <tr>\n",
              "            <td>5   </td> <td>PATRICK GARDNER   </td> <td>DEPUTY CHIEF OF DEPARTMENT,(FIRE DEPARTMENT)  </td> <td>134401.6 </td> <td>9737.0     </td> <td>182234.59</td> <td>nan     </td> <td>326373  </td> <td>326373          </td> <td>2011</td> <td>nan  </td> <td>San Francisco</td> <td>nan   </td>\n",
              "        </tr>\n",
              "        <tr>\n",
              "            <td>6   </td> <td>DAVID SULLIVAN    </td> <td>ASSISTANT DEPUTY CHIEF II                     </td> <td>118602.0 </td> <td>8601.0     </td> <td>189082.74</td> <td>nan     </td> <td>316286  </td> <td>316286          </td> <td>2011</td> <td>nan  </td> <td>San Francisco</td> <td>nan   </td>\n",
              "        </tr>\n",
              "        <tr>\n",
              "            <td>7   </td> <td>ALSON LEE         </td> <td>BATTALION CHIEF, (FIRE DEPARTMENT)            </td> <td>92492.01 </td> <td>89062.9    </td> <td>134426.14</td> <td>nan     </td> <td>315981  </td> <td>315981          </td> <td>2011</td> <td>nan  </td> <td>San Francisco</td> <td>nan   </td>\n",
              "        </tr>\n",
              "        <tr>\n",
              "            <td>8   </td> <td>DAVID KUSHNER     </td> <td>DEPUTY DIRECTOR OF INVESTMENTS                </td> <td>256576.96</td> <td>0.0        </td> <td>51322.5  </td> <td>nan     </td> <td>307899  </td> <td>307899          </td> <td>2011</td> <td>nan  </td> <td>San Francisco</td> <td>nan   </td>\n",
              "        </tr>\n",
              "        <tr>\n",
              "            <td>9   </td> <td>MICHAEL MORRIS    </td> <td>BATTALION CHIEF, (FIRE DEPARTMENT)            </td> <td>176932.64</td> <td>86362.68   </td> <td>40132.23 </td> <td>nan     </td> <td>303428  </td> <td>303428          </td> <td>2011</td> <td>nan  </td> <td>San Francisco</td> <td>nan   </td>\n",
              "        </tr>\n",
              "        <tr>\n",
              "            <td>10  </td> <td>JOANNE HAYES-WHITE</td> <td>CHIEF OF DEPARTMENT, (FIRE DEPARTMENT)        </td> <td>285262.0 </td> <td>0.0        </td> <td>17115.73 </td> <td>nan     </td> <td>302378  </td> <td>302378          </td> <td>2011</td> <td>nan  </td> <td>San Francisco</td> <td>nan   </td>\n",
              "        </tr>\n",
              "    </tbody>\n",
              "</table>\n",
              "<p>... (148644 rows omitted)</p>"
            ],
            "text/plain": [
              "Id   | EmployeeName       | JobTitle                                       | BasePay   | OvertimePay | OtherPay  | Benefits | TotalPay | TotalPayBenefits | Year | Notes | Agency        | Status\n",
              "1    | NATHANIEL FORD     | GENERAL MANAGER-METROPOLITAN TRANSIT AUTHORITY | 167411.18 | 0.0         | 400184.25 | nan      | 567595   | 567595           | 2011 | nan   | San Francisco | nan\n",
              "2    | GARY JIMENEZ       | CAPTAIN III (POLICE DEPARTMENT)                | 155966.02 | 245131.88   | 137811.38 | nan      | 538909   | 538909           | 2011 | nan   | San Francisco | nan\n",
              "3    | ALBERT PARDINI     | CAPTAIN III (POLICE DEPARTMENT)                | 212739.13 | 106088.18   | 16452.6   | nan      | 335280   | 335280           | 2011 | nan   | San Francisco | nan\n",
              "4    | CHRISTOPHER CHONG  | WIRE ROPE CABLE MAINTENANCE MECHANIC           | 77916.0   | 56120.71    | 198306.9  | nan      | 332344   | 332344           | 2011 | nan   | San Francisco | nan\n",
              "5    | PATRICK GARDNER    | DEPUTY CHIEF OF DEPARTMENT,(FIRE DEPARTMENT)   | 134401.6  | 9737.0      | 182234.59 | nan      | 326373   | 326373           | 2011 | nan   | San Francisco | nan\n",
              "6    | DAVID SULLIVAN     | ASSISTANT DEPUTY CHIEF II                      | 118602.0  | 8601.0      | 189082.74 | nan      | 316286   | 316286           | 2011 | nan   | San Francisco | nan\n",
              "7    | ALSON LEE          | BATTALION CHIEF, (FIRE DEPARTMENT)             | 92492.01  | 89062.9     | 134426.14 | nan      | 315981   | 315981           | 2011 | nan   | San Francisco | nan\n",
              "8    | DAVID KUSHNER      | DEPUTY DIRECTOR OF INVESTMENTS                 | 256576.96 | 0.0         | 51322.5   | nan      | 307899   | 307899           | 2011 | nan   | San Francisco | nan\n",
              "9    | MICHAEL MORRIS     | BATTALION CHIEF, (FIRE DEPARTMENT)             | 176932.64 | 86362.68    | 40132.23  | nan      | 303428   | 303428           | 2011 | nan   | San Francisco | nan\n",
              "10   | JOANNE HAYES-WHITE | CHIEF OF DEPARTMENT, (FIRE DEPARTMENT)         | 285262.0  | 0.0         | 17115.73  | nan      | 302378   | 302378           | 2011 | nan   | San Francisco | nan\n",
              "... (148644 rows omitted)"
            ]
          },
          "metadata": {
            "tags": []
          },
          "execution_count": 36
        }
      ]
    },
    {
      "cell_type": "code",
      "metadata": {
        "trusted": true,
        "id": "FOrds-J0_gXv",
        "colab_type": "code",
        "colab": {
          "base_uri": "https://localhost:8080/",
          "height": 34
        },
        "outputId": "31ef2eef-105d-4a37-c3b8-a75091f994d3"
      },
      "source": [
        "# Get the size of the table\n",
        "print(\"Table size - rows:%d, columns:%d\" % (salaries.num_rows, salaries.num_columns))"
      ],
      "execution_count": null,
      "outputs": [
        {
          "output_type": "stream",
          "text": [
            "Table size - rows:148654, columns:13\n"
          ],
          "name": "stdout"
        }
      ]
    },
    {
      "cell_type": "code",
      "metadata": {
        "trusted": true,
        "id": "7GbJ5ung_gX1",
        "colab_type": "code",
        "colab": {
          "base_uri": "https://localhost:8080/",
          "height": 238
        },
        "outputId": "8aa1ae09-7385-4727-b399-8d3bb4115063"
      },
      "source": [
        "# Get the columns\n",
        "salaries.labels"
      ],
      "execution_count": null,
      "outputs": [
        {
          "output_type": "execute_result",
          "data": {
            "text/plain": [
              "('Id',\n",
              " 'EmployeeName',\n",
              " 'JobTitle',\n",
              " 'BasePay',\n",
              " 'OvertimePay',\n",
              " 'OtherPay',\n",
              " 'Benefits',\n",
              " 'TotalPay',\n",
              " 'TotalPayBenefits',\n",
              " 'Year',\n",
              " 'Notes',\n",
              " 'Agency',\n",
              " 'Status')"
            ]
          },
          "metadata": {
            "tags": []
          },
          "execution_count": 38
        }
      ]
    },
    {
      "cell_type": "code",
      "metadata": {
        "trusted": true,
        "id": "pBm2EbSx_gX4",
        "colab_type": "code",
        "colab": {
          "base_uri": "https://localhost:8080/",
          "height": 850
        },
        "outputId": "2b0d1e24-3750-4f32-a4d1-707f590cee86"
      },
      "source": [
        "# Change some of the column names\n",
        "renamed = salaries.relabeled(\"TotalPayBenefits\", \"TotalBenefits\")\n",
        "renamed"
      ],
      "execution_count": null,
      "outputs": [
        {
          "output_type": "execute_result",
          "data": {
            "text/html": [
              "<table border=\"1\" class=\"dataframe\">\n",
              "    <thead>\n",
              "        <tr>\n",
              "            <th>Id</th> <th>EmployeeName</th> <th>JobTitle</th> <th>BasePay</th> <th>OvertimePay</th> <th>OtherPay</th> <th>Benefits</th> <th>TotalPay</th> <th>TotalBenefits</th> <th>Year</th> <th>Notes</th> <th>Agency</th> <th>Status</th>\n",
              "        </tr>\n",
              "    </thead>\n",
              "    <tbody>\n",
              "        <tr>\n",
              "            <td>1   </td> <td>NATHANIEL FORD    </td> <td>GENERAL MANAGER-METROPOLITAN TRANSIT AUTHORITY</td> <td>167411.18</td> <td>0.0        </td> <td>400184.25</td> <td>nan     </td> <td>567595  </td> <td>567595       </td> <td>2011</td> <td>nan  </td> <td>San Francisco</td> <td>nan   </td>\n",
              "        </tr>\n",
              "        <tr>\n",
              "            <td>2   </td> <td>GARY JIMENEZ      </td> <td>CAPTAIN III (POLICE DEPARTMENT)               </td> <td>155966.02</td> <td>245131.88  </td> <td>137811.38</td> <td>nan     </td> <td>538909  </td> <td>538909       </td> <td>2011</td> <td>nan  </td> <td>San Francisco</td> <td>nan   </td>\n",
              "        </tr>\n",
              "        <tr>\n",
              "            <td>3   </td> <td>ALBERT PARDINI    </td> <td>CAPTAIN III (POLICE DEPARTMENT)               </td> <td>212739.13</td> <td>106088.18  </td> <td>16452.6  </td> <td>nan     </td> <td>335280  </td> <td>335280       </td> <td>2011</td> <td>nan  </td> <td>San Francisco</td> <td>nan   </td>\n",
              "        </tr>\n",
              "        <tr>\n",
              "            <td>4   </td> <td>CHRISTOPHER CHONG </td> <td>WIRE ROPE CABLE MAINTENANCE MECHANIC          </td> <td>77916.0  </td> <td>56120.71   </td> <td>198306.9 </td> <td>nan     </td> <td>332344  </td> <td>332344       </td> <td>2011</td> <td>nan  </td> <td>San Francisco</td> <td>nan   </td>\n",
              "        </tr>\n",
              "        <tr>\n",
              "            <td>5   </td> <td>PATRICK GARDNER   </td> <td>DEPUTY CHIEF OF DEPARTMENT,(FIRE DEPARTMENT)  </td> <td>134401.6 </td> <td>9737.0     </td> <td>182234.59</td> <td>nan     </td> <td>326373  </td> <td>326373       </td> <td>2011</td> <td>nan  </td> <td>San Francisco</td> <td>nan   </td>\n",
              "        </tr>\n",
              "        <tr>\n",
              "            <td>6   </td> <td>DAVID SULLIVAN    </td> <td>ASSISTANT DEPUTY CHIEF II                     </td> <td>118602.0 </td> <td>8601.0     </td> <td>189082.74</td> <td>nan     </td> <td>316286  </td> <td>316286       </td> <td>2011</td> <td>nan  </td> <td>San Francisco</td> <td>nan   </td>\n",
              "        </tr>\n",
              "        <tr>\n",
              "            <td>7   </td> <td>ALSON LEE         </td> <td>BATTALION CHIEF, (FIRE DEPARTMENT)            </td> <td>92492.01 </td> <td>89062.9    </td> <td>134426.14</td> <td>nan     </td> <td>315981  </td> <td>315981       </td> <td>2011</td> <td>nan  </td> <td>San Francisco</td> <td>nan   </td>\n",
              "        </tr>\n",
              "        <tr>\n",
              "            <td>8   </td> <td>DAVID KUSHNER     </td> <td>DEPUTY DIRECTOR OF INVESTMENTS                </td> <td>256576.96</td> <td>0.0        </td> <td>51322.5  </td> <td>nan     </td> <td>307899  </td> <td>307899       </td> <td>2011</td> <td>nan  </td> <td>San Francisco</td> <td>nan   </td>\n",
              "        </tr>\n",
              "        <tr>\n",
              "            <td>9   </td> <td>MICHAEL MORRIS    </td> <td>BATTALION CHIEF, (FIRE DEPARTMENT)            </td> <td>176932.64</td> <td>86362.68   </td> <td>40132.23 </td> <td>nan     </td> <td>303428  </td> <td>303428       </td> <td>2011</td> <td>nan  </td> <td>San Francisco</td> <td>nan   </td>\n",
              "        </tr>\n",
              "        <tr>\n",
              "            <td>10  </td> <td>JOANNE HAYES-WHITE</td> <td>CHIEF OF DEPARTMENT, (FIRE DEPARTMENT)        </td> <td>285262.0 </td> <td>0.0        </td> <td>17115.73 </td> <td>nan     </td> <td>302378  </td> <td>302378       </td> <td>2011</td> <td>nan  </td> <td>San Francisco</td> <td>nan   </td>\n",
              "        </tr>\n",
              "    </tbody>\n",
              "</table>\n",
              "<p>... (148644 rows omitted)</p>"
            ],
            "text/plain": [
              "Id   | EmployeeName       | JobTitle                                       | BasePay   | OvertimePay | OtherPay  | Benefits | TotalPay | TotalBenefits | Year | Notes | Agency        | Status\n",
              "1    | NATHANIEL FORD     | GENERAL MANAGER-METROPOLITAN TRANSIT AUTHORITY | 167411.18 | 0.0         | 400184.25 | nan      | 567595   | 567595        | 2011 | nan   | San Francisco | nan\n",
              "2    | GARY JIMENEZ       | CAPTAIN III (POLICE DEPARTMENT)                | 155966.02 | 245131.88   | 137811.38 | nan      | 538909   | 538909        | 2011 | nan   | San Francisco | nan\n",
              "3    | ALBERT PARDINI     | CAPTAIN III (POLICE DEPARTMENT)                | 212739.13 | 106088.18   | 16452.6   | nan      | 335280   | 335280        | 2011 | nan   | San Francisco | nan\n",
              "4    | CHRISTOPHER CHONG  | WIRE ROPE CABLE MAINTENANCE MECHANIC           | 77916.0   | 56120.71    | 198306.9  | nan      | 332344   | 332344        | 2011 | nan   | San Francisco | nan\n",
              "5    | PATRICK GARDNER    | DEPUTY CHIEF OF DEPARTMENT,(FIRE DEPARTMENT)   | 134401.6  | 9737.0      | 182234.59 | nan      | 326373   | 326373        | 2011 | nan   | San Francisco | nan\n",
              "6    | DAVID SULLIVAN     | ASSISTANT DEPUTY CHIEF II                      | 118602.0  | 8601.0      | 189082.74 | nan      | 316286   | 316286        | 2011 | nan   | San Francisco | nan\n",
              "7    | ALSON LEE          | BATTALION CHIEF, (FIRE DEPARTMENT)             | 92492.01  | 89062.9     | 134426.14 | nan      | 315981   | 315981        | 2011 | nan   | San Francisco | nan\n",
              "8    | DAVID KUSHNER      | DEPUTY DIRECTOR OF INVESTMENTS                 | 256576.96 | 0.0         | 51322.5   | nan      | 307899   | 307899        | 2011 | nan   | San Francisco | nan\n",
              "9    | MICHAEL MORRIS     | BATTALION CHIEF, (FIRE DEPARTMENT)             | 176932.64 | 86362.68    | 40132.23  | nan      | 303428   | 303428        | 2011 | nan   | San Francisco | nan\n",
              "10   | JOANNE HAYES-WHITE | CHIEF OF DEPARTMENT, (FIRE DEPARTMENT)         | 285262.0  | 0.0         | 17115.73  | nan      | 302378   | 302378        | 2011 | nan   | San Francisco | nan\n",
              "... (148644 rows omitted)"
            ]
          },
          "metadata": {
            "tags": []
          },
          "execution_count": 40
        }
      ]
    },
    {
      "cell_type": "markdown",
      "metadata": {
        "id": "bDYow14m_gX7",
        "colab_type": "text"
      },
      "source": [
        "### Manipulating Table columns\n",
        "\n",
        "- Use table.column({Name}) to access the column with the label {Name}\n",
        "- Use table.column({Index}) to access a column based on the index"
      ]
    },
    {
      "cell_type": "code",
      "metadata": {
        "trusted": true,
        "id": "0tUqFYN9_gX7",
        "colab_type": "code",
        "colab": {
          "base_uri": "https://localhost:8080/",
          "height": 51
        },
        "outputId": "b9e28a6f-384f-42ed-cac4-f79e6b96fe75"
      },
      "source": [
        "renamed.column(\"TotalBenefits\")"
      ],
      "execution_count": null,
      "outputs": [
        {
          "output_type": "execute_result",
          "data": {
            "text/plain": [
              "array([567595.43, 538909.28, 335279.91, ...,      0.  ,      0.  ,\n",
              "         -618.13])"
            ]
          },
          "metadata": {
            "tags": []
          },
          "execution_count": 43
        }
      ]
    },
    {
      "cell_type": "code",
      "metadata": {
        "trusted": true,
        "id": "7N9L-amR_gX_",
        "colab_type": "code",
        "colab": {
          "base_uri": "https://localhost:8080/",
          "height": 51
        },
        "outputId": "c3ffc081-13d1-4375-fc41-32b7a56fff9d"
      },
      "source": [
        "# pull the 4th column\n",
        "renamed.column(3)"
      ],
      "execution_count": null,
      "outputs": [
        {
          "output_type": "execute_result",
          "data": {
            "text/plain": [
              "array(['167411.18', '155966.02', '212739.13', ..., 'Not Provided',\n",
              "       'Not Provided', '0.00'], dtype='<U32')"
            ]
          },
          "metadata": {
            "tags": []
          },
          "execution_count": 44
        }
      ]
    },
    {
      "cell_type": "code",
      "metadata": {
        "trusted": true,
        "id": "zv53iu2V_gYD",
        "colab_type": "code",
        "colab": {
          "base_uri": "https://localhost:8080/",
          "height": 867
        },
        "outputId": "d8ebefa2-57df-42e7-ff87-cc7d7bccb81a"
      },
      "source": [
        "# Add a new column, say a calculated column - Deviation from mean\n",
        "average_benefit = renamed.column(\"TotalBenefits\").mean()\n",
        "\n",
        "table_with_deviation = renamed.with_columns(\n",
        "    'Deviation from avg', renamed.column(\"TotalBenefits\") - average_benefit\n",
        ")\n",
        "\n",
        "table_with_deviation\n"
      ],
      "execution_count": null,
      "outputs": [
        {
          "output_type": "execute_result",
          "data": {
            "text/html": [
              "<table border=\"1\" class=\"dataframe\">\n",
              "    <thead>\n",
              "        <tr>\n",
              "            <th>Id</th> <th>EmployeeName</th> <th>JobTitle</th> <th>BasePay</th> <th>OvertimePay</th> <th>OtherPay</th> <th>Benefits</th> <th>TotalPay</th> <th>TotalBenefits</th> <th>Year</th> <th>Notes</th> <th>Agency</th> <th>Status</th> <th>Deviation from avg</th>\n",
              "        </tr>\n",
              "    </thead>\n",
              "    <tbody>\n",
              "        <tr>\n",
              "            <td>1   </td> <td>NATHANIEL FORD    </td> <td>GENERAL MANAGER-METROPOLITAN TRANSIT AUTHORITY</td> <td>167411.18</td> <td>0.0        </td> <td>400184.25</td> <td>nan     </td> <td>567595  </td> <td>567595       </td> <td>2011</td> <td>nan  </td> <td>San Francisco</td> <td>nan   </td> <td>473903            </td>\n",
              "        </tr>\n",
              "        <tr>\n",
              "            <td>2   </td> <td>GARY JIMENEZ      </td> <td>CAPTAIN III (POLICE DEPARTMENT)               </td> <td>155966.02</td> <td>245131.88  </td> <td>137811.38</td> <td>nan     </td> <td>538909  </td> <td>538909       </td> <td>2011</td> <td>nan  </td> <td>San Francisco</td> <td>nan   </td> <td>445217            </td>\n",
              "        </tr>\n",
              "        <tr>\n",
              "            <td>3   </td> <td>ALBERT PARDINI    </td> <td>CAPTAIN III (POLICE DEPARTMENT)               </td> <td>212739.13</td> <td>106088.18  </td> <td>16452.6  </td> <td>nan     </td> <td>335280  </td> <td>335280       </td> <td>2011</td> <td>nan  </td> <td>San Francisco</td> <td>nan   </td> <td>241587            </td>\n",
              "        </tr>\n",
              "        <tr>\n",
              "            <td>4   </td> <td>CHRISTOPHER CHONG </td> <td>WIRE ROPE CABLE MAINTENANCE MECHANIC          </td> <td>77916.0  </td> <td>56120.71   </td> <td>198306.9 </td> <td>nan     </td> <td>332344  </td> <td>332344       </td> <td>2011</td> <td>nan  </td> <td>San Francisco</td> <td>nan   </td> <td>238651            </td>\n",
              "        </tr>\n",
              "        <tr>\n",
              "            <td>5   </td> <td>PATRICK GARDNER   </td> <td>DEPUTY CHIEF OF DEPARTMENT,(FIRE DEPARTMENT)  </td> <td>134401.6 </td> <td>9737.0     </td> <td>182234.59</td> <td>nan     </td> <td>326373  </td> <td>326373       </td> <td>2011</td> <td>nan  </td> <td>San Francisco</td> <td>nan   </td> <td>232681            </td>\n",
              "        </tr>\n",
              "        <tr>\n",
              "            <td>6   </td> <td>DAVID SULLIVAN    </td> <td>ASSISTANT DEPUTY CHIEF II                     </td> <td>118602.0 </td> <td>8601.0     </td> <td>189082.74</td> <td>nan     </td> <td>316286  </td> <td>316286       </td> <td>2011</td> <td>nan  </td> <td>San Francisco</td> <td>nan   </td> <td>222593            </td>\n",
              "        </tr>\n",
              "        <tr>\n",
              "            <td>7   </td> <td>ALSON LEE         </td> <td>BATTALION CHIEF, (FIRE DEPARTMENT)            </td> <td>92492.01 </td> <td>89062.9    </td> <td>134426.14</td> <td>nan     </td> <td>315981  </td> <td>315981       </td> <td>2011</td> <td>nan  </td> <td>San Francisco</td> <td>nan   </td> <td>222288            </td>\n",
              "        </tr>\n",
              "        <tr>\n",
              "            <td>8   </td> <td>DAVID KUSHNER     </td> <td>DEPUTY DIRECTOR OF INVESTMENTS                </td> <td>256576.96</td> <td>0.0        </td> <td>51322.5  </td> <td>nan     </td> <td>307899  </td> <td>307899       </td> <td>2011</td> <td>nan  </td> <td>San Francisco</td> <td>nan   </td> <td>214207            </td>\n",
              "        </tr>\n",
              "        <tr>\n",
              "            <td>9   </td> <td>MICHAEL MORRIS    </td> <td>BATTALION CHIEF, (FIRE DEPARTMENT)            </td> <td>176932.64</td> <td>86362.68   </td> <td>40132.23 </td> <td>nan     </td> <td>303428  </td> <td>303428       </td> <td>2011</td> <td>nan  </td> <td>San Francisco</td> <td>nan   </td> <td>209735            </td>\n",
              "        </tr>\n",
              "        <tr>\n",
              "            <td>10  </td> <td>JOANNE HAYES-WHITE</td> <td>CHIEF OF DEPARTMENT, (FIRE DEPARTMENT)        </td> <td>285262.0 </td> <td>0.0        </td> <td>17115.73 </td> <td>nan     </td> <td>302378  </td> <td>302378       </td> <td>2011</td> <td>nan  </td> <td>San Francisco</td> <td>nan   </td> <td>208685            </td>\n",
              "        </tr>\n",
              "    </tbody>\n",
              "</table>\n",
              "<p>... (148644 rows omitted)</p>"
            ],
            "text/plain": [
              "Id   | EmployeeName       | JobTitle                                       | BasePay   | OvertimePay | OtherPay  | Benefits | TotalPay | TotalBenefits | Year | Notes | Agency        | Status | Deviation from avg\n",
              "1    | NATHANIEL FORD     | GENERAL MANAGER-METROPOLITAN TRANSIT AUTHORITY | 167411.18 | 0.0         | 400184.25 | nan      | 567595   | 567595        | 2011 | nan   | San Francisco | nan    | 473903\n",
              "2    | GARY JIMENEZ       | CAPTAIN III (POLICE DEPARTMENT)                | 155966.02 | 245131.88   | 137811.38 | nan      | 538909   | 538909        | 2011 | nan   | San Francisco | nan    | 445217\n",
              "3    | ALBERT PARDINI     | CAPTAIN III (POLICE DEPARTMENT)                | 212739.13 | 106088.18   | 16452.6   | nan      | 335280   | 335280        | 2011 | nan   | San Francisco | nan    | 241587\n",
              "4    | CHRISTOPHER CHONG  | WIRE ROPE CABLE MAINTENANCE MECHANIC           | 77916.0   | 56120.71    | 198306.9  | nan      | 332344   | 332344        | 2011 | nan   | San Francisco | nan    | 238651\n",
              "5    | PATRICK GARDNER    | DEPUTY CHIEF OF DEPARTMENT,(FIRE DEPARTMENT)   | 134401.6  | 9737.0      | 182234.59 | nan      | 326373   | 326373        | 2011 | nan   | San Francisco | nan    | 232681\n",
              "6    | DAVID SULLIVAN     | ASSISTANT DEPUTY CHIEF II                      | 118602.0  | 8601.0      | 189082.74 | nan      | 316286   | 316286        | 2011 | nan   | San Francisco | nan    | 222593\n",
              "7    | ALSON LEE          | BATTALION CHIEF, (FIRE DEPARTMENT)             | 92492.01  | 89062.9     | 134426.14 | nan      | 315981   | 315981        | 2011 | nan   | San Francisco | nan    | 222288\n",
              "8    | DAVID KUSHNER      | DEPUTY DIRECTOR OF INVESTMENTS                 | 256576.96 | 0.0         | 51322.5   | nan      | 307899   | 307899        | 2011 | nan   | San Francisco | nan    | 214207\n",
              "9    | MICHAEL MORRIS     | BATTALION CHIEF, (FIRE DEPARTMENT)             | 176932.64 | 86362.68    | 40132.23  | nan      | 303428   | 303428        | 2011 | nan   | San Francisco | nan    | 209735\n",
              "10   | JOANNE HAYES-WHITE | CHIEF OF DEPARTMENT, (FIRE DEPARTMENT)         | 285262.0  | 0.0         | 17115.73  | nan      | 302378   | 302378        | 2011 | nan   | San Francisco | nan    | 208685\n",
              "... (148644 rows omitted)"
            ]
          },
          "metadata": {
            "tags": []
          },
          "execution_count": 45
        }
      ]
    },
    {
      "cell_type": "markdown",
      "metadata": {
        "trusted": true,
        "id": "2N5ZBgdQ_gYK",
        "colab_type": "text"
      },
      "source": [
        "## SELECTing rows\n",
        "The Table.select() function is the most common way of selecting columns from a table. \n",
        "There are also times when it's better to simply drop the columns you don't need"
      ]
    },
    {
      "cell_type": "code",
      "metadata": {
        "trusted": true,
        "id": "gT9Tmdu__gYL",
        "colab_type": "code",
        "colab": {
          "base_uri": "https://localhost:8080/",
          "height": 388
        },
        "outputId": "065b629c-0230-432a-c8cc-79cbd34ca8a8"
      },
      "source": [
        "# Selecting some columns from a table\n",
        "table_with_deviation.select(\"TotalBenefits\", \"Id\")"
      ],
      "execution_count": null,
      "outputs": [
        {
          "output_type": "execute_result",
          "data": {
            "text/html": [
              "<table border=\"1\" class=\"dataframe\">\n",
              "    <thead>\n",
              "        <tr>\n",
              "            <th>TotalBenefits</th> <th>Id</th>\n",
              "        </tr>\n",
              "    </thead>\n",
              "    <tbody>\n",
              "        <tr>\n",
              "            <td>567595       </td> <td>1   </td>\n",
              "        </tr>\n",
              "        <tr>\n",
              "            <td>538909       </td> <td>2   </td>\n",
              "        </tr>\n",
              "        <tr>\n",
              "            <td>335280       </td> <td>3   </td>\n",
              "        </tr>\n",
              "        <tr>\n",
              "            <td>332344       </td> <td>4   </td>\n",
              "        </tr>\n",
              "        <tr>\n",
              "            <td>326373       </td> <td>5   </td>\n",
              "        </tr>\n",
              "        <tr>\n",
              "            <td>316286       </td> <td>6   </td>\n",
              "        </tr>\n",
              "        <tr>\n",
              "            <td>315981       </td> <td>7   </td>\n",
              "        </tr>\n",
              "        <tr>\n",
              "            <td>307899       </td> <td>8   </td>\n",
              "        </tr>\n",
              "        <tr>\n",
              "            <td>303428       </td> <td>9   </td>\n",
              "        </tr>\n",
              "        <tr>\n",
              "            <td>302378       </td> <td>10  </td>\n",
              "        </tr>\n",
              "    </tbody>\n",
              "</table>\n",
              "<p>... (148644 rows omitted)</p>"
            ],
            "text/plain": [
              "TotalBenefits | Id\n",
              "567595        | 1\n",
              "538909        | 2\n",
              "335280        | 3\n",
              "332344        | 4\n",
              "326373        | 5\n",
              "316286        | 6\n",
              "315981        | 7\n",
              "307899        | 8\n",
              "303428        | 9\n",
              "302378        | 10\n",
              "... (148644 rows omitted)"
            ]
          },
          "metadata": {
            "tags": []
          },
          "execution_count": 47
        }
      ]
    },
    {
      "cell_type": "code",
      "metadata": {
        "trusted": true,
        "id": "dpxO_4MM_gYR",
        "colab_type": "code",
        "colab": {
          "base_uri": "https://localhost:8080/",
          "height": 388
        },
        "outputId": "855c4db1-1273-4108-ed5f-5e2943871ef5"
      },
      "source": [
        "# Same can be achieved using the index\n",
        "table_with_deviation.select(2,5)"
      ],
      "execution_count": null,
      "outputs": [
        {
          "output_type": "execute_result",
          "data": {
            "text/html": [
              "<table border=\"1\" class=\"dataframe\">\n",
              "    <thead>\n",
              "        <tr>\n",
              "            <th>JobTitle</th> <th>OtherPay</th>\n",
              "        </tr>\n",
              "    </thead>\n",
              "    <tbody>\n",
              "        <tr>\n",
              "            <td>GENERAL MANAGER-METROPOLITAN TRANSIT AUTHORITY</td> <td>400184.25</td>\n",
              "        </tr>\n",
              "        <tr>\n",
              "            <td>CAPTAIN III (POLICE DEPARTMENT)               </td> <td>137811.38</td>\n",
              "        </tr>\n",
              "        <tr>\n",
              "            <td>CAPTAIN III (POLICE DEPARTMENT)               </td> <td>16452.6  </td>\n",
              "        </tr>\n",
              "        <tr>\n",
              "            <td>WIRE ROPE CABLE MAINTENANCE MECHANIC          </td> <td>198306.9 </td>\n",
              "        </tr>\n",
              "        <tr>\n",
              "            <td>DEPUTY CHIEF OF DEPARTMENT,(FIRE DEPARTMENT)  </td> <td>182234.59</td>\n",
              "        </tr>\n",
              "        <tr>\n",
              "            <td>ASSISTANT DEPUTY CHIEF II                     </td> <td>189082.74</td>\n",
              "        </tr>\n",
              "        <tr>\n",
              "            <td>BATTALION CHIEF, (FIRE DEPARTMENT)            </td> <td>134426.14</td>\n",
              "        </tr>\n",
              "        <tr>\n",
              "            <td>DEPUTY DIRECTOR OF INVESTMENTS                </td> <td>51322.5  </td>\n",
              "        </tr>\n",
              "        <tr>\n",
              "            <td>BATTALION CHIEF, (FIRE DEPARTMENT)            </td> <td>40132.23 </td>\n",
              "        </tr>\n",
              "        <tr>\n",
              "            <td>CHIEF OF DEPARTMENT, (FIRE DEPARTMENT)        </td> <td>17115.73 </td>\n",
              "        </tr>\n",
              "    </tbody>\n",
              "</table>\n",
              "<p>... (148644 rows omitted)</p>"
            ],
            "text/plain": [
              "JobTitle                                       | OtherPay\n",
              "GENERAL MANAGER-METROPOLITAN TRANSIT AUTHORITY | 400184.25\n",
              "CAPTAIN III (POLICE DEPARTMENT)                | 137811.38\n",
              "CAPTAIN III (POLICE DEPARTMENT)                | 16452.6\n",
              "WIRE ROPE CABLE MAINTENANCE MECHANIC           | 198306.9\n",
              "DEPUTY CHIEF OF DEPARTMENT,(FIRE DEPARTMENT)   | 182234.59\n",
              "ASSISTANT DEPUTY CHIEF II                      | 189082.74\n",
              "BATTALION CHIEF, (FIRE DEPARTMENT)             | 134426.14\n",
              "DEPUTY DIRECTOR OF INVESTMENTS                 | 51322.5\n",
              "BATTALION CHIEF, (FIRE DEPARTMENT)             | 40132.23\n",
              "CHIEF OF DEPARTMENT, (FIRE DEPARTMENT)         | 17115.73\n",
              "... (148644 rows omitted)"
            ]
          },
          "metadata": {
            "tags": []
          },
          "execution_count": 48
        }
      ]
    },
    {
      "cell_type": "code",
      "metadata": {
        "trusted": true,
        "id": "02vdJVeV_gYV",
        "colab_type": "code",
        "colab": {
          "base_uri": "https://localhost:8080/",
          "height": 867
        },
        "outputId": "29b0eeda-8dc4-4751-cadf-b756958236ee"
      },
      "source": [
        "# Drop the notes column from our deviation table\n",
        "table_with_deviation.drop(\"EmployeeName\")"
      ],
      "execution_count": null,
      "outputs": [
        {
          "output_type": "execute_result",
          "data": {
            "text/html": [
              "<table border=\"1\" class=\"dataframe\">\n",
              "    <thead>\n",
              "        <tr>\n",
              "            <th>Id</th> <th>JobTitle</th> <th>BasePay</th> <th>OvertimePay</th> <th>OtherPay</th> <th>Benefits</th> <th>TotalPay</th> <th>TotalBenefits</th> <th>Year</th> <th>Notes</th> <th>Agency</th> <th>Status</th> <th>Deviation from avg</th>\n",
              "        </tr>\n",
              "    </thead>\n",
              "    <tbody>\n",
              "        <tr>\n",
              "            <td>1   </td> <td>GENERAL MANAGER-METROPOLITAN TRANSIT AUTHORITY</td> <td>167411.18</td> <td>0.0        </td> <td>400184.25</td> <td>nan     </td> <td>567595  </td> <td>567595       </td> <td>2011</td> <td>nan  </td> <td>San Francisco</td> <td>nan   </td> <td>473903            </td>\n",
              "        </tr>\n",
              "        <tr>\n",
              "            <td>2   </td> <td>CAPTAIN III (POLICE DEPARTMENT)               </td> <td>155966.02</td> <td>245131.88  </td> <td>137811.38</td> <td>nan     </td> <td>538909  </td> <td>538909       </td> <td>2011</td> <td>nan  </td> <td>San Francisco</td> <td>nan   </td> <td>445217            </td>\n",
              "        </tr>\n",
              "        <tr>\n",
              "            <td>3   </td> <td>CAPTAIN III (POLICE DEPARTMENT)               </td> <td>212739.13</td> <td>106088.18  </td> <td>16452.6  </td> <td>nan     </td> <td>335280  </td> <td>335280       </td> <td>2011</td> <td>nan  </td> <td>San Francisco</td> <td>nan   </td> <td>241587            </td>\n",
              "        </tr>\n",
              "        <tr>\n",
              "            <td>4   </td> <td>WIRE ROPE CABLE MAINTENANCE MECHANIC          </td> <td>77916.0  </td> <td>56120.71   </td> <td>198306.9 </td> <td>nan     </td> <td>332344  </td> <td>332344       </td> <td>2011</td> <td>nan  </td> <td>San Francisco</td> <td>nan   </td> <td>238651            </td>\n",
              "        </tr>\n",
              "        <tr>\n",
              "            <td>5   </td> <td>DEPUTY CHIEF OF DEPARTMENT,(FIRE DEPARTMENT)  </td> <td>134401.6 </td> <td>9737.0     </td> <td>182234.59</td> <td>nan     </td> <td>326373  </td> <td>326373       </td> <td>2011</td> <td>nan  </td> <td>San Francisco</td> <td>nan   </td> <td>232681            </td>\n",
              "        </tr>\n",
              "        <tr>\n",
              "            <td>6   </td> <td>ASSISTANT DEPUTY CHIEF II                     </td> <td>118602.0 </td> <td>8601.0     </td> <td>189082.74</td> <td>nan     </td> <td>316286  </td> <td>316286       </td> <td>2011</td> <td>nan  </td> <td>San Francisco</td> <td>nan   </td> <td>222593            </td>\n",
              "        </tr>\n",
              "        <tr>\n",
              "            <td>7   </td> <td>BATTALION CHIEF, (FIRE DEPARTMENT)            </td> <td>92492.01 </td> <td>89062.9    </td> <td>134426.14</td> <td>nan     </td> <td>315981  </td> <td>315981       </td> <td>2011</td> <td>nan  </td> <td>San Francisco</td> <td>nan   </td> <td>222288            </td>\n",
              "        </tr>\n",
              "        <tr>\n",
              "            <td>8   </td> <td>DEPUTY DIRECTOR OF INVESTMENTS                </td> <td>256576.96</td> <td>0.0        </td> <td>51322.5  </td> <td>nan     </td> <td>307899  </td> <td>307899       </td> <td>2011</td> <td>nan  </td> <td>San Francisco</td> <td>nan   </td> <td>214207            </td>\n",
              "        </tr>\n",
              "        <tr>\n",
              "            <td>9   </td> <td>BATTALION CHIEF, (FIRE DEPARTMENT)            </td> <td>176932.64</td> <td>86362.68   </td> <td>40132.23 </td> <td>nan     </td> <td>303428  </td> <td>303428       </td> <td>2011</td> <td>nan  </td> <td>San Francisco</td> <td>nan   </td> <td>209735            </td>\n",
              "        </tr>\n",
              "        <tr>\n",
              "            <td>10  </td> <td>CHIEF OF DEPARTMENT, (FIRE DEPARTMENT)        </td> <td>285262.0 </td> <td>0.0        </td> <td>17115.73 </td> <td>nan     </td> <td>302378  </td> <td>302378       </td> <td>2011</td> <td>nan  </td> <td>San Francisco</td> <td>nan   </td> <td>208685            </td>\n",
              "        </tr>\n",
              "    </tbody>\n",
              "</table>\n",
              "<p>... (148644 rows omitted)</p>"
            ],
            "text/plain": [
              "Id   | JobTitle                                       | BasePay   | OvertimePay | OtherPay  | Benefits | TotalPay | TotalBenefits | Year | Notes | Agency        | Status | Deviation from avg\n",
              "1    | GENERAL MANAGER-METROPOLITAN TRANSIT AUTHORITY | 167411.18 | 0.0         | 400184.25 | nan      | 567595   | 567595        | 2011 | nan   | San Francisco | nan    | 473903\n",
              "2    | CAPTAIN III (POLICE DEPARTMENT)                | 155966.02 | 245131.88   | 137811.38 | nan      | 538909   | 538909        | 2011 | nan   | San Francisco | nan    | 445217\n",
              "3    | CAPTAIN III (POLICE DEPARTMENT)                | 212739.13 | 106088.18   | 16452.6   | nan      | 335280   | 335280        | 2011 | nan   | San Francisco | nan    | 241587\n",
              "4    | WIRE ROPE CABLE MAINTENANCE MECHANIC           | 77916.0   | 56120.71    | 198306.9  | nan      | 332344   | 332344        | 2011 | nan   | San Francisco | nan    | 238651\n",
              "5    | DEPUTY CHIEF OF DEPARTMENT,(FIRE DEPARTMENT)   | 134401.6  | 9737.0      | 182234.59 | nan      | 326373   | 326373        | 2011 | nan   | San Francisco | nan    | 232681\n",
              "6    | ASSISTANT DEPUTY CHIEF II                      | 118602.0  | 8601.0      | 189082.74 | nan      | 316286   | 316286        | 2011 | nan   | San Francisco | nan    | 222593\n",
              "7    | BATTALION CHIEF, (FIRE DEPARTMENT)             | 92492.01  | 89062.9     | 134426.14 | nan      | 315981   | 315981        | 2011 | nan   | San Francisco | nan    | 222288\n",
              "8    | DEPUTY DIRECTOR OF INVESTMENTS                 | 256576.96 | 0.0         | 51322.5   | nan      | 307899   | 307899        | 2011 | nan   | San Francisco | nan    | 214207\n",
              "9    | BATTALION CHIEF, (FIRE DEPARTMENT)             | 176932.64 | 86362.68    | 40132.23  | nan      | 303428   | 303428        | 2011 | nan   | San Francisco | nan    | 209735\n",
              "10   | CHIEF OF DEPARTMENT, (FIRE DEPARTMENT)         | 285262.0  | 0.0         | 17115.73  | nan      | 302378   | 302378        | 2011 | nan   | San Francisco | nan    | 208685\n",
              "... (148644 rows omitted)"
            ]
          },
          "metadata": {
            "tags": []
          },
          "execution_count": 49
        }
      ]
    },
    {
      "cell_type": "code",
      "metadata": {
        "trusted": true,
        "id": "rHccz_Lf_gYY",
        "colab_type": "code",
        "colab": {
          "base_uri": "https://localhost:8080/",
          "height": 1000
        },
        "outputId": "c5247d9d-56d4-4698-b9aa-6338433776dc"
      },
      "source": [
        "# Selecting the top 15 records\n",
        "table_with_deviation.show(15)"
      ],
      "execution_count": null,
      "outputs": [
        {
          "output_type": "display_data",
          "data": {
            "text/html": [
              "<table border=\"1\" class=\"dataframe\">\n",
              "    <thead>\n",
              "        <tr>\n",
              "            <th>Id</th> <th>EmployeeName</th> <th>JobTitle</th> <th>BasePay</th> <th>OvertimePay</th> <th>OtherPay</th> <th>Benefits</th> <th>TotalPay</th> <th>TotalBenefits</th> <th>Year</th> <th>Notes</th> <th>Agency</th> <th>Status</th> <th>Deviation from avg</th>\n",
              "        </tr>\n",
              "    </thead>\n",
              "    <tbody>\n",
              "        <tr>\n",
              "            <td>1   </td> <td>NATHANIEL FORD    </td> <td>GENERAL MANAGER-METROPOLITAN TRANSIT AUTHORITY  </td> <td>167411.18</td> <td>0.0        </td> <td>400184.25</td> <td>nan     </td> <td>567595  </td> <td>567595       </td> <td>2011</td> <td>nan  </td> <td>San Francisco</td> <td>nan   </td> <td>473903            </td>\n",
              "        </tr>\n",
              "        <tr>\n",
              "            <td>2   </td> <td>GARY JIMENEZ      </td> <td>CAPTAIN III (POLICE DEPARTMENT)                 </td> <td>155966.02</td> <td>245131.88  </td> <td>137811.38</td> <td>nan     </td> <td>538909  </td> <td>538909       </td> <td>2011</td> <td>nan  </td> <td>San Francisco</td> <td>nan   </td> <td>445217            </td>\n",
              "        </tr>\n",
              "        <tr>\n",
              "            <td>3   </td> <td>ALBERT PARDINI    </td> <td>CAPTAIN III (POLICE DEPARTMENT)                 </td> <td>212739.13</td> <td>106088.18  </td> <td>16452.6  </td> <td>nan     </td> <td>335280  </td> <td>335280       </td> <td>2011</td> <td>nan  </td> <td>San Francisco</td> <td>nan   </td> <td>241587            </td>\n",
              "        </tr>\n",
              "        <tr>\n",
              "            <td>4   </td> <td>CHRISTOPHER CHONG </td> <td>WIRE ROPE CABLE MAINTENANCE MECHANIC            </td> <td>77916.0  </td> <td>56120.71   </td> <td>198306.9 </td> <td>nan     </td> <td>332344  </td> <td>332344       </td> <td>2011</td> <td>nan  </td> <td>San Francisco</td> <td>nan   </td> <td>238651            </td>\n",
              "        </tr>\n",
              "        <tr>\n",
              "            <td>5   </td> <td>PATRICK GARDNER   </td> <td>DEPUTY CHIEF OF DEPARTMENT,(FIRE DEPARTMENT)    </td> <td>134401.6 </td> <td>9737.0     </td> <td>182234.59</td> <td>nan     </td> <td>326373  </td> <td>326373       </td> <td>2011</td> <td>nan  </td> <td>San Francisco</td> <td>nan   </td> <td>232681            </td>\n",
              "        </tr>\n",
              "        <tr>\n",
              "            <td>6   </td> <td>DAVID SULLIVAN    </td> <td>ASSISTANT DEPUTY CHIEF II                       </td> <td>118602.0 </td> <td>8601.0     </td> <td>189082.74</td> <td>nan     </td> <td>316286  </td> <td>316286       </td> <td>2011</td> <td>nan  </td> <td>San Francisco</td> <td>nan   </td> <td>222593            </td>\n",
              "        </tr>\n",
              "        <tr>\n",
              "            <td>7   </td> <td>ALSON LEE         </td> <td>BATTALION CHIEF, (FIRE DEPARTMENT)              </td> <td>92492.01 </td> <td>89062.9    </td> <td>134426.14</td> <td>nan     </td> <td>315981  </td> <td>315981       </td> <td>2011</td> <td>nan  </td> <td>San Francisco</td> <td>nan   </td> <td>222288            </td>\n",
              "        </tr>\n",
              "        <tr>\n",
              "            <td>8   </td> <td>DAVID KUSHNER     </td> <td>DEPUTY DIRECTOR OF INVESTMENTS                  </td> <td>256576.96</td> <td>0.0        </td> <td>51322.5  </td> <td>nan     </td> <td>307899  </td> <td>307899       </td> <td>2011</td> <td>nan  </td> <td>San Francisco</td> <td>nan   </td> <td>214207            </td>\n",
              "        </tr>\n",
              "        <tr>\n",
              "            <td>9   </td> <td>MICHAEL MORRIS    </td> <td>BATTALION CHIEF, (FIRE DEPARTMENT)              </td> <td>176932.64</td> <td>86362.68   </td> <td>40132.23 </td> <td>nan     </td> <td>303428  </td> <td>303428       </td> <td>2011</td> <td>nan  </td> <td>San Francisco</td> <td>nan   </td> <td>209735            </td>\n",
              "        </tr>\n",
              "        <tr>\n",
              "            <td>10  </td> <td>JOANNE HAYES-WHITE</td> <td>CHIEF OF DEPARTMENT, (FIRE DEPARTMENT)          </td> <td>285262.0 </td> <td>0.0        </td> <td>17115.73 </td> <td>nan     </td> <td>302378  </td> <td>302378       </td> <td>2011</td> <td>nan  </td> <td>San Francisco</td> <td>nan   </td> <td>208685            </td>\n",
              "        </tr>\n",
              "        <tr>\n",
              "            <td>11  </td> <td>ARTHUR KENNEY     </td> <td>ASSISTANT CHIEF OF DEPARTMENT, (FIRE DEPARTMENT)</td> <td>194999.39</td> <td>71344.88   </td> <td>33149.9  </td> <td>nan     </td> <td>299494  </td> <td>299494       </td> <td>2011</td> <td>nan  </td> <td>San Francisco</td> <td>nan   </td> <td>205802            </td>\n",
              "        </tr>\n",
              "        <tr>\n",
              "            <td>12  </td> <td>PATRICIA JACKSON  </td> <td>CAPTAIN III (POLICE DEPARTMENT)                 </td> <td>99722.0  </td> <td>87082.62   </td> <td>110804.3 </td> <td>nan     </td> <td>297609  </td> <td>297609       </td> <td>2011</td> <td>nan  </td> <td>San Francisco</td> <td>nan   </td> <td>203916            </td>\n",
              "        </tr>\n",
              "        <tr>\n",
              "            <td>13  </td> <td>EDWARD HARRINGTON </td> <td>EXECUTIVE CONTRACT EMPLOYEE                     </td> <td>294580.02</td> <td>0.0        </td> <td>0.0      </td> <td>nan     </td> <td>294580  </td> <td>294580       </td> <td>2011</td> <td>nan  </td> <td>San Francisco</td> <td>nan   </td> <td>200887            </td>\n",
              "        </tr>\n",
              "        <tr>\n",
              "            <td>14  </td> <td>JOHN MARTIN       </td> <td>DEPARTMENT HEAD V                               </td> <td>271329.03</td> <td>0.0        </td> <td>21342.59 </td> <td>nan     </td> <td>292672  </td> <td>292672       </td> <td>2011</td> <td>nan  </td> <td>San Francisco</td> <td>nan   </td> <td>198979            </td>\n",
              "        </tr>\n",
              "        <tr>\n",
              "            <td>15  </td> <td>DAVID FRANKLIN    </td> <td>BATTALION CHIEF, (FIRE DEPARTMENT)              </td> <td>174872.64</td> <td>74050.3    </td> <td>37424.11 </td> <td>nan     </td> <td>286347  </td> <td>286347       </td> <td>2011</td> <td>nan  </td> <td>San Francisco</td> <td>nan   </td> <td>192654            </td>\n",
              "        </tr>\n",
              "    </tbody>\n",
              "</table>\n",
              "<p>... (148639 rows omitted)</p>"
            ],
            "text/plain": [
              "<IPython.core.display.HTML object>"
            ]
          },
          "metadata": {
            "tags": []
          }
        }
      ]
    },
    {
      "cell_type": "code",
      "metadata": {
        "trusted": true,
        "id": "0RnIUON0_gYi",
        "colab_type": "code",
        "colab": {
          "base_uri": "https://localhost:8080/",
          "height": 663
        },
        "outputId": "c60a8138-555a-4754-fc8f-5726f09bed5e"
      },
      "source": [
        "# Sort the data from lowest to the highest deviation\n",
        "table_with_deviation.sort(\"Deviation from avg\").show(10)"
      ],
      "execution_count": null,
      "outputs": [
        {
          "output_type": "display_data",
          "data": {
            "text/html": [
              "<table border=\"1\" class=\"dataframe\">\n",
              "    <thead>\n",
              "        <tr>\n",
              "            <th>Id</th> <th>EmployeeName</th> <th>JobTitle</th> <th>BasePay</th> <th>OvertimePay</th> <th>OtherPay</th> <th>Benefits</th> <th>TotalPay</th> <th>TotalBenefits</th> <th>Year</th> <th>Notes</th> <th>Agency</th> <th>Status</th> <th>Deviation from avg</th>\n",
              "        </tr>\n",
              "    </thead>\n",
              "    <tbody>\n",
              "        <tr>\n",
              "            <td>148654</td> <td>Joe Lopez         </td> <td>Counselor, Log Cabin Ranch                </td> <td>0.00   </td> <td>0.00       </td> <td>-618.13 </td> <td>0.00    </td> <td>-618.13 </td> <td>-618.13      </td> <td>2014</td> <td>nan  </td> <td>San Francisco</td> <td>PT    </td> <td>-94310.7          </td>\n",
              "        </tr>\n",
              "        <tr>\n",
              "            <td>110531</td> <td>David P Kucia     </td> <td>Police Officer 3                          </td> <td>nan    </td> <td>0.0        </td> <td>0.0     </td> <td>-33.89  </td> <td>0       </td> <td>-33.89       </td> <td>2013</td> <td>nan  </td> <td>San Francisco</td> <td>nan   </td> <td>-93726.4          </td>\n",
              "        </tr>\n",
              "        <tr>\n",
              "            <td>110530</td> <td>Mark E Laherty    </td> <td>Police Officer 3                          </td> <td>nan    </td> <td>0.0        </td> <td>0.0     </td> <td>-8.2    </td> <td>0       </td> <td>-8.2         </td> <td>2013</td> <td>nan  </td> <td>San Francisco</td> <td>nan   </td> <td>-93700.8          </td>\n",
              "        </tr>\n",
              "        <tr>\n",
              "            <td>110529</td> <td>Timothy E Gibson  </td> <td>Police Officer 3                          </td> <td>nan    </td> <td>0.0        </td> <td>0.0     </td> <td>-2.73   </td> <td>0       </td> <td>-2.73        </td> <td>2013</td> <td>nan  </td> <td>San Francisco</td> <td>nan   </td> <td>-93695.3          </td>\n",
              "        </tr>\n",
              "        <tr>\n",
              "            <td>36157 </td> <td>PAULETTE ADAMS    </td> <td>STATIONARY ENGINEER, WATER TREATMENT PLANT</td> <td>0.0    </td> <td>0.0        </td> <td>0.0     </td> <td>nan     </td> <td>0       </td> <td>0            </td> <td>2011</td> <td>nan  </td> <td>San Francisco</td> <td>nan   </td> <td>-93692.6          </td>\n",
              "        </tr>\n",
              "        <tr>\n",
              "            <td>36158 </td> <td>KAUKAB MOHSIN     </td> <td>TRANSIT OPERATOR                          </td> <td>0.0    </td> <td>0.0        </td> <td>0.0     </td> <td>nan     </td> <td>0       </td> <td>0            </td> <td>2011</td> <td>nan  </td> <td>San Francisco</td> <td>nan   </td> <td>-93692.6          </td>\n",
              "        </tr>\n",
              "        <tr>\n",
              "            <td>36159 </td> <td>JOSEPHINE MCCREARY</td> <td>MANAGER IV                                </td> <td>0.0    </td> <td>0.0        </td> <td>0.0     </td> <td>nan     </td> <td>0       </td> <td>0            </td> <td>2011</td> <td>nan  </td> <td>San Francisco</td> <td>nan   </td> <td>-93692.6          </td>\n",
              "        </tr>\n",
              "        <tr>\n",
              "            <td>148627</td> <td>Paulet Gaines     </td> <td>Account Clerk                             </td> <td>0.00   </td> <td>0.00       </td> <td>0.00    </td> <td>0.00    </td> <td>0       </td> <td>0            </td> <td>2014</td> <td>nan  </td> <td>San Francisco</td> <td>PT    </td> <td>-93692.6          </td>\n",
              "        </tr>\n",
              "        <tr>\n",
              "            <td>148628</td> <td>Brett A Lundberg  </td> <td>General Laborer                           </td> <td>0.00   </td> <td>0.00       </td> <td>0.00    </td> <td>0.00    </td> <td>0       </td> <td>0            </td> <td>2014</td> <td>nan  </td> <td>San Francisco</td> <td>PT    </td> <td>-93692.6          </td>\n",
              "        </tr>\n",
              "        <tr>\n",
              "            <td>148629</td> <td>Mark W Mcclure    </td> <td>General Laborer                           </td> <td>0.00   </td> <td>0.00       </td> <td>0.00    </td> <td>0.00    </td> <td>0       </td> <td>0            </td> <td>2014</td> <td>nan  </td> <td>San Francisco</td> <td>PT    </td> <td>-93692.6          </td>\n",
              "        </tr>\n",
              "    </tbody>\n",
              "</table>\n",
              "<p>... (148644 rows omitted)</p>"
            ],
            "text/plain": [
              "<IPython.core.display.HTML object>"
            ]
          },
          "metadata": {
            "tags": []
          }
        }
      ]
    },
    {
      "cell_type": "code",
      "metadata": {
        "trusted": true,
        "id": "_Jq9VZEq_gYl",
        "colab_type": "code",
        "colab": {
          "base_uri": "https://localhost:8080/",
          "height": 423
        },
        "outputId": "712fa550-3a6b-4a90-f659-385d7ba3c2ee"
      },
      "source": [
        "# Second run with the sort in descending order\n",
        "table_with_deviation.sort(\"Deviation from avg\", descending=True).show(5)"
      ],
      "execution_count": null,
      "outputs": [
        {
          "output_type": "display_data",
          "data": {
            "text/html": [
              "<table border=\"1\" class=\"dataframe\">\n",
              "    <thead>\n",
              "        <tr>\n",
              "            <th>Id</th> <th>EmployeeName</th> <th>JobTitle</th> <th>BasePay</th> <th>OvertimePay</th> <th>OtherPay</th> <th>Benefits</th> <th>TotalPay</th> <th>TotalBenefits</th> <th>Year</th> <th>Notes</th> <th>Agency</th> <th>Status</th> <th>Deviation from avg</th>\n",
              "        </tr>\n",
              "    </thead>\n",
              "    <tbody>\n",
              "        <tr>\n",
              "            <td>1     </td> <td>NATHANIEL FORD      </td> <td>GENERAL MANAGER-METROPOLITAN TRANSIT AUTHORITY</td> <td>167411.18</td> <td>0.0        </td> <td>400184.25</td> <td>nan     </td> <td>567595  </td> <td>567595       </td> <td>2011</td> <td>nan  </td> <td>San Francisco</td> <td>nan   </td> <td>473903            </td>\n",
              "        </tr>\n",
              "        <tr>\n",
              "            <td>2     </td> <td>GARY JIMENEZ        </td> <td>CAPTAIN III (POLICE DEPARTMENT)               </td> <td>155966.02</td> <td>245131.88  </td> <td>137811.38</td> <td>nan     </td> <td>538909  </td> <td>538909       </td> <td>2011</td> <td>nan  </td> <td>San Francisco</td> <td>nan   </td> <td>445217            </td>\n",
              "        </tr>\n",
              "        <tr>\n",
              "            <td>110532</td> <td>David Shinn         </td> <td>Deputy Chief 3                                </td> <td>129150.01</td> <td>0.0        </td> <td>342802.63</td> <td>38780.04</td> <td>471953  </td> <td>510733       </td> <td>2014</td> <td>nan  </td> <td>San Francisco</td> <td>PT    </td> <td>417040            </td>\n",
              "        </tr>\n",
              "        <tr>\n",
              "            <td>110533</td> <td>Amy P Hart          </td> <td>Asst Med Examiner                             </td> <td>318835.49</td> <td>10712.95   </td> <td>60563.54 </td> <td>89540.23</td> <td>390112  </td> <td>479652       </td> <td>2014</td> <td>nan  </td> <td>San Francisco</td> <td>FT    </td> <td>385960            </td>\n",
              "        </tr>\n",
              "        <tr>\n",
              "            <td>110534</td> <td>William J Coaker Jr.</td> <td>Chief Investment Officer                      </td> <td>257340.0 </td> <td>0.0        </td> <td>82313.7  </td> <td>96570.66</td> <td>339654  </td> <td>436224       </td> <td>2014</td> <td>nan  </td> <td>San Francisco</td> <td>PT    </td> <td>342532            </td>\n",
              "        </tr>\n",
              "    </tbody>\n",
              "</table>\n",
              "<p>... (148649 rows omitted)</p>"
            ],
            "text/plain": [
              "<IPython.core.display.HTML object>"
            ]
          },
          "metadata": {
            "tags": []
          }
        }
      ]
    },
    {
      "cell_type": "code",
      "metadata": {
        "trusted": true,
        "id": "OBFcTR0D_gYp",
        "colab_type": "code",
        "colab": {
          "base_uri": "https://localhost:8080/",
          "height": 185
        },
        "outputId": "70d04ff9-b77e-4ac3-b6a8-eaf0dba8b33a"
      },
      "source": [
        "# select the top row\n",
        "table_with_deviation.take(0)"
      ],
      "execution_count": null,
      "outputs": [
        {
          "output_type": "execute_result",
          "data": {
            "text/html": [
              "<table border=\"1\" class=\"dataframe\">\n",
              "    <thead>\n",
              "        <tr>\n",
              "            <th>Id</th> <th>EmployeeName</th> <th>JobTitle</th> <th>BasePay</th> <th>OvertimePay</th> <th>OtherPay</th> <th>Benefits</th> <th>TotalPay</th> <th>TotalBenefits</th> <th>Year</th> <th>Notes</th> <th>Agency</th> <th>Status</th> <th>Deviation from avg</th>\n",
              "        </tr>\n",
              "    </thead>\n",
              "    <tbody>\n",
              "        <tr>\n",
              "            <td>1   </td> <td>NATHANIEL FORD</td> <td>GENERAL MANAGER-METROPOLITAN TRANSIT AUTHORITY</td> <td>167411.18</td> <td>0.0        </td> <td>400184.25</td> <td>nan     </td> <td>567595  </td> <td>567595       </td> <td>2011</td> <td>nan  </td> <td>San Francisco</td> <td>nan   </td> <td>473903            </td>\n",
              "        </tr>\n",
              "    </tbody>\n",
              "</table>"
            ],
            "text/plain": [
              "Id   | EmployeeName   | JobTitle                                       | BasePay   | OvertimePay | OtherPay  | Benefits | TotalPay | TotalBenefits | Year | Notes | Agency        | Status | Deviation from avg\n",
              "1    | NATHANIEL FORD | GENERAL MANAGER-METROPOLITAN TRANSIT AUTHORITY | 167411.18 | 0.0         | 400184.25 | nan      | 567595   | 567595        | 2011 | nan   | San Francisco | nan    | 473903"
            ]
          },
          "metadata": {
            "tags": []
          },
          "execution_count": 54
        }
      ]
    },
    {
      "cell_type": "code",
      "metadata": {
        "trusted": true,
        "id": "HzfILDSn_gYt",
        "colab_type": "code",
        "colab": {
          "base_uri": "https://localhost:8080/",
          "height": 527
        },
        "outputId": "7d2da64f-56a0-44db-9247-353554ac42f0"
      },
      "source": [
        "# select the 2 - 8th row\n",
        "table_with_deviation.take(np.arange(2, 8))"
      ],
      "execution_count": null,
      "outputs": [
        {
          "output_type": "execute_result",
          "data": {
            "text/html": [
              "<table border=\"1\" class=\"dataframe\">\n",
              "    <thead>\n",
              "        <tr>\n",
              "            <th>Id</th> <th>EmployeeName</th> <th>JobTitle</th> <th>BasePay</th> <th>OvertimePay</th> <th>OtherPay</th> <th>Benefits</th> <th>TotalPay</th> <th>TotalBenefits</th> <th>Year</th> <th>Notes</th> <th>Agency</th> <th>Status</th> <th>Deviation from avg</th>\n",
              "        </tr>\n",
              "    </thead>\n",
              "    <tbody>\n",
              "        <tr>\n",
              "            <td>3   </td> <td>ALBERT PARDINI   </td> <td>CAPTAIN III (POLICE DEPARTMENT)             </td> <td>212739.13</td> <td>106088.18  </td> <td>16452.6  </td> <td>nan     </td> <td>335280  </td> <td>335280       </td> <td>2011</td> <td>nan  </td> <td>San Francisco</td> <td>nan   </td> <td>241587            </td>\n",
              "        </tr>\n",
              "        <tr>\n",
              "            <td>4   </td> <td>CHRISTOPHER CHONG</td> <td>WIRE ROPE CABLE MAINTENANCE MECHANIC        </td> <td>77916.0  </td> <td>56120.71   </td> <td>198306.9 </td> <td>nan     </td> <td>332344  </td> <td>332344       </td> <td>2011</td> <td>nan  </td> <td>San Francisco</td> <td>nan   </td> <td>238651            </td>\n",
              "        </tr>\n",
              "        <tr>\n",
              "            <td>5   </td> <td>PATRICK GARDNER  </td> <td>DEPUTY CHIEF OF DEPARTMENT,(FIRE DEPARTMENT)</td> <td>134401.6 </td> <td>9737.0     </td> <td>182234.59</td> <td>nan     </td> <td>326373  </td> <td>326373       </td> <td>2011</td> <td>nan  </td> <td>San Francisco</td> <td>nan   </td> <td>232681            </td>\n",
              "        </tr>\n",
              "        <tr>\n",
              "            <td>6   </td> <td>DAVID SULLIVAN   </td> <td>ASSISTANT DEPUTY CHIEF II                   </td> <td>118602.0 </td> <td>8601.0     </td> <td>189082.74</td> <td>nan     </td> <td>316286  </td> <td>316286       </td> <td>2011</td> <td>nan  </td> <td>San Francisco</td> <td>nan   </td> <td>222593            </td>\n",
              "        </tr>\n",
              "        <tr>\n",
              "            <td>7   </td> <td>ALSON LEE        </td> <td>BATTALION CHIEF, (FIRE DEPARTMENT)          </td> <td>92492.01 </td> <td>89062.9    </td> <td>134426.14</td> <td>nan     </td> <td>315981  </td> <td>315981       </td> <td>2011</td> <td>nan  </td> <td>San Francisco</td> <td>nan   </td> <td>222288            </td>\n",
              "        </tr>\n",
              "        <tr>\n",
              "            <td>8   </td> <td>DAVID KUSHNER    </td> <td>DEPUTY DIRECTOR OF INVESTMENTS              </td> <td>256576.96</td> <td>0.0        </td> <td>51322.5  </td> <td>nan     </td> <td>307899  </td> <td>307899       </td> <td>2011</td> <td>nan  </td> <td>San Francisco</td> <td>nan   </td> <td>214207            </td>\n",
              "        </tr>\n",
              "    </tbody>\n",
              "</table>"
            ],
            "text/plain": [
              "Id   | EmployeeName      | JobTitle                                     | BasePay   | OvertimePay | OtherPay  | Benefits | TotalPay | TotalBenefits | Year | Notes | Agency        | Status | Deviation from avg\n",
              "3    | ALBERT PARDINI    | CAPTAIN III (POLICE DEPARTMENT)              | 212739.13 | 106088.18   | 16452.6   | nan      | 335280   | 335280        | 2011 | nan   | San Francisco | nan    | 241587\n",
              "4    | CHRISTOPHER CHONG | WIRE ROPE CABLE MAINTENANCE MECHANIC         | 77916.0   | 56120.71    | 198306.9  | nan      | 332344   | 332344        | 2011 | nan   | San Francisco | nan    | 238651\n",
              "5    | PATRICK GARDNER   | DEPUTY CHIEF OF DEPARTMENT,(FIRE DEPARTMENT) | 134401.6  | 9737.0      | 182234.59 | nan      | 326373   | 326373        | 2011 | nan   | San Francisco | nan    | 232681\n",
              "6    | DAVID SULLIVAN    | ASSISTANT DEPUTY CHIEF II                    | 118602.0  | 8601.0      | 189082.74 | nan      | 316286   | 316286        | 2011 | nan   | San Francisco | nan    | 222593\n",
              "7    | ALSON LEE         | BATTALION CHIEF, (FIRE DEPARTMENT)           | 92492.01  | 89062.9     | 134426.14 | nan      | 315981   | 315981        | 2011 | nan   | San Francisco | nan    | 222288\n",
              "8    | DAVID KUSHNER     | DEPUTY DIRECTOR OF INVESTMENTS               | 256576.96 | 0.0         | 51322.5   | nan      | 307899   | 307899        | 2011 | nan   | San Francisco | nan    | 214207"
            ]
          },
          "metadata": {
            "tags": []
          },
          "execution_count": 55
        }
      ]
    },
    {
      "cell_type": "code",
      "metadata": {
        "trusted": true,
        "id": "R5JWhNFp_gYz",
        "colab_type": "code",
        "colab": {
          "base_uri": "https://localhost:8080/",
          "height": 646
        },
        "outputId": "43220185-bf70-4872-aa02-505491b366f1"
      },
      "source": [
        "# select rows based on a condition. For example, get the top benefit earners \n",
        "ninety_percentitle_benefit = np.percentile(renamed.column(\"TotalBenefits\"), 98)\n",
        "renamed.where(\"TotalBenefits\", are.above(ninety_percentitle_benefit)).sort(\"TotalBenefits\", True)\n",
        "\n",
        "# You should notice that the returned records is 2% of the total."
      ],
      "execution_count": null,
      "outputs": [
        {
          "output_type": "execute_result",
          "data": {
            "text/html": [
              "<table border=\"1\" class=\"dataframe\">\n",
              "    <thead>\n",
              "        <tr>\n",
              "            <th>Id</th> <th>EmployeeName</th> <th>JobTitle</th> <th>BasePay</th> <th>OvertimePay</th> <th>OtherPay</th> <th>Benefits</th> <th>TotalPay</th> <th>TotalBenefits</th> <th>Year</th> <th>Notes</th> <th>Agency</th> <th>Status</th>\n",
              "        </tr>\n",
              "    </thead>\n",
              "    <tbody>\n",
              "        <tr>\n",
              "            <td>1     </td> <td>NATHANIEL FORD      </td> <td>GENERAL MANAGER-METROPOLITAN TRANSIT AUTHORITY</td> <td>167411.18</td> <td>0.0        </td> <td>400184.25</td> <td>nan     </td> <td>567595  </td> <td>567595       </td> <td>2011</td> <td>nan  </td> <td>San Francisco</td> <td>nan   </td>\n",
              "        </tr>\n",
              "        <tr>\n",
              "            <td>2     </td> <td>GARY JIMENEZ        </td> <td>CAPTAIN III (POLICE DEPARTMENT)               </td> <td>155966.02</td> <td>245131.88  </td> <td>137811.38</td> <td>nan     </td> <td>538909  </td> <td>538909       </td> <td>2011</td> <td>nan  </td> <td>San Francisco</td> <td>nan   </td>\n",
              "        </tr>\n",
              "        <tr>\n",
              "            <td>110532</td> <td>David Shinn         </td> <td>Deputy Chief 3                                </td> <td>129150.01</td> <td>0.0        </td> <td>342802.63</td> <td>38780.04</td> <td>471953  </td> <td>510733       </td> <td>2014</td> <td>nan  </td> <td>San Francisco</td> <td>PT    </td>\n",
              "        </tr>\n",
              "        <tr>\n",
              "            <td>110533</td> <td>Amy P Hart          </td> <td>Asst Med Examiner                             </td> <td>318835.49</td> <td>10712.95   </td> <td>60563.54 </td> <td>89540.23</td> <td>390112  </td> <td>479652       </td> <td>2014</td> <td>nan  </td> <td>San Francisco</td> <td>FT    </td>\n",
              "        </tr>\n",
              "        <tr>\n",
              "            <td>110534</td> <td>William J Coaker Jr.</td> <td>Chief Investment Officer                      </td> <td>257340.0 </td> <td>0.0        </td> <td>82313.7  </td> <td>96570.66</td> <td>339654  </td> <td>436224       </td> <td>2014</td> <td>nan  </td> <td>San Francisco</td> <td>PT    </td>\n",
              "        </tr>\n",
              "        <tr>\n",
              "            <td>72926 </td> <td>Gregory P Suhr      </td> <td>Chief of Police                               </td> <td>319275.01</td> <td>0.0        </td> <td>20007.06 </td> <td>86533.21</td> <td>339282  </td> <td>425815       </td> <td>2013</td> <td>nan  </td> <td>San Francisco</td> <td>nan   </td>\n",
              "        </tr>\n",
              "        <tr>\n",
              "            <td>72927 </td> <td>Joanne M Hayes-White</td> <td>Chief, Fire Department                        </td> <td>313686.01</td> <td>0.0        </td> <td>23236.0  </td> <td>85431.39</td> <td>336922  </td> <td>422353       </td> <td>2013</td> <td>nan  </td> <td>San Francisco</td> <td>nan   </td>\n",
              "        </tr>\n",
              "        <tr>\n",
              "            <td>110535</td> <td>Gregory P Suhr      </td> <td>Chief of Police                               </td> <td>307450.04</td> <td>0.0        </td> <td>19266.72 </td> <td>91302.46</td> <td>326717  </td> <td>418019       </td> <td>2014</td> <td>nan  </td> <td>San Francisco</td> <td>FT    </td>\n",
              "        </tr>\n",
              "        <tr>\n",
              "            <td>110536</td> <td>Joanne M Hayes-White</td> <td>Chief, Fire Department                        </td> <td>302068.0 </td> <td>0.0        </td> <td>24165.44 </td> <td>91201.66</td> <td>326233  </td> <td>417435       </td> <td>2014</td> <td>nan  </td> <td>San Francisco</td> <td>FT    </td>\n",
              "        </tr>\n",
              "        <tr>\n",
              "            <td>110537</td> <td>Ellen G Moffatt     </td> <td>Asst Med Examiner                             </td> <td>270222.04</td> <td>6009.22    </td> <td>67956.2  </td> <td>71580.48</td> <td>344187  </td> <td>415768       </td> <td>2014</td> <td>nan  </td> <td>San Francisco</td> <td>FT    </td>\n",
              "        </tr>\n",
              "    </tbody>\n",
              "</table>\n",
              "<p>... (2964 rows omitted)</p>"
            ],
            "text/plain": [
              "Id     | EmployeeName         | JobTitle                                       | BasePay   | OvertimePay | OtherPay  | Benefits | TotalPay | TotalBenefits | Year | Notes | Agency        | Status\n",
              "1      | NATHANIEL FORD       | GENERAL MANAGER-METROPOLITAN TRANSIT AUTHORITY | 167411.18 | 0.0         | 400184.25 | nan      | 567595   | 567595        | 2011 | nan   | San Francisco | nan\n",
              "2      | GARY JIMENEZ         | CAPTAIN III (POLICE DEPARTMENT)                | 155966.02 | 245131.88   | 137811.38 | nan      | 538909   | 538909        | 2011 | nan   | San Francisco | nan\n",
              "110532 | David Shinn          | Deputy Chief 3                                 | 129150.01 | 0.0         | 342802.63 | 38780.04 | 471953   | 510733        | 2014 | nan   | San Francisco | PT\n",
              "110533 | Amy P Hart           | Asst Med Examiner                              | 318835.49 | 10712.95    | 60563.54  | 89540.23 | 390112   | 479652        | 2014 | nan   | San Francisco | FT\n",
              "110534 | William J Coaker Jr. | Chief Investment Officer                       | 257340.0  | 0.0         | 82313.7   | 96570.66 | 339654   | 436224        | 2014 | nan   | San Francisco | PT\n",
              "72926  | Gregory P Suhr       | Chief of Police                                | 319275.01 | 0.0         | 20007.06  | 86533.21 | 339282   | 425815        | 2013 | nan   | San Francisco | nan\n",
              "72927  | Joanne M Hayes-White | Chief, Fire Department                         | 313686.01 | 0.0         | 23236.0   | 85431.39 | 336922   | 422353        | 2013 | nan   | San Francisco | nan\n",
              "110535 | Gregory P Suhr       | Chief of Police                                | 307450.04 | 0.0         | 19266.72  | 91302.46 | 326717   | 418019        | 2014 | nan   | San Francisco | FT\n",
              "110536 | Joanne M Hayes-White | Chief, Fire Department                         | 302068.0  | 0.0         | 24165.44  | 91201.66 | 326233   | 417435        | 2014 | nan   | San Francisco | FT\n",
              "110537 | Ellen G Moffatt      | Asst Med Examiner                              | 270222.04 | 6009.22     | 67956.2   | 71580.48 | 344187   | 415768        | 2014 | nan   | San Francisco | FT\n",
              "... (2964 rows omitted)"
            ]
          },
          "metadata": {
            "tags": []
          },
          "execution_count": 56
        }
      ]
    },
    {
      "cell_type": "code",
      "metadata": {
        "trusted": true,
        "id": "AiAyVjBz_gY2",
        "colab_type": "code",
        "colab": {
          "base_uri": "https://localhost:8080/",
          "height": 49
        },
        "outputId": "631cfbfc-d8c7-4567-d994-3197e325102a"
      },
      "source": [
        "# Select records where the total pay equals the total benefits\n",
        "renamed.where(\"TotalBenefits\", are.equal_to(\"TotalPay\")).show()"
      ],
      "execution_count": null,
      "outputs": [
        {
          "output_type": "display_data",
          "data": {
            "text/html": [
              "<table border=\"1\" class=\"dataframe\">\n",
              "    <thead>\n",
              "        <tr>\n",
              "            <th>Id</th> <th>EmployeeName</th> <th>JobTitle</th> <th>BasePay</th> <th>OvertimePay</th> <th>OtherPay</th> <th>Benefits</th> <th>TotalPay</th> <th>TotalBenefits</th> <th>Year</th> <th>Notes</th> <th>Agency</th> <th>Status</th>\n",
              "        </tr>\n",
              "    </thead>\n",
              "    <tbody>\n",
              "    </tbody>\n",
              "</table>"
            ],
            "text/plain": [
              "<IPython.core.display.HTML object>"
            ]
          },
          "metadata": {
            "tags": []
          }
        }
      ]
    },
    {
      "cell_type": "code",
      "metadata": {
        "trusted": true,
        "id": "0QwcDFzw_gY5",
        "colab_type": "code",
        "colab": {
          "base_uri": "https://localhost:8080/",
          "height": 389
        },
        "outputId": "bc59dd6b-fb6a-4faf-bb14-3f84f2103080"
      },
      "source": [
        "# Pick up chief related jobs\n",
        "renamed.where(\"JobTitle\", are.containing(\"Chief\")).where(\"BasePay\", are.above(\"10000\")).show(5)"
      ],
      "execution_count": null,
      "outputs": [
        {
          "output_type": "display_data",
          "data": {
            "text/html": [
              "<table border=\"1\" class=\"dataframe\">\n",
              "    <thead>\n",
              "        <tr>\n",
              "            <th>Id</th> <th>EmployeeName</th> <th>JobTitle</th> <th>BasePay</th> <th>OvertimePay</th> <th>OtherPay</th> <th>Benefits</th> <th>TotalPay</th> <th>TotalBenefits</th> <th>Year</th> <th>Notes</th> <th>Agency</th> <th>Status</th>\n",
              "        </tr>\n",
              "    </thead>\n",
              "    <tbody>\n",
              "        <tr>\n",
              "            <td>36161</td> <td>Gregory Suhr      </td> <td>Chief of Police               </td> <td>302578.0 </td> <td>0.0        </td> <td>18974.11</td> <td>69810.19</td> <td>321552  </td> <td>391362       </td> <td>2012</td> <td>nan  </td> <td>San Francisco</td> <td>nan   </td>\n",
              "        </tr>\n",
              "        <tr>\n",
              "            <td>36163</td> <td>Joanne Hayes-White</td> <td>Chief, Fire Department        </td> <td>296943.01</td> <td>0.0        </td> <td>17816.59</td> <td>72047.88</td> <td>314760  </td> <td>386807       </td> <td>2012</td> <td>nan  </td> <td>San Francisco</td> <td>nan   </td>\n",
              "        </tr>\n",
              "        <tr>\n",
              "            <td>36170</td> <td>Brendan Ward      </td> <td>Battlion Chief, Fire Suppressi</td> <td>174822.47</td> <td>118215.58  </td> <td>28845.78</td> <td>49648.09</td> <td>321884  </td> <td>371532       </td> <td>2012</td> <td>nan  </td> <td>San Francisco</td> <td>nan   </td>\n",
              "        </tr>\n",
              "        <tr>\n",
              "            <td>36171</td> <td>Samson Lai        </td> <td>Battlion Chief, Fire Suppressi</td> <td>174822.44</td> <td>112731.28  </td> <td>28660.28</td> <td>53249.56</td> <td>316214  </td> <td>369464       </td> <td>2012</td> <td>nan  </td> <td>San Francisco</td> <td>nan   </td>\n",
              "        </tr>\n",
              "        <tr>\n",
              "            <td>36172</td> <td>Rudy Castellanos  </td> <td>Battlion Chief, Fire Suppressi</td> <td>176771.74</td> <td>124413.13  </td> <td>15803.39</td> <td>52320.9 </td> <td>316988  </td> <td>369309       </td> <td>2012</td> <td>nan  </td> <td>San Francisco</td> <td>nan   </td>\n",
              "        </tr>\n",
              "    </tbody>\n",
              "</table>\n",
              "<p>... (413 rows omitted)</p>"
            ],
            "text/plain": [
              "<IPython.core.display.HTML object>"
            ]
          },
          "metadata": {
            "tags": []
          }
        }
      ]
    },
    {
      "cell_type": "code",
      "metadata": {
        "trusted": true,
        "id": "ds40T2iK_gY7",
        "colab_type": "code",
        "colab": {
          "base_uri": "https://localhost:8080/",
          "height": 388
        },
        "outputId": "a9234556-a37d-4177-cf42-83405e999a18"
      },
      "source": [
        "# Read the population data from a URL\n",
        "data = 'http://www2.census.gov/programs-surveys/popest/datasets/2010-2015/national/asrh/nc-est2015-agesex-res.csv'\n",
        "full_census_table = Table.read_table(data)\n",
        "\n",
        "# Select the sex  and age and rename the 2010 and 2014 estimates\n",
        "partial_census_table = full_census_table.select('SEX', 'AGE', 'POPESTIMATE2010', 'POPESTIMATE2014').relabeled('POPESTIMATE2010', '2010').relabeled('POPESTIMATE2014', '2014')\n",
        "\n",
        "# Compute the population change\n",
        "change = partial_census_table.column(\"2014\") - partial_census_table.column(\"2010\")\n",
        "\n",
        "# Add the change column\n",
        "census = partial_census_table.with_columns(\n",
        "    'Change', change,\n",
        "    'Percent Change', change/partial_census_table.column(\"2010\")\n",
        ")\n",
        "census.set_format(\"Percent Change\", PercentFormatter)\n",
        "census.sort(\"AGE\", descending=True)"
      ],
      "execution_count": null,
      "outputs": [
        {
          "output_type": "execute_result",
          "data": {
            "text/html": [
              "<table border=\"1\" class=\"dataframe\">\n",
              "    <thead>\n",
              "        <tr>\n",
              "            <th>SEX</th> <th>AGE</th> <th>2010</th> <th>2014</th> <th>Change</th> <th>Percent Change</th>\n",
              "        </tr>\n",
              "    </thead>\n",
              "    <tbody>\n",
              "        <tr>\n",
              "            <td>2   </td> <td>999 </td> <td>157258820</td> <td>161952064</td> <td>4693244</td> <td>2.98%         </td>\n",
              "        </tr>\n",
              "        <tr>\n",
              "            <td>1   </td> <td>999 </td> <td>152088043</td> <td>156955337</td> <td>4867294</td> <td>3.20%         </td>\n",
              "        </tr>\n",
              "        <tr>\n",
              "            <td>0   </td> <td>999 </td> <td>309346863</td> <td>318907401</td> <td>9560538</td> <td>3.09%         </td>\n",
              "        </tr>\n",
              "        <tr>\n",
              "            <td>2   </td> <td>100 </td> <td>45058    </td> <td>58008    </td> <td>12950  </td> <td>28.74%        </td>\n",
              "        </tr>\n",
              "        <tr>\n",
              "            <td>1   </td> <td>100 </td> <td>9352     </td> <td>13618    </td> <td>4266   </td> <td>45.62%        </td>\n",
              "        </tr>\n",
              "        <tr>\n",
              "            <td>0   </td> <td>100 </td> <td>54410    </td> <td>71626    </td> <td>17216  </td> <td>31.64%        </td>\n",
              "        </tr>\n",
              "        <tr>\n",
              "            <td>2   </td> <td>99  </td> <td>26074    </td> <td>32517    </td> <td>6443   </td> <td>24.71%        </td>\n",
              "        </tr>\n",
              "        <tr>\n",
              "            <td>1   </td> <td>99  </td> <td>6104     </td> <td>8951     </td> <td>2847   </td> <td>46.64%        </td>\n",
              "        </tr>\n",
              "        <tr>\n",
              "            <td>0   </td> <td>99  </td> <td>32178    </td> <td>41468    </td> <td>9290   </td> <td>28.87%        </td>\n",
              "        </tr>\n",
              "        <tr>\n",
              "            <td>2   </td> <td>98  </td> <td>37532    </td> <td>46208    </td> <td>8676   </td> <td>23.12%        </td>\n",
              "        </tr>\n",
              "    </tbody>\n",
              "</table>\n",
              "<p>... (296 rows omitted)</p>"
            ],
            "text/plain": [
              "SEX  | AGE  | 2010      | 2014      | Change  | Percent Change\n",
              "2    | 999  | 157258820 | 161952064 | 4693244 | 2.98%\n",
              "1    | 999  | 152088043 | 156955337 | 4867294 | 3.20%\n",
              "0    | 999  | 309346863 | 318907401 | 9560538 | 3.09%\n",
              "2    | 100  | 45058     | 58008     | 12950   | 28.74%\n",
              "1    | 100  | 9352      | 13618     | 4266    | 45.62%\n",
              "0    | 100  | 54410     | 71626     | 17216   | 31.64%\n",
              "2    | 99   | 26074     | 32517     | 6443    | 24.71%\n",
              "1    | 99   | 6104      | 8951      | 2847    | 46.64%\n",
              "0    | 99   | 32178     | 41468     | 9290    | 28.87%\n",
              "2    | 98   | 37532     | 46208     | 8676    | 23.12%\n",
              "... (296 rows omitted)"
            ]
          },
          "metadata": {
            "tags": []
          },
          "execution_count": 60
        }
      ]
    },
    {
      "cell_type": "markdown",
      "metadata": {
        "id": "EimCbH1D_gY9",
        "colab_type": "text"
      },
      "source": [
        "## Mini-Project\n",
        "***COVID-19 Trend Analysis ***\n",
        "Covid-19 pandemic has hit the world. There are publicly available datasets that tracks the infection across the globe. \n",
        "\n",
        "Use one of such dataset to analysis and provide insights on the following questions:\n",
        "- How many countries have COVID-19 infections?\n",
        "- What are the worst hit countries?\n",
        "- Which countries have the worst date rates?\n",
        "- Which countries have the worst deaths?\n",
        "- Provie a summary of the active and confirmed cases?"
      ]
    },
    {
      "cell_type": "code",
      "metadata": {
        "trusted": true,
        "id": "ziaCBURr_gY-",
        "colab_type": "code",
        "colab": {}
      },
      "source": [
        "from datetime import date\n",
        "from datetime import timedelta\n"
      ],
      "execution_count": null,
      "outputs": []
    },
    {
      "cell_type": "code",
      "metadata": {
        "trusted": true,
        "id": "uy8WFpKY_gZB",
        "colab_type": "code",
        "colab": {
          "base_uri": "https://localhost:8080/",
          "height": 629
        },
        "outputId": "aa584cc2-e51c-4e17-ada1-3f2b762146f7"
      },
      "source": [
        "# Read the latest covid-19 from a URL\n",
        "covid_19_data = Table.read_table('https://raw.githubusercontent.com/CSSEGISandData/COVID-19/master/csse_covid_19_data/csse_covid_19_daily_reports/09-05-2020.csv').sort(\"Active\", descending=True)\n",
        "covid_19_data"
      ],
      "execution_count": null,
      "outputs": [
        {
          "output_type": "execute_result",
          "data": {
            "text/html": [
              "<table border=\"1\" class=\"dataframe\">\n",
              "    <thead>\n",
              "        <tr>\n",
              "            <th>FIPS</th> <th>Admin2</th> <th>Province_State</th> <th>Country_Region</th> <th>Last_Update</th> <th>Lat</th> <th>Long_</th> <th>Confirmed</th> <th>Deaths</th> <th>Recovered</th> <th>Active</th> <th>Combined_Key</th> <th>Incidence_Rate</th> <th>Case-Fatality_Ratio</th>\n",
              "        </tr>\n",
              "    </thead>\n",
              "    <tbody>\n",
              "        <tr>\n",
              "            <td>90004</td> <td>Unassigned </td> <td>Arizona         </td> <td>US            </td> <td>2020-09-06 04:28:33</td> <td>nan     </td> <td>nan     </td> <td>1        </td> <td>1     </td> <td>0        </td> <td>nan   </td> <td>Unassigned, Arizona, US    </td> <td>nan           </td> <td>100                </td>\n",
              "        </tr>\n",
              "        <tr>\n",
              "            <td>nan  </td> <td>nan        </td> <td>Unknown         </td> <td>Chile         </td> <td>2020-09-06 04:28:33</td> <td>nan     </td> <td>nan     </td> <td>54       </td> <td>1     </td> <td>54       </td> <td>nan   </td> <td>Unknown, Chile             </td> <td>nan           </td> <td>1.85185            </td>\n",
              "        </tr>\n",
              "        <tr>\n",
              "            <td>nan  </td> <td>nan        </td> <td>Diamond Princess</td> <td>Canada        </td> <td>2020-09-06 04:28:33</td> <td>nan     </td> <td>nan     </td> <td>0        </td> <td>1     </td> <td>0        </td> <td>nan   </td> <td>Diamond Princess, Canada   </td> <td>nan           </td> <td>nan                </td>\n",
              "        </tr>\n",
              "        <tr>\n",
              "            <td>nan  </td> <td>nan        </td> <td>Lima            </td> <td>Peru          </td> <td>2020-09-06 04:28:33</td> <td>-11.7665</td> <td>-76.6045</td> <td>318822   </td> <td>13167 </td> <td>0        </td> <td>305655</td> <td>Lima, Peru                 </td> <td>2999.69       </td> <td>4.12989            </td>\n",
              "        </tr>\n",
              "        <tr>\n",
              "            <td>nan  </td> <td>nan        </td> <td>England         </td> <td>United Kingdom</td> <td>2020-09-06 04:28:33</td> <td>52.3555 </td> <td>-1.1743 </td> <td>297071   </td> <td>36892 </td> <td>0        </td> <td>260179</td> <td>England, United Kingdom    </td> <td>530.7         </td> <td>12.4186            </td>\n",
              "        </tr>\n",
              "        <tr>\n",
              "            <td>6037 </td> <td>Los Angeles</td> <td>California      </td> <td>US            </td> <td>2020-09-06 04:28:33</td> <td>34.3083 </td> <td>-118.228</td> <td>247542   </td> <td>6000  </td> <td>0        </td> <td>241542</td> <td>Los Angeles, California, US</td> <td>2465.78       </td> <td>2.42383            </td>\n",
              "        </tr>\n",
              "        <tr>\n",
              "            <td>nan  </td> <td>nan        </td> <td>nan             </td> <td>France        </td> <td>2020-09-06 04:28:33</td> <td>46.2276 </td> <td>2.2137  </td> <td>329353   </td> <td>30575 </td> <td>73866    </td> <td>224912</td> <td>France                     </td> <td>504.574       </td> <td>9.28335            </td>\n",
              "        </tr>\n",
              "        <tr>\n",
              "            <td>nan  </td> <td>nan        </td> <td>Maharashtra     </td> <td>India         </td> <td>2020-09-06 04:28:33</td> <td>19.4498 </td> <td>76.1082 </td> <td>883862   </td> <td>26276 </td> <td>636574   </td> <td>221012</td> <td>Maharashtra, India         </td> <td>717.745       </td> <td>2.97286            </td>\n",
              "        </tr>\n",
              "        <tr>\n",
              "            <td>12086</td> <td>Miami-Dade </td> <td>Florida         </td> <td>US            </td> <td>2020-09-06 04:28:33</td> <td>25.6112 </td> <td>-80.5517</td> <td>161018   </td> <td>2650  </td> <td>0        </td> <td>158368</td> <td>Miami-Dade, Florida, US    </td> <td>5926.45       </td> <td>1.64578            </td>\n",
              "        </tr>\n",
              "        <tr>\n",
              "            <td>nan  </td> <td>nan        </td> <td>Sao Paulo       </td> <td>Brazil        </td> <td>2020-09-06 04:28:33</td> <td>-23.5505</td> <td>-46.6333</td> <td>853085   </td> <td>31313 </td> <td>680217   </td> <td>141555</td> <td>Sao Paulo, Brazil          </td> <td>1857.8        </td> <td>3.67056            </td>\n",
              "        </tr>\n",
              "    </tbody>\n",
              "</table>\n",
              "<p>... (3944 rows omitted)</p>"
            ],
            "text/plain": [
              "FIPS  | Admin2      | Province_State   | Country_Region | Last_Update         | Lat      | Long_    | Confirmed | Deaths | Recovered | Active | Combined_Key                | Incidence_Rate | Case-Fatality_Ratio\n",
              "90004 | Unassigned  | Arizona          | US             | 2020-09-06 04:28:33 | nan      | nan      | 1         | 1      | 0         | nan    | Unassigned, Arizona, US     | nan            | 100\n",
              "nan   | nan         | Unknown          | Chile          | 2020-09-06 04:28:33 | nan      | nan      | 54        | 1      | 54        | nan    | Unknown, Chile              | nan            | 1.85185\n",
              "nan   | nan         | Diamond Princess | Canada         | 2020-09-06 04:28:33 | nan      | nan      | 0         | 1      | 0         | nan    | Diamond Princess, Canada    | nan            | nan\n",
              "nan   | nan         | Lima             | Peru           | 2020-09-06 04:28:33 | -11.7665 | -76.6045 | 318822    | 13167  | 0         | 305655 | Lima, Peru                  | 2999.69        | 4.12989\n",
              "nan   | nan         | England          | United Kingdom | 2020-09-06 04:28:33 | 52.3555  | -1.1743  | 297071    | 36892  | 0         | 260179 | England, United Kingdom     | 530.7          | 12.4186\n",
              "6037  | Los Angeles | California       | US             | 2020-09-06 04:28:33 | 34.3083  | -118.228 | 247542    | 6000   | 0         | 241542 | Los Angeles, California, US | 2465.78        | 2.42383\n",
              "nan   | nan         | nan              | France         | 2020-09-06 04:28:33 | 46.2276  | 2.2137   | 329353    | 30575  | 73866     | 224912 | France                      | 504.574        | 9.28335\n",
              "nan   | nan         | Maharashtra      | India          | 2020-09-06 04:28:33 | 19.4498  | 76.1082  | 883862    | 26276  | 636574    | 221012 | Maharashtra, India          | 717.745        | 2.97286\n",
              "12086 | Miami-Dade  | Florida          | US             | 2020-09-06 04:28:33 | 25.6112  | -80.5517 | 161018    | 2650   | 0         | 158368 | Miami-Dade, Florida, US     | 5926.45        | 1.64578\n",
              "nan   | nan         | Sao Paulo        | Brazil         | 2020-09-06 04:28:33 | -23.5505 | -46.6333 | 853085    | 31313  | 680217    | 141555 | Sao Paulo, Brazil           | 1857.8         | 3.67056\n",
              "... (3944 rows omitted)"
            ]
          },
          "metadata": {
            "tags": []
          },
          "execution_count": 63
        }
      ]
    },
    {
      "cell_type": "code",
      "metadata": {
        "trusted": true,
        "id": "yTYHF85o_gZF",
        "colab_type": "code",
        "colab": {
          "base_uri": "https://localhost:8080/",
          "height": 34
        },
        "outputId": "5a4f31aa-5cb7-4ecf-b7fa-e85f453714d9"
      },
      "source": [
        "# How many countries have COVID-19\n",
        "countries = covid_19_data.column(\"Country_Region\")\n",
        "uniques = np.unique(countries, return_counts=False)\n",
        "uniques.size"
      ],
      "execution_count": null,
      "outputs": [
        {
          "output_type": "execute_result",
          "data": {
            "text/plain": [
              "188"
            ]
          },
          "metadata": {
            "tags": []
          },
          "execution_count": 72
        }
      ]
    },
    {
      "cell_type": "code",
      "metadata": {
        "trusted": true,
        "id": "I5qbhU48_gZM",
        "colab_type": "code",
        "colab": {
          "base_uri": "https://localhost:8080/",
          "height": 388
        },
        "outputId": "51e368b3-13e7-45c5-fa21-d54486baa745"
      },
      "source": [
        "# Group the COVID-19 data by the country\n",
        "covid19_grouped = covid_19_data.group(\"Country_Region\", sum).sort(\"Active sum\", True).select(\n",
        "    'Country_Region', 'Confirmed sum', 'Deaths sum', 'Recovered sum', \"Active sum\"\n",
        " ).relabeled('Confirmed sum', 'confirmed').relabeled('Deaths sum', 'deaths').relabeled('Recovered sum', 'recovered').relabeled('Active sum', 'active')\n",
        "covid19_grouped"
      ],
      "execution_count": null,
      "outputs": [
        {
          "output_type": "execute_result",
          "data": {
            "text/html": [
              "<table border=\"1\" class=\"dataframe\">\n",
              "    <thead>\n",
              "        <tr>\n",
              "            <th>Country_Region</th> <th>confirmed</th> <th>deaths</th> <th>recovered</th> <th>active</th>\n",
              "        </tr>\n",
              "    </thead>\n",
              "    <tbody>\n",
              "        <tr>\n",
              "            <td>US            </td> <td>6244970  </td> <td>188538</td> <td>2302187  </td> <td>nan   </td>\n",
              "        </tr>\n",
              "        <tr>\n",
              "            <td>Chile         </td> <td>420434   </td> <td>11551 </td> <td>392967   </td> <td>nan   </td>\n",
              "        </tr>\n",
              "        <tr>\n",
              "            <td>Canada        </td> <td>133511   </td> <td>9192  </td> <td>117968   </td> <td>nan   </td>\n",
              "        </tr>\n",
              "        <tr>\n",
              "            <td>India         </td> <td>4113811  </td> <td>70626 </td> <td>3180865  </td> <td>862320</td>\n",
              "        </tr>\n",
              "        <tr>\n",
              "            <td>Brazil        </td> <td>4123000  </td> <td>126203</td> <td>3498999  </td> <td>497798</td>\n",
              "        </tr>\n",
              "        <tr>\n",
              "            <td>Spain         </td> <td>498989   </td> <td>29418 </td> <td>150376   </td> <td>319195</td>\n",
              "        </tr>\n",
              "        <tr>\n",
              "            <td>United Kingdom</td> <td>346513   </td> <td>41638 </td> <td>1806     </td> <td>303069</td>\n",
              "        </tr>\n",
              "        <tr>\n",
              "            <td>France        </td> <td>347267   </td> <td>30730 </td> <td>87927    </td> <td>228610</td>\n",
              "        </tr>\n",
              "        <tr>\n",
              "            <td>Russia        </td> <td>1017131  </td> <td>17707 </td> <td>835884   </td> <td>163540</td>\n",
              "        </tr>\n",
              "        <tr>\n",
              "            <td>Peru          </td> <td>676848   </td> <td>29554 </td> <td>498523   </td> <td>148771</td>\n",
              "        </tr>\n",
              "    </tbody>\n",
              "</table>\n",
              "<p>... (178 rows omitted)</p>"
            ],
            "text/plain": [
              "Country_Region | confirmed | deaths | recovered | active\n",
              "US             | 6244970   | 188538 | 2302187   | nan\n",
              "Chile          | 420434    | 11551  | 392967    | nan\n",
              "Canada         | 133511    | 9192   | 117968    | nan\n",
              "India          | 4113811   | 70626  | 3180865   | 862320\n",
              "Brazil         | 4123000   | 126203 | 3498999   | 497798\n",
              "Spain          | 498989    | 29418  | 150376    | 319195\n",
              "United Kingdom | 346513    | 41638  | 1806      | 303069\n",
              "France         | 347267    | 30730  | 87927     | 228610\n",
              "Russia         | 1017131   | 17707  | 835884    | 163540\n",
              "Peru           | 676848    | 29554  | 498523    | 148771\n",
              "... (178 rows omitted)"
            ]
          },
          "metadata": {
            "tags": []
          },
          "execution_count": 65
        }
      ]
    },
    {
      "cell_type": "code",
      "metadata": {
        "trusted": true,
        "id": "8LIOVpu7_gZU",
        "colab_type": "code",
        "colab": {
          "base_uri": "https://localhost:8080/",
          "height": 388
        },
        "outputId": "c138be9d-768e-48eb-8e72-0419ceca5700"
      },
      "source": [
        "# Calculate and add the death rate\n",
        "data_rate_table = covid19_grouped.with_columns(\n",
        "    'date rate', covid19_grouped.column(\"deaths\")/covid19_grouped.column(\"confirmed\")\n",
        ")\n",
        "data_rate_table.set_format(\"date rate\", PercentFormatter)\n",
        "data_rate_table.sort(\"date rate\", descending=False)"
      ],
      "execution_count": null,
      "outputs": [
        {
          "output_type": "execute_result",
          "data": {
            "text/html": [
              "<table border=\"1\" class=\"dataframe\">\n",
              "    <thead>\n",
              "        <tr>\n",
              "            <th>Country_Region</th> <th>confirmed</th> <th>deaths</th> <th>recovered</th> <th>active</th> <th>date rate</th>\n",
              "        </tr>\n",
              "    </thead>\n",
              "    <tbody>\n",
              "        <tr>\n",
              "            <td>Bhutan                          </td> <td>228      </td> <td>0     </td> <td>150      </td> <td>78    </td> <td>0.00%    </td>\n",
              "        </tr>\n",
              "        <tr>\n",
              "            <td>Eritrea                         </td> <td>330      </td> <td>0     </td> <td>295      </td> <td>35    </td> <td>0.00%    </td>\n",
              "        </tr>\n",
              "        <tr>\n",
              "            <td>Mongolia                        </td> <td>310      </td> <td>0     </td> <td>296      </td> <td>14    </td> <td>0.00%    </td>\n",
              "        </tr>\n",
              "        <tr>\n",
              "            <td>Seychelles                      </td> <td>136      </td> <td>0     </td> <td>127      </td> <td>9     </td> <td>0.00%    </td>\n",
              "        </tr>\n",
              "        <tr>\n",
              "            <td>Dominica                        </td> <td>22       </td> <td>0     </td> <td>18       </td> <td>4     </td> <td>0.00%    </td>\n",
              "        </tr>\n",
              "        <tr>\n",
              "            <td>Saint Vincent and the Grenadines</td> <td>61       </td> <td>0     </td> <td>58       </td> <td>3     </td> <td>0.00%    </td>\n",
              "        </tr>\n",
              "        <tr>\n",
              "            <td>Timor-Leste                     </td> <td>27       </td> <td>0     </td> <td>25       </td> <td>2     </td> <td>0.00%    </td>\n",
              "        </tr>\n",
              "        <tr>\n",
              "            <td>Cambodia                        </td> <td>274      </td> <td>0     </td> <td>272      </td> <td>2     </td> <td>0.00%    </td>\n",
              "        </tr>\n",
              "        <tr>\n",
              "            <td>Laos                            </td> <td>22       </td> <td>0     </td> <td>21       </td> <td>1     </td> <td>0.00%    </td>\n",
              "        </tr>\n",
              "        <tr>\n",
              "            <td>Saint Lucia                     </td> <td>26       </td> <td>0     </td> <td>26       </td> <td>0     </td> <td>0.00%    </td>\n",
              "        </tr>\n",
              "    </tbody>\n",
              "</table>\n",
              "<p>... (178 rows omitted)</p>"
            ],
            "text/plain": [
              "Country_Region                   | confirmed | deaths | recovered | active | date rate\n",
              "Bhutan                           | 228       | 0      | 150       | 78     | 0.00%\n",
              "Eritrea                          | 330       | 0      | 295       | 35     | 0.00%\n",
              "Mongolia                         | 310       | 0      | 296       | 14     | 0.00%\n",
              "Seychelles                       | 136       | 0      | 127       | 9      | 0.00%\n",
              "Dominica                         | 22        | 0      | 18        | 4      | 0.00%\n",
              "Saint Vincent and the Grenadines | 61        | 0      | 58        | 3      | 0.00%\n",
              "Timor-Leste                      | 27        | 0      | 25        | 2      | 0.00%\n",
              "Cambodia                         | 274       | 0      | 272       | 2      | 0.00%\n",
              "Laos                             | 22        | 0      | 21        | 1      | 0.00%\n",
              "Saint Lucia                      | 26        | 0      | 26        | 0      | 0.00%\n",
              "... (178 rows omitted)"
            ]
          },
          "metadata": {
            "tags": []
          },
          "execution_count": 78
        }
      ]
    },
    {
      "cell_type": "code",
      "metadata": {
        "trusted": true,
        "id": "DpUqmClt_gZY",
        "colab_type": "code",
        "colab": {
          "base_uri": "https://localhost:8080/",
          "height": 388
        },
        "outputId": "12e7a8ff-3b31-4693-c713-e12853f73177"
      },
      "source": [
        "data_rate_table.sort(\"active\", True)"
      ],
      "execution_count": null,
      "outputs": [
        {
          "output_type": "execute_result",
          "data": {
            "text/html": [
              "<table border=\"1\" class=\"dataframe\">\n",
              "    <thead>\n",
              "        <tr>\n",
              "            <th>Country_Region</th> <th>confirmed</th> <th>deaths</th> <th>recovered</th> <th>active</th> <th>date rate</th>\n",
              "        </tr>\n",
              "    </thead>\n",
              "    <tbody>\n",
              "        <tr>\n",
              "            <td>Canada        </td> <td>133511   </td> <td>9192  </td> <td>117968   </td> <td>nan   </td> <td>6.88%    </td>\n",
              "        </tr>\n",
              "        <tr>\n",
              "            <td>Chile         </td> <td>420434   </td> <td>11551 </td> <td>392967   </td> <td>nan   </td> <td>2.75%    </td>\n",
              "        </tr>\n",
              "        <tr>\n",
              "            <td>US            </td> <td>6244970  </td> <td>188538</td> <td>2302187  </td> <td>nan   </td> <td>3.02%    </td>\n",
              "        </tr>\n",
              "        <tr>\n",
              "            <td>India         </td> <td>4113811  </td> <td>70626 </td> <td>3180865  </td> <td>862320</td> <td>1.72%    </td>\n",
              "        </tr>\n",
              "        <tr>\n",
              "            <td>Brazil        </td> <td>4123000  </td> <td>126203</td> <td>3498999  </td> <td>497798</td> <td>3.06%    </td>\n",
              "        </tr>\n",
              "        <tr>\n",
              "            <td>Spain         </td> <td>498989   </td> <td>29418 </td> <td>150376   </td> <td>319195</td> <td>5.90%    </td>\n",
              "        </tr>\n",
              "        <tr>\n",
              "            <td>United Kingdom</td> <td>346513   </td> <td>41638 </td> <td>1806     </td> <td>303069</td> <td>12.02%   </td>\n",
              "        </tr>\n",
              "        <tr>\n",
              "            <td>France        </td> <td>347267   </td> <td>30730 </td> <td>87927    </td> <td>228610</td> <td>8.85%    </td>\n",
              "        </tr>\n",
              "        <tr>\n",
              "            <td>Russia        </td> <td>1017131  </td> <td>17707 </td> <td>835884   </td> <td>163540</td> <td>1.74%    </td>\n",
              "        </tr>\n",
              "        <tr>\n",
              "            <td>Peru          </td> <td>676848   </td> <td>29554 </td> <td>498523   </td> <td>148771</td> <td>4.37%    </td>\n",
              "        </tr>\n",
              "    </tbody>\n",
              "</table>\n",
              "<p>... (178 rows omitted)</p>"
            ],
            "text/plain": [
              "Country_Region | confirmed | deaths | recovered | active | date rate\n",
              "Canada         | 133511    | 9192   | 117968    | nan    | 6.88%\n",
              "Chile          | 420434    | 11551  | 392967    | nan    | 2.75%\n",
              "US             | 6244970   | 188538 | 2302187   | nan    | 3.02%\n",
              "India          | 4113811   | 70626  | 3180865   | 862320 | 1.72%\n",
              "Brazil         | 4123000   | 126203 | 3498999   | 497798 | 3.06%\n",
              "Spain          | 498989    | 29418  | 150376    | 319195 | 5.90%\n",
              "United Kingdom | 346513    | 41638  | 1806      | 303069 | 12.02%\n",
              "France         | 347267    | 30730  | 87927     | 228610 | 8.85%\n",
              "Russia         | 1017131   | 17707  | 835884    | 163540 | 1.74%\n",
              "Peru           | 676848    | 29554  | 498523    | 148771 | 4.37%\n",
              "... (178 rows omitted)"
            ]
          },
          "metadata": {
            "tags": []
          },
          "execution_count": 80
        }
      ]
    },
    {
      "cell_type": "markdown",
      "metadata": {
        "id": "b0_H9BjL_gZd",
        "colab_type": "text"
      },
      "source": [
        "### Project summary\n",
        "Provide the number of active and confirmed cases"
      ]
    },
    {
      "cell_type": "code",
      "metadata": {
        "trusted": true,
        "id": "_XsL_Wi9_gZi",
        "colab_type": "code",
        "colab": {
          "base_uri": "https://localhost:8080/",
          "height": 34
        },
        "outputId": "156969b9-21fa-4dca-f397-45a3e77b1bca"
      },
      "source": [
        "# Total active cases\n",
        "active_cases = np.nan_to_num(data_rate_table.column(\"active\")).sum()\n",
        "\n",
        "# Total confirmed cases\n",
        "confirmed_cases = np.nan_to_num(data_rate_table.column(\"confirmed\")).sum()\n",
        "\n",
        "print(\"Active cases: %d, Confirmed cases: %d\" % (active_cases, confirmed_cases))"
      ],
      "execution_count": null,
      "outputs": [
        {
          "output_type": "stream",
          "text": [
            "Active cases: 4299683, Confirmed cases: 26873146\n"
          ],
          "name": "stdout"
        }
      ]
    },
    {
      "cell_type": "code",
      "metadata": {
        "trusted": true,
        "id": "aNmYSGgQ_gZm",
        "colab_type": "code",
        "colab": {}
      },
      "source": [
        ""
      ],
      "execution_count": null,
      "outputs": []
    }
  ]
}