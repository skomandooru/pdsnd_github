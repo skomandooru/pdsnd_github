{
  "nbformat": 4,
  "nbformat_minor": 0,
  "metadata": {
    "colab": {
      "name": "DS 200 Clearning Data.ipynb",
      "provenance": [],
      "collapsed_sections": [],
      "toc_visible": true,
      "include_colab_link": true
    },
    "kernelspec": {
      "name": "python3",
      "display_name": "Python 3"
    }
  },
  "cells": [
    {
      "cell_type": "markdown",
      "metadata": {
        "id": "view-in-github",
        "colab_type": "text"
      },
      "source": [
        "<a href=\"https://colab.research.google.com/github/skomandooru/pdsnd_github/blob/master/DS_200_Clearning_Data.ipynb\" target=\"_parent\"><img src=\"https://colab.research.google.com/assets/colab-badge.svg\" alt=\"Open In Colab\"/></a>"
      ]
    },
    {
      "cell_type": "markdown",
      "metadata": {
        "id": "5Z4NtfZZchf_"
      },
      "source": [
        "# Clearning Data (Extra Credits)\n",
        "\n",
        "In real world, the data we obtain is almost certainly imperfect. It might be missing values, have incorrect values, or in a format that is not immediately ready for processing. So we need to clean it and preprocess it to make it usable. \n",
        "\n",
        "The topic on cleaning data and preprocessing data is quite broad. It involves many methods and techiniques that are hard to include in one exercise. But I will cover how to do the most basic ones here. \n",
        "\n",
        "Below I will give several taks for you to finish. You will write a short snippet of code to complete the task to earn extra credits. The task are not hard and probably do not need more than 10 lines code to finish (for each of them). \n",
        "\n",
        "## Dealing with missing values\n",
        "\n",
        "Missing values are often seen. For example, the temperature for a specific date could be missing due to the lack of available data. Those values typically show up in the dataset as \"null\" or \"None\", etc. We can remove them, or treat them as zeros."
      ]
    },
    {
      "cell_type": "code",
      "metadata": {
        "id": "Ip0l1Uxphkva"
      },
      "source": [
        "# here is a list with two missing values\n",
        "l = [9, 1, None, 0, 23, None]"
      ],
      "execution_count": null,
      "outputs": []
    },
    {
      "cell_type": "markdown",
      "metadata": {
        "id": "DbysKCTYhxSM"
      },
      "source": [
        "- Please write code to remove the None values from the list (1 point)"
      ]
    },
    {
      "cell_type": "code",
      "metadata": {
        "id": "91auq4c8DhHC",
        "outputId": "2c6cfe44-1c28-41f9-e913-2fbf27e6d074",
        "colab": {
          "base_uri": "https://localhost:8080/",
          "height": 35
        }
      },
      "source": [
        "[x for x in l if x is not None]"
      ],
      "execution_count": null,
      "outputs": [
        {
          "output_type": "execute_result",
          "data": {
            "text/plain": [
              "[9, 1, 0, 23]"
            ]
          },
          "metadata": {
            "tags": []
          },
          "execution_count": 38
        }
      ]
    },
    {
      "cell_type": "markdown",
      "metadata": {
        "id": "ne3THaP9iRLu"
      },
      "source": [
        "- Please write code to convert the None values to 0 (1 point)"
      ]
    },
    {
      "cell_type": "code",
      "metadata": {
        "id": "p1ETLxoOw-mp",
        "outputId": "ff1981ad-d5d9-4665-f218-bd5d2c4be6c3",
        "colab": {
          "base_uri": "https://localhost:8080/",
          "height": 35
        }
      },
      "source": [
        "l = [9, 1, None, 0, 23, None]\n",
        "[0 if x is None else x for x in l]"
      ],
      "execution_count": null,
      "outputs": [
        {
          "output_type": "execute_result",
          "data": {
            "text/plain": [
              "[9, 1, 0, 0, 23, 0]"
            ]
          },
          "metadata": {
            "tags": []
          },
          "execution_count": 39
        }
      ]
    },
    {
      "cell_type": "markdown",
      "metadata": {
        "id": "j_rNaNBdhdWn"
      },
      "source": [
        "## Dealing with invalid values\n",
        "\n",
        "Invalid values are more annoying than missing values. It is often times not immediatly known to us that certain data is invalid. For example, when a list of data should be all integers, there are a string in it. If it is a string of integer, we can convert the string to its corrsponding values. However, if the string cannot be interpreted as an integer, then we have to remove it/convert it to 0."
      ]
    },
    {
      "cell_type": "code",
      "metadata": {
        "id": "uMieceBxjAl3"
      },
      "source": [
        "# here is an integer list with invalid values\n",
        "l2 = [10, \"lol\", None, 1, 1312]"
      ],
      "execution_count": null,
      "outputs": []
    },
    {
      "cell_type": "markdown",
      "metadata": {
        "id": "hv0oqtUSjVi2"
      },
      "source": [
        "- Please write code to remove invalid values from the list (1 point)"
      ]
    },
    {
      "cell_type": "code",
      "metadata": {
        "id": "VhRvkMZvJlP-",
        "outputId": "9f459ad3-0a37-455d-9c9e-861c1af355ac",
        "colab": {
          "base_uri": "https://localhost:8080/",
          "height": 35
        }
      },
      "source": [
        "[x for x in l2 if x is not str]"
      ],
      "execution_count": null,
      "outputs": [
        {
          "output_type": "execute_result",
          "data": {
            "text/plain": [
              "[10, None, 1, 1312]"
            ]
          },
          "metadata": {
            "tags": []
          },
          "execution_count": 55
        }
      ]
    },
    {
      "cell_type": "markdown",
      "metadata": {
        "id": "t9pbmDmSi-oX"
      },
      "source": [
        "## Converting/fixing values\n",
        "\n",
        "Sometimes the data is good, but it is not in the best format. Think of how many ways can we represent a data. In many cases we need to fix the data before we can use it. Here are two tasks for you to practice:"
      ]
    },
    {
      "cell_type": "code",
      "metadata": {
        "id": "348qHiZUkGzA"
      },
      "source": [
        "s = '08/23/2015'"
      ],
      "execution_count": null,
      "outputs": []
    },
    {
      "cell_type": "markdown",
      "metadata": {
        "id": "yiQa0np6khXN"
      },
      "source": [
        "string s is a date, write your code to get the year, month, and date in it\n",
        "You should get them as integers, instead of strings (1 point)"
      ]
    },
    {
      "cell_type": "code",
      "metadata": {
        "id": "SpMEYsYMS7XI",
        "outputId": "c5525959-4662-43f4-ef0f-66427a4b80e2",
        "colab": {
          "base_uri": "https://localhost:8080/",
          "height": 35
        }
      },
      "source": [
        "date = s.replace('/' , '-')\n",
        "date"
      ],
      "execution_count": null,
      "outputs": [
        {
          "output_type": "execute_result",
          "data": {
            "application/vnd.google.colaboratory.intrinsic+json": {
              "type": "string"
            },
            "text/plain": [
              "'08-23-2015'"
            ]
          },
          "metadata": {
            "tags": []
          },
          "execution_count": 130
        }
      ]
    },
    {
      "cell_type": "code",
      "metadata": {
        "id": "JwIuVfAzU7Hn"
      },
      "source": [
        "from datetime import datetime"
      ],
      "execution_count": null,
      "outputs": []
    },
    {
      "cell_type": "code",
      "metadata": {
        "id": "CkRhFulkR44a",
        "outputId": "e1b753a5-6f30-4c40-91b0-0d9466edecaa",
        "colab": {
          "base_uri": "https://localhost:8080/",
          "height": 35
        }
      },
      "source": [
        "date_modify = datetime.strptime(date, \"%m-%d-%Y\")\n",
        "date_modify"
      ],
      "execution_count": null,
      "outputs": [
        {
          "output_type": "execute_result",
          "data": {
            "text/plain": [
              "datetime.datetime(2015, 8, 23, 0, 0)"
            ]
          },
          "metadata": {
            "tags": []
          },
          "execution_count": 147
        }
      ]
    },
    {
      "cell_type": "code",
      "metadata": {
        "id": "bakxbfA8VTRe",
        "outputId": "2cdf133b-f19f-412c-f38f-98352d594f9d",
        "colab": {
          "base_uri": "https://localhost:8080/",
          "height": 35
        }
      },
      "source": [
        "date_modify.year"
      ],
      "execution_count": null,
      "outputs": [
        {
          "output_type": "execute_result",
          "data": {
            "text/plain": [
              "2015"
            ]
          },
          "metadata": {
            "tags": []
          },
          "execution_count": 148
        }
      ]
    },
    {
      "cell_type": "code",
      "metadata": {
        "id": "Alu45Wx4VW7v",
        "outputId": "a9008b68-7c1f-4cfb-94d1-62ba4fc259c8",
        "colab": {
          "base_uri": "https://localhost:8080/",
          "height": 35
        }
      },
      "source": [
        "date_modify.month"
      ],
      "execution_count": null,
      "outputs": [
        {
          "output_type": "execute_result",
          "data": {
            "text/plain": [
              "8"
            ]
          },
          "metadata": {
            "tags": []
          },
          "execution_count": 150
        }
      ]
    },
    {
      "cell_type": "code",
      "metadata": {
        "id": "a2tmgI2CVZBu",
        "outputId": "55f1e4c2-26ff-4bbc-9cb6-74f9a63c96e0",
        "colab": {
          "base_uri": "https://localhost:8080/",
          "height": 35
        }
      },
      "source": [
        "date_modify.day"
      ],
      "execution_count": null,
      "outputs": [
        {
          "output_type": "execute_result",
          "data": {
            "text/plain": [
              "23"
            ]
          },
          "metadata": {
            "tags": []
          },
          "execution_count": 153
        }
      ]
    },
    {
      "cell_type": "code",
      "metadata": {
        "id": "32ERa13WkhCB"
      },
      "source": [
        "val = '123,456'"
      ],
      "execution_count": null,
      "outputs": []
    },
    {
      "cell_type": "markdown",
      "metadata": {
        "id": "F09jYTLqknKP"
      },
      "source": [
        "string `val` is an integer, but it has comma in it. Write code to remove the comma, and parse its value into an integer (1 point)"
      ]
    },
    {
      "cell_type": "code",
      "metadata": {
        "id": "Y2hK8ZHgRFlS",
        "outputId": "e8622608-66a2-402c-da5d-abdb8f853d25",
        "colab": {
          "base_uri": "https://localhost:8080/",
          "height": 35
        }
      },
      "source": [
        "val = '123,456'\n",
        "int(val.replace(',' , ''))"
      ],
      "execution_count": null,
      "outputs": [
        {
          "output_type": "execute_result",
          "data": {
            "text/plain": [
              "123456"
            ]
          },
          "metadata": {
            "tags": []
          },
          "execution_count": 93
        }
      ]
    }
  ]
}