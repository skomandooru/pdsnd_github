{
  "nbformat": 4,
  "nbformat_minor": 0,
  "metadata": {
    "colab": {
      "name": "Lab 1: Salaries",
      "provenance": [],
      "collapsed_sections": [],
      "toc_visible": true,
      "include_colab_link": true
    },
    "kernelspec": {
      "display_name": "Python 3",
      "name": "python3"
    }
  },
  "cells": [
    {
      "cell_type": "markdown",
      "metadata": {
        "id": "view-in-github",
        "colab_type": "text"
      },
      "source": [
        "<a href=\"https://colab.research.google.com/github/skomandooru/pdsnd_github/blob/master/DS%20200%20Komandooru%20Lab%201%20Salaries.ipynb\" target=\"_parent\"><img src=\"https://colab.research.google.com/assets/colab-badge.svg\" alt=\"Open In Colab\"/></a>"
      ]
    },
    {
      "cell_type": "markdown",
      "metadata": {
        "id": "igX3StOmC16u",
        "colab_type": "text"
      },
      "source": [
        "#Lab 1: Salaries\n",
        "## Problem Solving Champions\n",
        "\n",
        "My name is Surya Komandooru \\\n",
        "My partner name is Donggeon Lee \\\n",
        "This is the file for Lab #1: Salaries"
      ]
    },
    {
      "cell_type": "code",
      "metadata": {
        "id": "FtAjTfTd9Lm2",
        "colab_type": "code",
        "colab": {
          "base_uri": "https://localhost:8080/",
          "height": 802
        },
        "outputId": "b30e8e4e-e887-453c-c9b8-950913d56071"
      },
      "source": [
        "!pip install datascience"
      ],
      "execution_count": null,
      "outputs": [
        {
          "output_type": "stream",
          "text": [
            "Requirement already satisfied: datascience in /usr/local/lib/python3.6/dist-packages (0.10.6)\n",
            "Requirement already satisfied: setuptools in /usr/local/lib/python3.6/dist-packages (from datascience) (49.6.0)\n",
            "Requirement already satisfied: sphinx in /usr/local/lib/python3.6/dist-packages (from datascience) (1.8.5)\n",
            "Requirement already satisfied: coverage==3.7.1 in /usr/local/lib/python3.6/dist-packages (from datascience) (3.7.1)\n",
            "Requirement already satisfied: pytest in /usr/local/lib/python3.6/dist-packages (from datascience) (3.6.4)\n",
            "Requirement already satisfied: coveralls==0.5 in /usr/local/lib/python3.6/dist-packages (from datascience) (0.5)\n",
            "Collecting folium==0.2.1\n",
            "\u001b[?25l  Downloading https://files.pythonhosted.org/packages/72/dd/75ced7437bfa7cb9a88b96ee0177953062803c3b4cde411a97d98c35adaf/folium-0.2.1.tar.gz (69kB)\n",
            "\u001b[K     |████████████████████████████████| 71kB 2.9MB/s \n",
            "\u001b[?25hRequirement already satisfied: alabaster<0.8,>=0.7 in /usr/local/lib/python3.6/dist-packages (from sphinx->datascience) (0.7.12)\n",
            "Requirement already satisfied: packaging in /usr/local/lib/python3.6/dist-packages (from sphinx->datascience) (20.4)\n",
            "Requirement already satisfied: Pygments>=2.0 in /usr/local/lib/python3.6/dist-packages (from sphinx->datascience) (2.1.3)\n",
            "Requirement already satisfied: snowballstemmer>=1.1 in /usr/local/lib/python3.6/dist-packages (from sphinx->datascience) (2.0.0)\n",
            "Requirement already satisfied: six>=1.5 in /usr/local/lib/python3.6/dist-packages (from sphinx->datascience) (1.15.0)\n",
            "Requirement already satisfied: babel!=2.0,>=1.3 in /usr/local/lib/python3.6/dist-packages (from sphinx->datascience) (2.8.0)\n",
            "Requirement already satisfied: requests>=2.0.0 in /usr/local/lib/python3.6/dist-packages (from sphinx->datascience) (2.23.0)\n",
            "Requirement already satisfied: sphinxcontrib-websupport in /usr/local/lib/python3.6/dist-packages (from sphinx->datascience) (1.2.4)\n",
            "Requirement already satisfied: imagesize in /usr/local/lib/python3.6/dist-packages (from sphinx->datascience) (1.2.0)\n",
            "Requirement already satisfied: Jinja2>=2.3 in /usr/local/lib/python3.6/dist-packages (from sphinx->datascience) (2.11.2)\n",
            "Requirement already satisfied: docutils>=0.11 in /usr/local/lib/python3.6/dist-packages (from sphinx->datascience) (0.15.2)\n",
            "Requirement already satisfied: py>=1.5.0 in /usr/local/lib/python3.6/dist-packages (from pytest->datascience) (1.9.0)\n",
            "Requirement already satisfied: attrs>=17.4.0 in /usr/local/lib/python3.6/dist-packages (from pytest->datascience) (20.1.0)\n",
            "Requirement already satisfied: atomicwrites>=1.0 in /usr/local/lib/python3.6/dist-packages (from pytest->datascience) (1.4.0)\n",
            "Requirement already satisfied: more-itertools>=4.0.0 in /usr/local/lib/python3.6/dist-packages (from pytest->datascience) (8.4.0)\n",
            "Requirement already satisfied: pluggy<0.8,>=0.5 in /usr/local/lib/python3.6/dist-packages (from pytest->datascience) (0.7.1)\n",
            "Requirement already satisfied: docopt>=0.6.1 in /usr/local/lib/python3.6/dist-packages (from coveralls==0.5->datascience) (0.6.2)\n",
            "Requirement already satisfied: PyYAML>=3.10 in /usr/local/lib/python3.6/dist-packages (from coveralls==0.5->datascience) (3.13)\n",
            "Requirement already satisfied: pyparsing>=2.0.2 in /usr/local/lib/python3.6/dist-packages (from packaging->sphinx->datascience) (2.4.7)\n",
            "Requirement already satisfied: pytz>=2015.7 in /usr/local/lib/python3.6/dist-packages (from babel!=2.0,>=1.3->sphinx->datascience) (2018.9)\n",
            "Requirement already satisfied: certifi>=2017.4.17 in /usr/local/lib/python3.6/dist-packages (from requests>=2.0.0->sphinx->datascience) (2020.6.20)\n",
            "Requirement already satisfied: urllib3!=1.25.0,!=1.25.1,<1.26,>=1.21.1 in /usr/local/lib/python3.6/dist-packages (from requests>=2.0.0->sphinx->datascience) (1.24.3)\n",
            "Requirement already satisfied: idna<3,>=2.5 in /usr/local/lib/python3.6/dist-packages (from requests>=2.0.0->sphinx->datascience) (2.10)\n",
            "Requirement already satisfied: chardet<4,>=3.0.2 in /usr/local/lib/python3.6/dist-packages (from requests>=2.0.0->sphinx->datascience) (3.0.4)\n",
            "Requirement already satisfied: sphinxcontrib-serializinghtml in /usr/local/lib/python3.6/dist-packages (from sphinxcontrib-websupport->sphinx->datascience) (1.1.4)\n",
            "Requirement already satisfied: MarkupSafe>=0.23 in /usr/local/lib/python3.6/dist-packages (from Jinja2>=2.3->sphinx->datascience) (1.1.1)\n",
            "Building wheels for collected packages: folium\n",
            "  Building wheel for folium (setup.py) ... \u001b[?25l\u001b[?25hdone\n",
            "  Created wheel for folium: filename=folium-0.2.1-cp36-none-any.whl size=79980 sha256=64e7d7df39f8fad12e20c35658ffdccb30866319180709ed77027f0f4fb88fcb\n",
            "  Stored in directory: /root/.cache/pip/wheels/b8/09/f0/52d2ef419c2aaf4fb149f92a33e0008bdce7ae816f0dd8f0c5\n",
            "Successfully built folium\n",
            "Installing collected packages: folium\n",
            "  Found existing installation: folium 0.8.3\n",
            "    Uninstalling folium-0.8.3:\n",
            "      Successfully uninstalled folium-0.8.3\n",
            "Successfully installed folium-0.2.1\n"
          ],
          "name": "stdout"
        }
      ]
    },
    {
      "cell_type": "code",
      "metadata": {
        "id": "EkSENWV3_g_r",
        "colab_type": "code",
        "colab": {
          "base_uri": "https://localhost:8080/",
          "height": 105
        },
        "outputId": "92fd8ae3-2305-4878-b003-b84d63f26974"
      },
      "source": [
        "from datascience import *"
      ],
      "execution_count": null,
      "outputs": [
        {
          "output_type": "stream",
          "text": [
            "/usr/local/lib/python3.6/dist-packages/datascience/tables.py:17: MatplotlibDeprecationWarning: The 'warn' parameter of use() is deprecated since Matplotlib 3.1 and will be removed in 3.3.  If any parameter follows 'warn', they should be pass as keyword, not positionally.\n",
            "  matplotlib.use('agg', warn=False)\n",
            "/usr/local/lib/python3.6/dist-packages/datascience/util.py:10: MatplotlibDeprecationWarning: The 'warn' parameter of use() is deprecated since Matplotlib 3.1 and will be removed in 3.3.  If any parameter follows 'warn', they should be pass as keyword, not positionally.\n",
            "  matplotlib.use('agg', warn=False)\n"
          ],
          "name": "stderr"
        }
      ]
    },
    {
      "cell_type": "code",
      "metadata": {
        "id": "VUULEqcE_msC",
        "colab_type": "code",
        "colab": {
          "base_uri": "https://localhost:8080/",
          "height": 34
        },
        "outputId": "f7384f95-74b0-433d-a40b-24fe95d27280"
      },
      "source": [
        "!ls"
      ],
      "execution_count": null,
      "outputs": [
        {
          "output_type": "stream",
          "text": [
            "sample_data\n"
          ],
          "name": "stdout"
        }
      ]
    },
    {
      "cell_type": "code",
      "metadata": {
        "id": "0F5S8t2kAToq",
        "colab_type": "code",
        "colab": {
          "base_uri": "https://localhost:8080/",
          "height": 122
        },
        "outputId": "a16af68d-0ddc-4497-8078-3abef9dbe22d"
      },
      "source": [
        "from google.colab import drive\n",
        "drive.mount('/content/drive/')"
      ],
      "execution_count": null,
      "outputs": [
        {
          "output_type": "stream",
          "text": [
            "Go to this URL in a browser: https://accounts.google.com/o/oauth2/auth?client_id=947318989803-6bn6qk8qdgf4n4g3pfee6491hc0brc4i.apps.googleusercontent.com&redirect_uri=urn%3aietf%3awg%3aoauth%3a2.0%3aoob&scope=email%20https%3a%2f%2fwww.googleapis.com%2fauth%2fdocs.test%20https%3a%2f%2fwww.googleapis.com%2fauth%2fdrive%20https%3a%2f%2fwww.googleapis.com%2fauth%2fdrive.photos.readonly%20https%3a%2f%2fwww.googleapis.com%2fauth%2fpeopleapi.readonly&response_type=code\n",
            "\n",
            "Enter your authorization code:\n",
            "··········\n",
            "Mounted at /content/drive/\n"
          ],
          "name": "stdout"
        }
      ]
    },
    {
      "cell_type": "code",
      "metadata": {
        "id": "ChnXiObaA0ub",
        "colab_type": "code",
        "colab": {
          "base_uri": "https://localhost:8080/",
          "height": 34
        },
        "outputId": "cf202ea7-411b-45f6-b220-942a41e14876"
      },
      "source": [
        "!ls"
      ],
      "execution_count": null,
      "outputs": [
        {
          "output_type": "stream",
          "text": [
            "drive  sample_data\n"
          ],
          "name": "stdout"
        }
      ]
    },
    {
      "cell_type": "code",
      "metadata": {
        "id": "vcuQj6zLA3rM",
        "colab_type": "code",
        "colab": {
          "base_uri": "https://localhost:8080/",
          "height": 34
        },
        "outputId": "cbff7832-0a76-474c-a676-d6b768eb288e"
      },
      "source": [
        "!ls drive"
      ],
      "execution_count": null,
      "outputs": [
        {
          "output_type": "stream",
          "text": [
            "'My Drive'\n"
          ],
          "name": "stdout"
        }
      ]
    },
    {
      "cell_type": "code",
      "metadata": {
        "id": "54hveKa2A5jT",
        "colab_type": "code",
        "colab": {
          "base_uri": "https://localhost:8080/",
          "height": 34
        },
        "outputId": "267c6bfd-cbb9-4e34-a86f-6436ee288312"
      },
      "source": [
        "!ls drive/'My Drive'"
      ],
      "execution_count": null,
      "outputs": [
        {
          "output_type": "stream",
          "text": [
            "'Colab Notebooks'   DSL\n"
          ],
          "name": "stdout"
        }
      ]
    },
    {
      "cell_type": "code",
      "metadata": {
        "id": "NRiZiP-UA-bx",
        "colab_type": "code",
        "colab": {
          "base_uri": "https://localhost:8080/",
          "height": 34
        },
        "outputId": "e083c6b8-9d3c-4389-e1c0-bff1444e51fe"
      },
      "source": [
        "!ls drive/'My Drive'/DSL"
      ],
      "execution_count": null,
      "outputs": [
        {
          "output_type": "stream",
          "text": [
            "IMDB5000movies.csv  SFSalaries2011_2014.csv  SFSalaries2011_2014.gsheet\n"
          ],
          "name": "stdout"
        }
      ]
    },
    {
      "cell_type": "code",
      "metadata": {
        "id": "j9t89C0FBGtH",
        "colab_type": "code",
        "colab": {}
      },
      "source": [
        "path=\"/content/drive/My Drive/DSL/SFSalaries2011_2014.csv\""
      ],
      "execution_count": null,
      "outputs": []
    },
    {
      "cell_type": "code",
      "metadata": {
        "id": "nqdO9HyfBWzd",
        "colab_type": "code",
        "colab": {
          "base_uri": "https://localhost:8080/",
          "height": 35
        },
        "outputId": "7d15c29e-9ac7-4be0-fcae-c638d0bd9f7c"
      },
      "source": [
        "path"
      ],
      "execution_count": null,
      "outputs": [
        {
          "output_type": "execute_result",
          "data": {
            "application/vnd.google.colaboratory.intrinsic+json": {
              "type": "string"
            },
            "text/plain": [
              "'/content/drive/My Drive/DSL/SFSalaries2011_2014.csv'"
            ]
          },
          "metadata": {
            "tags": []
          },
          "execution_count": 12
        }
      ]
    },
    {
      "cell_type": "code",
      "metadata": {
        "id": "2ubtp24cBY1l",
        "colab_type": "code",
        "colab": {
          "base_uri": "https://localhost:8080/",
          "height": 71
        },
        "outputId": "3b6f99a5-8102-4e5e-e145-f58405c86df6"
      },
      "source": [
        "Salarydata=Table.read_table(path)"
      ],
      "execution_count": null,
      "outputs": [
        {
          "output_type": "stream",
          "text": [
            "/usr/local/lib/python3.6/dist-packages/IPython/core/interactiveshell.py:2822: DtypeWarning: Columns (3,4,5,6,12) have mixed types.Specify dtype option on import or set low_memory=False.\n",
            "  if self.run_code(code, result):\n"
          ],
          "name": "stderr"
        }
      ]
    },
    {
      "cell_type": "code",
      "metadata": {
        "id": "ihPm7GCqBd_E",
        "colab_type": "code",
        "colab": {
          "base_uri": "https://localhost:8080/",
          "height": 850
        },
        "outputId": "a47acdc8-2eea-41da-df54-007258ec2bf4"
      },
      "source": [
        "Salarydata"
      ],
      "execution_count": null,
      "outputs": [
        {
          "output_type": "execute_result",
          "data": {
            "text/html": [
              "<table border=\"1\" class=\"dataframe\">\n",
              "    <thead>\n",
              "        <tr>\n",
              "            <th>Id</th> <th>EmployeeName</th> <th>JobTitle</th> <th>BasePay</th> <th>OvertimePay</th> <th>OtherPay</th> <th>Benefits</th> <th>TotalPay</th> <th>TotalPayBenefits</th> <th>Year</th> <th>Notes</th> <th>Agency</th> <th>Status</th>\n",
              "        </tr>\n",
              "    </thead>\n",
              "    <tbody>\n",
              "        <tr>\n",
              "            <td>1   </td> <td>NATHANIEL FORD    </td> <td>GENERAL MANAGER-METROPOLITAN TRANSIT AUTHORITY</td> <td>167411.18</td> <td>0.0        </td> <td>400184.25</td> <td>nan     </td> <td>567595  </td> <td>567595          </td> <td>2011</td> <td>nan  </td> <td>San Francisco</td> <td>nan   </td>\n",
              "        </tr>\n",
              "        <tr>\n",
              "            <td>2   </td> <td>GARY JIMENEZ      </td> <td>CAPTAIN III (POLICE DEPARTMENT)               </td> <td>155966.02</td> <td>245131.88  </td> <td>137811.38</td> <td>nan     </td> <td>538909  </td> <td>538909          </td> <td>2011</td> <td>nan  </td> <td>San Francisco</td> <td>nan   </td>\n",
              "        </tr>\n",
              "        <tr>\n",
              "            <td>3   </td> <td>ALBERT PARDINI    </td> <td>CAPTAIN III (POLICE DEPARTMENT)               </td> <td>212739.13</td> <td>106088.18  </td> <td>16452.6  </td> <td>nan     </td> <td>335280  </td> <td>335280          </td> <td>2011</td> <td>nan  </td> <td>San Francisco</td> <td>nan   </td>\n",
              "        </tr>\n",
              "        <tr>\n",
              "            <td>4   </td> <td>CHRISTOPHER CHONG </td> <td>WIRE ROPE CABLE MAINTENANCE MECHANIC          </td> <td>77916.0  </td> <td>56120.71   </td> <td>198306.9 </td> <td>nan     </td> <td>332344  </td> <td>332344          </td> <td>2011</td> <td>nan  </td> <td>San Francisco</td> <td>nan   </td>\n",
              "        </tr>\n",
              "        <tr>\n",
              "            <td>5   </td> <td>PATRICK GARDNER   </td> <td>DEPUTY CHIEF OF DEPARTMENT,(FIRE DEPARTMENT)  </td> <td>134401.6 </td> <td>9737.0     </td> <td>182234.59</td> <td>nan     </td> <td>326373  </td> <td>326373          </td> <td>2011</td> <td>nan  </td> <td>San Francisco</td> <td>nan   </td>\n",
              "        </tr>\n",
              "        <tr>\n",
              "            <td>6   </td> <td>DAVID SULLIVAN    </td> <td>ASSISTANT DEPUTY CHIEF II                     </td> <td>118602.0 </td> <td>8601.0     </td> <td>189082.74</td> <td>nan     </td> <td>316286  </td> <td>316286          </td> <td>2011</td> <td>nan  </td> <td>San Francisco</td> <td>nan   </td>\n",
              "        </tr>\n",
              "        <tr>\n",
              "            <td>7   </td> <td>ALSON LEE         </td> <td>BATTALION CHIEF, (FIRE DEPARTMENT)            </td> <td>92492.01 </td> <td>89062.9    </td> <td>134426.14</td> <td>nan     </td> <td>315981  </td> <td>315981          </td> <td>2011</td> <td>nan  </td> <td>San Francisco</td> <td>nan   </td>\n",
              "        </tr>\n",
              "        <tr>\n",
              "            <td>8   </td> <td>DAVID KUSHNER     </td> <td>DEPUTY DIRECTOR OF INVESTMENTS                </td> <td>256576.96</td> <td>0.0        </td> <td>51322.5  </td> <td>nan     </td> <td>307899  </td> <td>307899          </td> <td>2011</td> <td>nan  </td> <td>San Francisco</td> <td>nan   </td>\n",
              "        </tr>\n",
              "        <tr>\n",
              "            <td>9   </td> <td>MICHAEL MORRIS    </td> <td>BATTALION CHIEF, (FIRE DEPARTMENT)            </td> <td>176932.64</td> <td>86362.68   </td> <td>40132.23 </td> <td>nan     </td> <td>303428  </td> <td>303428          </td> <td>2011</td> <td>nan  </td> <td>San Francisco</td> <td>nan   </td>\n",
              "        </tr>\n",
              "        <tr>\n",
              "            <td>10  </td> <td>JOANNE HAYES-WHITE</td> <td>CHIEF OF DEPARTMENT, (FIRE DEPARTMENT)        </td> <td>285262.0 </td> <td>0.0        </td> <td>17115.73 </td> <td>nan     </td> <td>302378  </td> <td>302378          </td> <td>2011</td> <td>nan  </td> <td>San Francisco</td> <td>nan   </td>\n",
              "        </tr>\n",
              "    </tbody>\n",
              "</table>\n",
              "<p>... (148644 rows omitted)</p>"
            ],
            "text/plain": [
              "Id   | EmployeeName       | JobTitle                                       | BasePay   | OvertimePay | OtherPay  | Benefits | TotalPay | TotalPayBenefits | Year | Notes | Agency        | Status\n",
              "1    | NATHANIEL FORD     | GENERAL MANAGER-METROPOLITAN TRANSIT AUTHORITY | 167411.18 | 0.0         | 400184.25 | nan      | 567595   | 567595           | 2011 | nan   | San Francisco | nan\n",
              "2    | GARY JIMENEZ       | CAPTAIN III (POLICE DEPARTMENT)                | 155966.02 | 245131.88   | 137811.38 | nan      | 538909   | 538909           | 2011 | nan   | San Francisco | nan\n",
              "3    | ALBERT PARDINI     | CAPTAIN III (POLICE DEPARTMENT)                | 212739.13 | 106088.18   | 16452.6   | nan      | 335280   | 335280           | 2011 | nan   | San Francisco | nan\n",
              "4    | CHRISTOPHER CHONG  | WIRE ROPE CABLE MAINTENANCE MECHANIC           | 77916.0   | 56120.71    | 198306.9  | nan      | 332344   | 332344           | 2011 | nan   | San Francisco | nan\n",
              "5    | PATRICK GARDNER    | DEPUTY CHIEF OF DEPARTMENT,(FIRE DEPARTMENT)   | 134401.6  | 9737.0      | 182234.59 | nan      | 326373   | 326373           | 2011 | nan   | San Francisco | nan\n",
              "6    | DAVID SULLIVAN     | ASSISTANT DEPUTY CHIEF II                      | 118602.0  | 8601.0      | 189082.74 | nan      | 316286   | 316286           | 2011 | nan   | San Francisco | nan\n",
              "7    | ALSON LEE          | BATTALION CHIEF, (FIRE DEPARTMENT)             | 92492.01  | 89062.9     | 134426.14 | nan      | 315981   | 315981           | 2011 | nan   | San Francisco | nan\n",
              "8    | DAVID KUSHNER      | DEPUTY DIRECTOR OF INVESTMENTS                 | 256576.96 | 0.0         | 51322.5   | nan      | 307899   | 307899           | 2011 | nan   | San Francisco | nan\n",
              "9    | MICHAEL MORRIS     | BATTALION CHIEF, (FIRE DEPARTMENT)             | 176932.64 | 86362.68    | 40132.23  | nan      | 303428   | 303428           | 2011 | nan   | San Francisco | nan\n",
              "10   | JOANNE HAYES-WHITE | CHIEF OF DEPARTMENT, (FIRE DEPARTMENT)         | 285262.0  | 0.0         | 17115.73  | nan      | 302378   | 302378           | 2011 | nan   | San Francisco | nan\n",
              "... (148644 rows omitted)"
            ]
          },
          "metadata": {
            "tags": []
          },
          "execution_count": 14
        }
      ]
    },
    {
      "cell_type": "code",
      "metadata": {
        "id": "XMAi1MU2Bhry",
        "colab_type": "code",
        "colab": {
          "base_uri": "https://localhost:8080/",
          "height": 34
        },
        "outputId": "6cd3346b-1a82-4f17-cdd4-7e72b1e30ac8"
      },
      "source": [
        "type(Salarydata)"
      ],
      "execution_count": null,
      "outputs": [
        {
          "output_type": "execute_result",
          "data": {
            "text/plain": [
              "datascience.tables.Table"
            ]
          },
          "metadata": {
            "tags": []
          },
          "execution_count": 15
        }
      ]
    },
    {
      "cell_type": "code",
      "metadata": {
        "id": "CcRd7jzkBlFA",
        "colab_type": "code",
        "colab": {
          "base_uri": "https://localhost:8080/",
          "height": 850
        },
        "outputId": "ae49b44f-23f8-40b3-e205-cb9bf34b3ae1"
      },
      "source": [
        "Salarydata.show(10)"
      ],
      "execution_count": null,
      "outputs": [
        {
          "output_type": "display_data",
          "data": {
            "text/html": [
              "<table border=\"1\" class=\"dataframe\">\n",
              "    <thead>\n",
              "        <tr>\n",
              "            <th>Id</th> <th>EmployeeName</th> <th>JobTitle</th> <th>BasePay</th> <th>OvertimePay</th> <th>OtherPay</th> <th>Benefits</th> <th>TotalPay</th> <th>TotalPayBenefits</th> <th>Year</th> <th>Notes</th> <th>Agency</th> <th>Status</th>\n",
              "        </tr>\n",
              "    </thead>\n",
              "    <tbody>\n",
              "        <tr>\n",
              "            <td>1   </td> <td>NATHANIEL FORD    </td> <td>GENERAL MANAGER-METROPOLITAN TRANSIT AUTHORITY</td> <td>167411.18</td> <td>0.0        </td> <td>400184.25</td> <td>nan     </td> <td>567595  </td> <td>567595          </td> <td>2011</td> <td>nan  </td> <td>San Francisco</td> <td>nan   </td>\n",
              "        </tr>\n",
              "        <tr>\n",
              "            <td>2   </td> <td>GARY JIMENEZ      </td> <td>CAPTAIN III (POLICE DEPARTMENT)               </td> <td>155966.02</td> <td>245131.88  </td> <td>137811.38</td> <td>nan     </td> <td>538909  </td> <td>538909          </td> <td>2011</td> <td>nan  </td> <td>San Francisco</td> <td>nan   </td>\n",
              "        </tr>\n",
              "        <tr>\n",
              "            <td>3   </td> <td>ALBERT PARDINI    </td> <td>CAPTAIN III (POLICE DEPARTMENT)               </td> <td>212739.13</td> <td>106088.18  </td> <td>16452.6  </td> <td>nan     </td> <td>335280  </td> <td>335280          </td> <td>2011</td> <td>nan  </td> <td>San Francisco</td> <td>nan   </td>\n",
              "        </tr>\n",
              "        <tr>\n",
              "            <td>4   </td> <td>CHRISTOPHER CHONG </td> <td>WIRE ROPE CABLE MAINTENANCE MECHANIC          </td> <td>77916.0  </td> <td>56120.71   </td> <td>198306.9 </td> <td>nan     </td> <td>332344  </td> <td>332344          </td> <td>2011</td> <td>nan  </td> <td>San Francisco</td> <td>nan   </td>\n",
              "        </tr>\n",
              "        <tr>\n",
              "            <td>5   </td> <td>PATRICK GARDNER   </td> <td>DEPUTY CHIEF OF DEPARTMENT,(FIRE DEPARTMENT)  </td> <td>134401.6 </td> <td>9737.0     </td> <td>182234.59</td> <td>nan     </td> <td>326373  </td> <td>326373          </td> <td>2011</td> <td>nan  </td> <td>San Francisco</td> <td>nan   </td>\n",
              "        </tr>\n",
              "        <tr>\n",
              "            <td>6   </td> <td>DAVID SULLIVAN    </td> <td>ASSISTANT DEPUTY CHIEF II                     </td> <td>118602.0 </td> <td>8601.0     </td> <td>189082.74</td> <td>nan     </td> <td>316286  </td> <td>316286          </td> <td>2011</td> <td>nan  </td> <td>San Francisco</td> <td>nan   </td>\n",
              "        </tr>\n",
              "        <tr>\n",
              "            <td>7   </td> <td>ALSON LEE         </td> <td>BATTALION CHIEF, (FIRE DEPARTMENT)            </td> <td>92492.01 </td> <td>89062.9    </td> <td>134426.14</td> <td>nan     </td> <td>315981  </td> <td>315981          </td> <td>2011</td> <td>nan  </td> <td>San Francisco</td> <td>nan   </td>\n",
              "        </tr>\n",
              "        <tr>\n",
              "            <td>8   </td> <td>DAVID KUSHNER     </td> <td>DEPUTY DIRECTOR OF INVESTMENTS                </td> <td>256576.96</td> <td>0.0        </td> <td>51322.5  </td> <td>nan     </td> <td>307899  </td> <td>307899          </td> <td>2011</td> <td>nan  </td> <td>San Francisco</td> <td>nan   </td>\n",
              "        </tr>\n",
              "        <tr>\n",
              "            <td>9   </td> <td>MICHAEL MORRIS    </td> <td>BATTALION CHIEF, (FIRE DEPARTMENT)            </td> <td>176932.64</td> <td>86362.68   </td> <td>40132.23 </td> <td>nan     </td> <td>303428  </td> <td>303428          </td> <td>2011</td> <td>nan  </td> <td>San Francisco</td> <td>nan   </td>\n",
              "        </tr>\n",
              "        <tr>\n",
              "            <td>10  </td> <td>JOANNE HAYES-WHITE</td> <td>CHIEF OF DEPARTMENT, (FIRE DEPARTMENT)        </td> <td>285262.0 </td> <td>0.0        </td> <td>17115.73 </td> <td>nan     </td> <td>302378  </td> <td>302378          </td> <td>2011</td> <td>nan  </td> <td>San Francisco</td> <td>nan   </td>\n",
              "        </tr>\n",
              "    </tbody>\n",
              "</table>\n",
              "<p>... (148644 rows omitted)</p>"
            ],
            "text/plain": [
              "<IPython.core.display.HTML object>"
            ]
          },
          "metadata": {
            "tags": []
          }
        }
      ]
    },
    {
      "cell_type": "code",
      "metadata": {
        "id": "6R7BIOhNBp3n",
        "colab_type": "code",
        "colab": {
          "base_uri": "https://localhost:8080/",
          "height": 1000
        },
        "outputId": "02143a9e-95bc-4c10-d45c-90bd5e07884b"
      },
      "source": [
        "Salarydata.show(23)"
      ],
      "execution_count": null,
      "outputs": [
        {
          "output_type": "display_data",
          "data": {
            "text/html": [
              "<table border=\"1\" class=\"dataframe\">\n",
              "    <thead>\n",
              "        <tr>\n",
              "            <th>Id</th> <th>EmployeeName</th> <th>JobTitle</th> <th>BasePay</th> <th>OvertimePay</th> <th>OtherPay</th> <th>Benefits</th> <th>TotalPay</th> <th>TotalPayBenefits</th> <th>Year</th> <th>Notes</th> <th>Agency</th> <th>Status</th>\n",
              "        </tr>\n",
              "    </thead>\n",
              "    <tbody>\n",
              "        <tr>\n",
              "            <td>1   </td> <td>NATHANIEL FORD    </td> <td>GENERAL MANAGER-METROPOLITAN TRANSIT AUTHORITY  </td> <td>167411.18</td> <td>0.0        </td> <td>400184.25</td> <td>nan     </td> <td>567595  </td> <td>567595          </td> <td>2011</td> <td>nan  </td> <td>San Francisco</td> <td>nan   </td>\n",
              "        </tr>\n",
              "        <tr>\n",
              "            <td>2   </td> <td>GARY JIMENEZ      </td> <td>CAPTAIN III (POLICE DEPARTMENT)                 </td> <td>155966.02</td> <td>245131.88  </td> <td>137811.38</td> <td>nan     </td> <td>538909  </td> <td>538909          </td> <td>2011</td> <td>nan  </td> <td>San Francisco</td> <td>nan   </td>\n",
              "        </tr>\n",
              "        <tr>\n",
              "            <td>3   </td> <td>ALBERT PARDINI    </td> <td>CAPTAIN III (POLICE DEPARTMENT)                 </td> <td>212739.13</td> <td>106088.18  </td> <td>16452.6  </td> <td>nan     </td> <td>335280  </td> <td>335280          </td> <td>2011</td> <td>nan  </td> <td>San Francisco</td> <td>nan   </td>\n",
              "        </tr>\n",
              "        <tr>\n",
              "            <td>4   </td> <td>CHRISTOPHER CHONG </td> <td>WIRE ROPE CABLE MAINTENANCE MECHANIC            </td> <td>77916.0  </td> <td>56120.71   </td> <td>198306.9 </td> <td>nan     </td> <td>332344  </td> <td>332344          </td> <td>2011</td> <td>nan  </td> <td>San Francisco</td> <td>nan   </td>\n",
              "        </tr>\n",
              "        <tr>\n",
              "            <td>5   </td> <td>PATRICK GARDNER   </td> <td>DEPUTY CHIEF OF DEPARTMENT,(FIRE DEPARTMENT)    </td> <td>134401.6 </td> <td>9737.0     </td> <td>182234.59</td> <td>nan     </td> <td>326373  </td> <td>326373          </td> <td>2011</td> <td>nan  </td> <td>San Francisco</td> <td>nan   </td>\n",
              "        </tr>\n",
              "        <tr>\n",
              "            <td>6   </td> <td>DAVID SULLIVAN    </td> <td>ASSISTANT DEPUTY CHIEF II                       </td> <td>118602.0 </td> <td>8601.0     </td> <td>189082.74</td> <td>nan     </td> <td>316286  </td> <td>316286          </td> <td>2011</td> <td>nan  </td> <td>San Francisco</td> <td>nan   </td>\n",
              "        </tr>\n",
              "        <tr>\n",
              "            <td>7   </td> <td>ALSON LEE         </td> <td>BATTALION CHIEF, (FIRE DEPARTMENT)              </td> <td>92492.01 </td> <td>89062.9    </td> <td>134426.14</td> <td>nan     </td> <td>315981  </td> <td>315981          </td> <td>2011</td> <td>nan  </td> <td>San Francisco</td> <td>nan   </td>\n",
              "        </tr>\n",
              "        <tr>\n",
              "            <td>8   </td> <td>DAVID KUSHNER     </td> <td>DEPUTY DIRECTOR OF INVESTMENTS                  </td> <td>256576.96</td> <td>0.0        </td> <td>51322.5  </td> <td>nan     </td> <td>307899  </td> <td>307899          </td> <td>2011</td> <td>nan  </td> <td>San Francisco</td> <td>nan   </td>\n",
              "        </tr>\n",
              "        <tr>\n",
              "            <td>9   </td> <td>MICHAEL MORRIS    </td> <td>BATTALION CHIEF, (FIRE DEPARTMENT)              </td> <td>176932.64</td> <td>86362.68   </td> <td>40132.23 </td> <td>nan     </td> <td>303428  </td> <td>303428          </td> <td>2011</td> <td>nan  </td> <td>San Francisco</td> <td>nan   </td>\n",
              "        </tr>\n",
              "        <tr>\n",
              "            <td>10  </td> <td>JOANNE HAYES-WHITE</td> <td>CHIEF OF DEPARTMENT, (FIRE DEPARTMENT)          </td> <td>285262.0 </td> <td>0.0        </td> <td>17115.73 </td> <td>nan     </td> <td>302378  </td> <td>302378          </td> <td>2011</td> <td>nan  </td> <td>San Francisco</td> <td>nan   </td>\n",
              "        </tr>\n",
              "        <tr>\n",
              "            <td>11  </td> <td>ARTHUR KENNEY     </td> <td>ASSISTANT CHIEF OF DEPARTMENT, (FIRE DEPARTMENT)</td> <td>194999.39</td> <td>71344.88   </td> <td>33149.9  </td> <td>nan     </td> <td>299494  </td> <td>299494          </td> <td>2011</td> <td>nan  </td> <td>San Francisco</td> <td>nan   </td>\n",
              "        </tr>\n",
              "        <tr>\n",
              "            <td>12  </td> <td>PATRICIA JACKSON  </td> <td>CAPTAIN III (POLICE DEPARTMENT)                 </td> <td>99722.0  </td> <td>87082.62   </td> <td>110804.3 </td> <td>nan     </td> <td>297609  </td> <td>297609          </td> <td>2011</td> <td>nan  </td> <td>San Francisco</td> <td>nan   </td>\n",
              "        </tr>\n",
              "        <tr>\n",
              "            <td>13  </td> <td>EDWARD HARRINGTON </td> <td>EXECUTIVE CONTRACT EMPLOYEE                     </td> <td>294580.02</td> <td>0.0        </td> <td>0.0      </td> <td>nan     </td> <td>294580  </td> <td>294580          </td> <td>2011</td> <td>nan  </td> <td>San Francisco</td> <td>nan   </td>\n",
              "        </tr>\n",
              "        <tr>\n",
              "            <td>14  </td> <td>JOHN MARTIN       </td> <td>DEPARTMENT HEAD V                               </td> <td>271329.03</td> <td>0.0        </td> <td>21342.59 </td> <td>nan     </td> <td>292672  </td> <td>292672          </td> <td>2011</td> <td>nan  </td> <td>San Francisco</td> <td>nan   </td>\n",
              "        </tr>\n",
              "        <tr>\n",
              "            <td>15  </td> <td>DAVID FRANKLIN    </td> <td>BATTALION CHIEF, (FIRE DEPARTMENT)              </td> <td>174872.64</td> <td>74050.3    </td> <td>37424.11 </td> <td>nan     </td> <td>286347  </td> <td>286347          </td> <td>2011</td> <td>nan  </td> <td>San Francisco</td> <td>nan   </td>\n",
              "        </tr>\n",
              "        <tr>\n",
              "            <td>16  </td> <td>RICHARD CORRIEA   </td> <td>COMMANDER III, (POLICE DEPARTMENT)              </td> <td>198778.01</td> <td>73478.2    </td> <td>13957.65 </td> <td>nan     </td> <td>286214  </td> <td>286214          </td> <td>2011</td> <td>nan  </td> <td>San Francisco</td> <td>nan   </td>\n",
              "        </tr>\n",
              "        <tr>\n",
              "            <td>17  </td> <td>AMY HART          </td> <td>DEPARTMENT HEAD V                               </td> <td>268604.57</td> <td>0.0        </td> <td>16115.86 </td> <td>nan     </td> <td>284720  </td> <td>284720          </td> <td>2011</td> <td>nan  </td> <td>San Francisco</td> <td>nan   </td>\n",
              "        </tr>\n",
              "        <tr>\n",
              "            <td>18  </td> <td>SEBASTIAN WONG    </td> <td>CAPTAIN, EMERGENCYCY MEDICAL SERVICES           </td> <td>140546.87</td> <td>119397.26  </td> <td>18625.08 </td> <td>nan     </td> <td>278569  </td> <td>278569          </td> <td>2011</td> <td>nan  </td> <td>San Francisco</td> <td>nan   </td>\n",
              "        </tr>\n",
              "        <tr>\n",
              "            <td>19  </td> <td>MARTY ROSS        </td> <td>BATTALION CHIEF, (FIRE DEPARTMENT)              </td> <td>168692.63</td> <td>69626.12   </td> <td>38115.47 </td> <td>nan     </td> <td>276434  </td> <td>276434          </td> <td>2011</td> <td>nan  </td> <td>San Francisco</td> <td>nan   </td>\n",
              "        </tr>\n",
              "        <tr>\n",
              "            <td>20  </td> <td>ELLEN MOFFATT     </td> <td>ASSISTANT MEDICAL EXAMINER                      </td> <td>257510.59</td> <td>880.16     </td> <td>16159.5  </td> <td>nan     </td> <td>274550  </td> <td>274550          </td> <td>2011</td> <td>nan  </td> <td>San Francisco</td> <td>nan   </td>\n",
              "        </tr>\n",
              "        <tr>\n",
              "            <td>21  </td> <td>VENUS AZAR        </td> <td>ASSISTANT MEDICAL EXAMINER                      </td> <td>257510.48</td> <td>0.0        </td> <td>16679.79 </td> <td>nan     </td> <td>274190  </td> <td>274190          </td> <td>2011</td> <td>nan  </td> <td>San Francisco</td> <td>nan   </td>\n",
              "        </tr>\n",
              "        <tr>\n",
              "            <td>22  </td> <td>JUDY MELINEK      </td> <td>ASSISTANT MEDICAL EXAMINER                      </td> <td>257510.44</td> <td>377.21     </td> <td>15883.56 </td> <td>nan     </td> <td>273771  </td> <td>273771          </td> <td>2011</td> <td>nan  </td> <td>San Francisco</td> <td>nan   </td>\n",
              "        </tr>\n",
              "        <tr>\n",
              "            <td>23  </td> <td>GEORGE GARCIA     </td> <td>CAPTAIN, FIRE SUPPRESSION                       </td> <td>140546.88</td> <td>93200.58   </td> <td>39955.25 </td> <td>nan     </td> <td>273703  </td> <td>273703          </td> <td>2011</td> <td>nan  </td> <td>San Francisco</td> <td>nan   </td>\n",
              "        </tr>\n",
              "    </tbody>\n",
              "</table>\n",
              "<p>... (148631 rows omitted)</p>"
            ],
            "text/plain": [
              "<IPython.core.display.HTML object>"
            ]
          },
          "metadata": {
            "tags": []
          }
        }
      ]
    },
    {
      "cell_type": "code",
      "metadata": {
        "id": "vDs45_2FBvTz",
        "colab_type": "code",
        "colab": {}
      },
      "source": [
        "Salary_Total=Salarydata.column('TotalPay')"
      ],
      "execution_count": null,
      "outputs": []
    },
    {
      "cell_type": "code",
      "metadata": {
        "id": "yB84GsvuCIT3",
        "colab_type": "code",
        "colab": {
          "base_uri": "https://localhost:8080/",
          "height": 51
        },
        "outputId": "374abd4f-e936-4542-b76a-63a5c35278b9"
      },
      "source": [
        "Salary_Total"
      ],
      "execution_count": null,
      "outputs": [
        {
          "output_type": "execute_result",
          "data": {
            "text/plain": [
              "array([567595.43, 538909.28, 335279.91, ...,      0.  ,      0.  ,\n",
              "         -618.13])"
            ]
          },
          "metadata": {
            "tags": []
          },
          "execution_count": 20
        }
      ]
    },
    {
      "cell_type": "code",
      "metadata": {
        "id": "kDHgOmq4CLCC",
        "colab_type": "code",
        "colab": {}
      },
      "source": [
        "sort_Salary_Total=Salarydata.sort('TotalPay')"
      ],
      "execution_count": null,
      "outputs": []
    },
    {
      "cell_type": "code",
      "metadata": {
        "id": "fxPBHmIvCZuu",
        "colab_type": "code",
        "colab": {
          "base_uri": "https://localhost:8080/",
          "height": 680
        },
        "outputId": "24ea48c1-5edb-4148-e73a-d44b8b11eff4"
      },
      "source": [
        "sort_Salary_Total"
      ],
      "execution_count": null,
      "outputs": [
        {
          "output_type": "execute_result",
          "data": {
            "text/html": [
              "<table border=\"1\" class=\"dataframe\">\n",
              "    <thead>\n",
              "        <tr>\n",
              "            <th>Id</th> <th>EmployeeName</th> <th>JobTitle</th> <th>BasePay</th> <th>OvertimePay</th> <th>OtherPay</th> <th>Benefits</th> <th>TotalPay</th> <th>TotalPayBenefits</th> <th>Year</th> <th>Notes</th> <th>Agency</th> <th>Status</th>\n",
              "        </tr>\n",
              "    </thead>\n",
              "    <tbody>\n",
              "        <tr>\n",
              "            <td>148654</td> <td>Joe Lopez         </td> <td>Counselor, Log Cabin Ranch                </td> <td>0.00   </td> <td>0.00       </td> <td>-618.13 </td> <td>0.00    </td> <td>-618.13 </td> <td>-618.13         </td> <td>2014</td> <td>nan  </td> <td>San Francisco</td> <td>PT    </td>\n",
              "        </tr>\n",
              "        <tr>\n",
              "            <td>36157 </td> <td>PAULETTE ADAMS    </td> <td>STATIONARY ENGINEER, WATER TREATMENT PLANT</td> <td>0.0    </td> <td>0.0        </td> <td>0.0     </td> <td>nan     </td> <td>0       </td> <td>0               </td> <td>2011</td> <td>nan  </td> <td>San Francisco</td> <td>nan   </td>\n",
              "        </tr>\n",
              "        <tr>\n",
              "            <td>36158 </td> <td>KAUKAB MOHSIN     </td> <td>TRANSIT OPERATOR                          </td> <td>0.0    </td> <td>0.0        </td> <td>0.0     </td> <td>nan     </td> <td>0       </td> <td>0               </td> <td>2011</td> <td>nan  </td> <td>San Francisco</td> <td>nan   </td>\n",
              "        </tr>\n",
              "        <tr>\n",
              "            <td>36159 </td> <td>JOSEPHINE MCCREARY</td> <td>MANAGER IV                                </td> <td>0.0    </td> <td>0.0        </td> <td>0.0     </td> <td>nan     </td> <td>0       </td> <td>0               </td> <td>2011</td> <td>nan  </td> <td>San Francisco</td> <td>nan   </td>\n",
              "        </tr>\n",
              "        <tr>\n",
              "            <td>70878 </td> <td>Roland Baylon     </td> <td>Deputy Court Clerk II                     </td> <td>0.0    </td> <td>0.0        </td> <td>0.0     </td> <td>3728.05 </td> <td>0       </td> <td>3728.05         </td> <td>2012</td> <td>nan  </td> <td>San Francisco</td> <td>nan   </td>\n",
              "        </tr>\n",
              "        <tr>\n",
              "            <td>70928 </td> <td>Felecia Phillips  </td> <td>Registered Nurse                          </td> <td>0.0    </td> <td>0.0        </td> <td>0.0     </td> <td>3618.13 </td> <td>0       </td> <td>3618.13         </td> <td>2012</td> <td>nan  </td> <td>San Francisco</td> <td>nan   </td>\n",
              "        </tr>\n",
              "        <tr>\n",
              "            <td>70929 </td> <td>Robert Giannini   </td> <td>Painter                                   </td> <td>0.0    </td> <td>0.0        </td> <td>0.0     </td> <td>3614.56 </td> <td>0       </td> <td>3614.56         </td> <td>2012</td> <td>nan  </td> <td>San Francisco</td> <td>nan   </td>\n",
              "        </tr>\n",
              "        <tr>\n",
              "            <td>70933 </td> <td>Nelly Kuan        </td> <td>Senior Eligibility Worker                 </td> <td>0.0    </td> <td>0.0        </td> <td>0.0     </td> <td>3610.32 </td> <td>0       </td> <td>3610.32         </td> <td>2012</td> <td>nan  </td> <td>San Francisco</td> <td>nan   </td>\n",
              "        </tr>\n",
              "        <tr>\n",
              "            <td>70934 </td> <td>William Mathews   </td> <td>Transit Power Line Worker                 </td> <td>0.0    </td> <td>0.0        </td> <td>0.0     </td> <td>3608.42 </td> <td>0       </td> <td>3608.42         </td> <td>2012</td> <td>nan  </td> <td>San Francisco</td> <td>nan   </td>\n",
              "        </tr>\n",
              "        <tr>\n",
              "            <td>70943 </td> <td>Gayle Mathews     </td> <td>Senior Collections Officer                </td> <td>0.0    </td> <td>0.0        </td> <td>0.0     </td> <td>3591.89 </td> <td>0       </td> <td>3591.89         </td> <td>2012</td> <td>nan  </td> <td>San Francisco</td> <td>nan   </td>\n",
              "        </tr>\n",
              "    </tbody>\n",
              "</table>\n",
              "<p>... (148644 rows omitted)</p>"
            ],
            "text/plain": [
              "Id     | EmployeeName       | JobTitle                                   | BasePay | OvertimePay | OtherPay | Benefits | TotalPay | TotalPayBenefits | Year | Notes | Agency        | Status\n",
              "148654 | Joe Lopez          | Counselor, Log Cabin Ranch                 | 0.00    | 0.00        | -618.13  | 0.00     | -618.13  | -618.13          | 2014 | nan   | San Francisco | PT\n",
              "36157  | PAULETTE ADAMS     | STATIONARY ENGINEER, WATER TREATMENT PLANT | 0.0     | 0.0         | 0.0      | nan      | 0        | 0                | 2011 | nan   | San Francisco | nan\n",
              "36158  | KAUKAB MOHSIN      | TRANSIT OPERATOR                           | 0.0     | 0.0         | 0.0      | nan      | 0        | 0                | 2011 | nan   | San Francisco | nan\n",
              "36159  | JOSEPHINE MCCREARY | MANAGER IV                                 | 0.0     | 0.0         | 0.0      | nan      | 0        | 0                | 2011 | nan   | San Francisco | nan\n",
              "70878  | Roland Baylon      | Deputy Court Clerk II                      | 0.0     | 0.0         | 0.0      | 3728.05  | 0        | 3728.05          | 2012 | nan   | San Francisco | nan\n",
              "70928  | Felecia Phillips   | Registered Nurse                           | 0.0     | 0.0         | 0.0      | 3618.13  | 0        | 3618.13          | 2012 | nan   | San Francisco | nan\n",
              "70929  | Robert Giannini    | Painter                                    | 0.0     | 0.0         | 0.0      | 3614.56  | 0        | 3614.56          | 2012 | nan   | San Francisco | nan\n",
              "70933  | Nelly Kuan         | Senior Eligibility Worker                  | 0.0     | 0.0         | 0.0      | 3610.32  | 0        | 3610.32          | 2012 | nan   | San Francisco | nan\n",
              "70934  | William Mathews    | Transit Power Line Worker                  | 0.0     | 0.0         | 0.0      | 3608.42  | 0        | 3608.42          | 2012 | nan   | San Francisco | nan\n",
              "70943  | Gayle Mathews      | Senior Collections Officer                 | 0.0     | 0.0         | 0.0      | 3591.89  | 0        | 3591.89          | 2012 | nan   | San Francisco | nan\n",
              "... (148644 rows omitted)"
            ]
          },
          "metadata": {
            "tags": []
          },
          "execution_count": 22
        }
      ]
    },
    {
      "cell_type": "code",
      "metadata": {
        "id": "YY3JBUvGCeaj",
        "colab_type": "code",
        "colab": {}
      },
      "source": [
        "sort_Salary_Total=Salarydata.sort('TotalPay', descending=True)"
      ],
      "execution_count": null,
      "outputs": []
    },
    {
      "cell_type": "code",
      "metadata": {
        "id": "VM1bz7a6Cnj6",
        "colab_type": "code",
        "colab": {
          "base_uri": "https://localhost:8080/",
          "height": 646
        },
        "outputId": "eab4fd16-26ee-4271-ae0a-bd011cbec188"
      },
      "source": [
        "sort_Salary_Total"
      ],
      "execution_count": null,
      "outputs": [
        {
          "output_type": "execute_result",
          "data": {
            "text/html": [
              "<table border=\"1\" class=\"dataframe\">\n",
              "    <thead>\n",
              "        <tr>\n",
              "            <th>Id</th> <th>EmployeeName</th> <th>JobTitle</th> <th>BasePay</th> <th>OvertimePay</th> <th>OtherPay</th> <th>Benefits</th> <th>TotalPay</th> <th>TotalPayBenefits</th> <th>Year</th> <th>Notes</th> <th>Agency</th> <th>Status</th>\n",
              "        </tr>\n",
              "    </thead>\n",
              "    <tbody>\n",
              "        <tr>\n",
              "            <td>1     </td> <td>NATHANIEL FORD      </td> <td>GENERAL MANAGER-METROPOLITAN TRANSIT AUTHORITY</td> <td>167411.18</td> <td>0.0        </td> <td>400184.25</td> <td>nan     </td> <td>567595  </td> <td>567595          </td> <td>2011</td> <td>nan  </td> <td>San Francisco</td> <td>nan   </td>\n",
              "        </tr>\n",
              "        <tr>\n",
              "            <td>2     </td> <td>GARY JIMENEZ        </td> <td>CAPTAIN III (POLICE DEPARTMENT)               </td> <td>155966.02</td> <td>245131.88  </td> <td>137811.38</td> <td>nan     </td> <td>538909  </td> <td>538909          </td> <td>2011</td> <td>nan  </td> <td>San Francisco</td> <td>nan   </td>\n",
              "        </tr>\n",
              "        <tr>\n",
              "            <td>110532</td> <td>David Shinn         </td> <td>Deputy Chief 3                                </td> <td>129150.01</td> <td>0.0        </td> <td>342802.63</td> <td>38780.04</td> <td>471953  </td> <td>510733          </td> <td>2014</td> <td>nan  </td> <td>San Francisco</td> <td>PT    </td>\n",
              "        </tr>\n",
              "        <tr>\n",
              "            <td>110533</td> <td>Amy P Hart          </td> <td>Asst Med Examiner                             </td> <td>318835.49</td> <td>10712.95   </td> <td>60563.54 </td> <td>89540.23</td> <td>390112  </td> <td>479652          </td> <td>2014</td> <td>nan  </td> <td>San Francisco</td> <td>FT    </td>\n",
              "        </tr>\n",
              "        <tr>\n",
              "            <td>36160 </td> <td>Gary Altenberg      </td> <td>Lieutenant, Fire Suppression                  </td> <td>128808.87</td> <td>220909.48  </td> <td>13126.31 </td> <td>44430.12</td> <td>362845  </td> <td>407275          </td> <td>2012</td> <td>nan  </td> <td>San Francisco</td> <td>nan   </td>\n",
              "        </tr>\n",
              "        <tr>\n",
              "            <td>36168 </td> <td>John Goldberg       </td> <td>Captain 3                                     </td> <td>104404.0 </td> <td>0.0        </td> <td>245999.41</td> <td>24287.23</td> <td>350403  </td> <td>374691          </td> <td>2012</td> <td>nan  </td> <td>San Francisco</td> <td>nan   </td>\n",
              "        </tr>\n",
              "        <tr>\n",
              "            <td>72928 </td> <td>Samson  Lai         </td> <td>Battalion Chief, Fire Suppress                </td> <td>186236.42</td> <td>131217.63  </td> <td>29648.27 </td> <td>57064.95</td> <td>347102  </td> <td>404167          </td> <td>2013</td> <td>nan  </td> <td>San Francisco</td> <td>nan   </td>\n",
              "        </tr>\n",
              "        <tr>\n",
              "            <td>110537</td> <td>Ellen G Moffatt     </td> <td>Asst Med Examiner                             </td> <td>270222.04</td> <td>6009.22    </td> <td>67956.2  </td> <td>71580.48</td> <td>344187  </td> <td>415768          </td> <td>2014</td> <td>nan  </td> <td>San Francisco</td> <td>FT    </td>\n",
              "        </tr>\n",
              "        <tr>\n",
              "            <td>110534</td> <td>William J Coaker Jr.</td> <td>Chief Investment Officer                      </td> <td>257340.0 </td> <td>0.0        </td> <td>82313.7  </td> <td>96570.66</td> <td>339654  </td> <td>436224          </td> <td>2014</td> <td>nan  </td> <td>San Francisco</td> <td>PT    </td>\n",
              "        </tr>\n",
              "        <tr>\n",
              "            <td>72926 </td> <td>Gregory P Suhr      </td> <td>Chief of Police                               </td> <td>319275.01</td> <td>0.0        </td> <td>20007.06 </td> <td>86533.21</td> <td>339282  </td> <td>425815          </td> <td>2013</td> <td>nan  </td> <td>San Francisco</td> <td>nan   </td>\n",
              "        </tr>\n",
              "    </tbody>\n",
              "</table>\n",
              "<p>... (148644 rows omitted)</p>"
            ],
            "text/plain": [
              "Id     | EmployeeName         | JobTitle                                       | BasePay   | OvertimePay | OtherPay  | Benefits | TotalPay | TotalPayBenefits | Year | Notes | Agency        | Status\n",
              "1      | NATHANIEL FORD       | GENERAL MANAGER-METROPOLITAN TRANSIT AUTHORITY | 167411.18 | 0.0         | 400184.25 | nan      | 567595   | 567595           | 2011 | nan   | San Francisco | nan\n",
              "2      | GARY JIMENEZ         | CAPTAIN III (POLICE DEPARTMENT)                | 155966.02 | 245131.88   | 137811.38 | nan      | 538909   | 538909           | 2011 | nan   | San Francisco | nan\n",
              "110532 | David Shinn          | Deputy Chief 3                                 | 129150.01 | 0.0         | 342802.63 | 38780.04 | 471953   | 510733           | 2014 | nan   | San Francisco | PT\n",
              "110533 | Amy P Hart           | Asst Med Examiner                              | 318835.49 | 10712.95    | 60563.54  | 89540.23 | 390112   | 479652           | 2014 | nan   | San Francisco | FT\n",
              "36160  | Gary Altenberg       | Lieutenant, Fire Suppression                   | 128808.87 | 220909.48   | 13126.31  | 44430.12 | 362845   | 407275           | 2012 | nan   | San Francisco | nan\n",
              "36168  | John Goldberg        | Captain 3                                      | 104404.0  | 0.0         | 245999.41 | 24287.23 | 350403   | 374691           | 2012 | nan   | San Francisco | nan\n",
              "72928  | Samson  Lai          | Battalion Chief, Fire Suppress                 | 186236.42 | 131217.63   | 29648.27  | 57064.95 | 347102   | 404167           | 2013 | nan   | San Francisco | nan\n",
              "110537 | Ellen G Moffatt      | Asst Med Examiner                              | 270222.04 | 6009.22     | 67956.2   | 71580.48 | 344187   | 415768           | 2014 | nan   | San Francisco | FT\n",
              "110534 | William J Coaker Jr. | Chief Investment Officer                       | 257340.0  | 0.0         | 82313.7   | 96570.66 | 339654   | 436224           | 2014 | nan   | San Francisco | PT\n",
              "72926  | Gregory P Suhr       | Chief of Police                                | 319275.01 | 0.0         | 20007.06  | 86533.21 | 339282   | 425815           | 2013 | nan   | San Francisco | nan\n",
              "... (148644 rows omitted)"
            ]
          },
          "metadata": {
            "tags": []
          },
          "execution_count": 24
        }
      ]
    },
    {
      "cell_type": "code",
      "metadata": {
        "id": "zu7o6t7PCriC",
        "colab_type": "code",
        "colab": {}
      },
      "source": [
        ""
      ],
      "execution_count": null,
      "outputs": []
    }
  ]
}